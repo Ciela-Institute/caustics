{
 "cells": [
  {
   "cell_type": "code",
   "execution_count": 2,
   "id": "21bbf616",
   "metadata": {},
   "outputs": [],
   "source": [
    "import numpy as np\n",
    "import matplotlib.pyplot as plt\n",
    "from astropy.visualization import ImageNormalize, LogStretch\n",
    "from astropy.io import fits\n",
    "import astropy.units as units\n",
    "from astropy.wcs import WCS\n",
    "from astropy.coordinates import SkyCoord\n",
    "from astropy.nddata import Cutout2D\n",
    "\n",
    "import matplotlib.pylab as pylab\n",
    "\n",
    "plt.style.use(\"science\") # requires SciencePlots\n",
    "params = {\n",
    "         'figure.figsize': (10, 10),\n",
    "         'legend.fontsize': 20,\n",
    "         'axes.labelsize': 25,\n",
    "         'axes.titlesize': 25,\n",
    "         'ytick.labelsize' :18,\n",
    "         'xtick.labelsize' :18,\n",
    "         'xtick.major.size': 8,\n",
    "         'xtick.minor.size': 4,\n",
    "         'xtick.major.width': 1,\n",
    "         'xtick.minor.width': 1,\n",
    "         'ytick.color':\"w\", # comment this if you prefer whit background\n",
    "         'xtick.color':\"w\",\n",
    "         'axes.labelcolor': \"w\"\n",
    "         }\n",
    "pylab.rcParams.update(params)\n",
    "\n",
    "# Very useful to have in general to find coordinates of stars and such\n",
    "# from photutils import DAOStarFinder\n",
    "# from astropy.stats import sigma_clipped_stats"
   ]
  },
  {
   "cell_type": "code",
   "execution_count": null,
   "id": "90472077",
   "metadata": {},
   "outputs": [],
   "source": [
    "# To get this data, go on Hubble archive etc. Provide a script to do this\n",
    "hf = fits.open(\"../data/SDSSJ0029-0055_drc.fits\")"
   ]
  },
  {
   "cell_type": "code",
   "execution_count": 3,
   "id": "038c2d50",
   "metadata": {},
   "outputs": [],
   "source": [
    "# Show cutout, now let's get to work on getting the science cutout and noise statis\n",
    "# -> user provide coordinate for both"
   ]
  },
  {
   "cell_type": "code",
   "execution_count": 4,
   "id": "2695cc38",
   "metadata": {},
   "outputs": [],
   "source": [
    "# Let's workout a PSF by looking at neighboring stars -> user provided PSF"
   ]
  },
  {
   "cell_type": "code",
   "execution_count": 5,
   "id": "1bb52bbc",
   "metadata": {},
   "outputs": [],
   "source": [
    "# Now we need to provide a mask for the lens light"
   ]
  },
  {
   "cell_type": "code",
   "execution_count": 6,
   "id": "b2ddf339",
   "metadata": {},
   "outputs": [],
   "source": [
    "# Do we fit the lens light first? Here is how we would do this"
   ]
  },
  {
   "cell_type": "code",
   "execution_count": 7,
   "id": "d56d10a5",
   "metadata": {},
   "outputs": [],
   "source": [
    "# If we want to fit both the lens light and the lens params, here how we do this"
   ]
  },
  {
   "cell_type": "code",
   "execution_count": 8,
   "id": "e1981c3a",
   "metadata": {},
   "outputs": [],
   "source": [
    "# ..."
   ]
  },
  {
   "cell_type": "code",
   "execution_count": null,
   "id": "daef44c1",
   "metadata": {},
   "outputs": [],
   "source": []
  }
 ],
 "metadata": {
  "kernelspec": {
   "display_name": "Caustic",
   "language": "python",
   "name": "caustic"
  },
  "language_info": {
   "codemirror_mode": {
    "name": "ipython",
    "version": 3
   },
   "file_extension": ".py",
   "mimetype": "text/x-python",
   "name": "python",
   "nbconvert_exporter": "python",
   "pygments_lexer": "ipython3",
   "version": "3.8.16"
  }
 },
 "nbformat": 4,
 "nbformat_minor": 5
}
