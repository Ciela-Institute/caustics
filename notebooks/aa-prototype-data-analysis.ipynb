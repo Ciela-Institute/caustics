{
 "cells": [
  {
   "cell_type": "code",
   "execution_count": 2,
   "id": "cd0b90ae-6d22-4af9-a55f-eba90226f99d",
   "metadata": {},
   "outputs": [],
   "source": [
    "import numpy as np\n",
    "import matplotlib.pyplot as plt\n",
    "from astropy.visualization import ImageNormalize, LogStretch\n",
    "from astropy.io import fits\n",
    "import astropy.units as units\n",
    "from astropy.wcs import WCS\n",
    "from astropy.coordinates import SkyCoord\n",
    "from astropy.nddata import Cutout2D\n",
    "\n",
    "import matplotlib.pylab as pylab\n",
    "\n",
    "plt.style.use(\"science\") # requires SciencePlots\n",
    "params = {\n",
    "         'figure.figsize': (10, 10),\n",
    "         'legend.fontsize': 20,\n",
    "         'axes.labelsize': 25,\n",
    "         'axes.titlesize': 25,\n",
    "         'ytick.labelsize' :18,\n",
    "         'xtick.labelsize' :18,\n",
    "         'xtick.major.size': 8,\n",
    "         'xtick.minor.size': 4,\n",
    "         'xtick.major.width': 1,\n",
    "         'xtick.minor.width': 1,\n",
    "         'ytick.color':\"w\", # comment this if you prefer whit background\n",
    "         'xtick.color':\"w\",\n",
    "         'axes.labelcolor': \"w\"\n",
    "         }\n",
    "pylab.rcParams.update(params)\n",
    "\n",
    "# Very useful to have in general to find coordinates of stars and such\n",
    "# from photutils import DAOStarFinder\n",
    "# from astropy.stats import sigma_clipped_stats"
   ]
  },
  {
   "cell_type": "code",
   "execution_count": null,
   "id": "8caf2967-e50a-4826-9d9f-13c0a3bb67a6",
   "metadata": {},
   "outputs": [],
   "source": [
    "# To get this data, go on Hubble archive etc. Provide a script to do this\n",
    "hf = fits.open(\"../data/SDSSJ0029-0055_drc.fits\")"
   ]
  },
  {
   "cell_type": "code",
   "execution_count": 3,
   "id": "201d2db8-94cb-4e9d-bb4a-c6ca3b5671b9",
   "metadata": {},
   "outputs": [],
   "source": [
    "# Show cutout, now let's get to work on getting the science cutout and noise statis\n",
    "# -> user provide coordinate for both"
   ]
  },
  {
   "cell_type": "code",
   "execution_count": 4,
   "id": "e2cd3e37-4800-4b7e-8429-14d976d8e1f2",
   "metadata": {},
   "outputs": [],
   "source": [
    "# Let's workout a PSF by looking at neighboring stars -> user provided PSF"
   ]
  },
  {
   "cell_type": "code",
   "execution_count": 5,
   "id": "afba1dbd-f7b8-4f55-b657-a592407c2ae6",
   "metadata": {},
   "outputs": [],
   "source": [
    "# Now we need to provide a mask for the lens light"
   ]
  },
  {
   "cell_type": "code",
   "execution_count": 6,
   "id": "a9682e88-355a-4e66-be3e-e252c804899f",
   "metadata": {},
   "outputs": [],
   "source": [
    "# Do we fit the lens light first? Here is how we would do this"
   ]
  },
  {
   "cell_type": "code",
   "execution_count": 7,
   "id": "fc865ea7-a28a-4426-9382-fcfb50bad065",
   "metadata": {},
   "outputs": [],
   "source": [
    "# If we want to fit both the lens light and the lens params, here how we do this"
   ]
  },
  {
   "cell_type": "code",
   "execution_count": 8,
   "id": "75670535-2694-4406-a808-c55f2ce334c9",
   "metadata": {},
   "outputs": [],
   "source": [
    "# ..."
   ]
  },
  {
   "cell_type": "code",
   "execution_count": null,
   "id": "bf30cb50-7ca5-4b3b-b545-d32419c28f64",
   "metadata": {},
   "outputs": [],
   "source": []
  }
 ],
 "metadata": {
  "kernelspec": {
   "display_name": "caustic",
   "language": "python",
   "name": "caustic"
  },
  "language_info": {
   "codemirror_mode": {
    "name": "ipython",
    "version": 3
   },
   "file_extension": ".py",
   "mimetype": "text/x-python",
   "name": "python",
   "nbconvert_exporter": "python",
   "pygments_lexer": "ipython3",
   "version": "3.8.13"
  }
 },
 "nbformat": 4,
 "nbformat_minor": 5
}
