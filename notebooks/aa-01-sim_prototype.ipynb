{
 "cells": [
  {
   "cell_type": "code",
   "execution_count": 1,
   "id": "44fcc15e",
   "metadata": {},
   "outputs": [],
   "source": [
    "import numpy as np\n",
    "import torch\n",
    "from functorch import vmap, grad\n",
    "from caustic.sources import Sersic\n",
    "from caustic.lenses import SIE\n",
    "from caustic.utils import get_meshgrid"
   ]
  },
  {
   "cell_type": "markdown",
   "id": "4428f8ab",
   "metadata": {},
   "source": [
    "# Sketch\n",
    "\n",
    "- User creates a class Pytorch style, where he creates the modules he/she needs (Source, Lens, etc.) in the ```__init__``` and the computational graph in the ```forward``` method.\n",
    "\n",
    "- All **static parameters** are created and defined in ```__init__``` method, and the rest are left as **dynamic parameters** to be inferred.\n",
    "\n",
    "- The Simulator class knows automatically the distinction by reading off the parameters from its modules.\n",
    "\n",
    "### Static parameter\n",
    "A parameter fixed during inference/simulation. For example, we might want to fix the cosmology unless we are doing time-delay cosmography. Then, $H_0$ will be considered a **static parameter**, or hyperparameter. \n",
    "\n",
    "In our context, a static parameter will simply be whatever needs to be defined in the ```__init___``` method.\n",
    "\n",
    "### Dynamic parameter\n",
    "A parameter that we wish to infer. The value of this parameter is not known in advance by our simulator (remains undefined in the ```__init__``` method). In other words, it will be part of the $\\mathbf{x}$ tensor fed into the forward method of the simulator. \n",
    "\n",
    "### Sketch\n",
    "```\n",
    "class Sketch1(Simulator):\n",
    "    def __init__(self, **static_parameters, **hyperparameters, device=DEVICE):\n",
    "        self.source = Sersic(**static_parameters, name=\"source\", device=device)\n",
    "        self.lens = SIE(**static_parameters, name=\"lens\", device=device)\n",
    "        self.instruments = Instruments(**static_parameters, name=\"instruments\", device=DEVICE)\n",
    "        \n",
    "        self.cosmology = FlatLambdaCDM(**static_parameters)\n",
    "        self.thx, self.thy = get_meshgrid(**hyperparameters)\n",
    "        self.zl, self.zs = **hyperparameters\n",
    "    \n",
    "    @vmap\n",
    "    def forward(x):\n",
    "        x = self.transform_to_physical(x)\n",
    "        ax, ay = self.lens.alpha(self.thx, self.thy, self.zl, self.zs, self.cosmology, x[\"lens\"])\n",
    "        y = self.source.brightness(self.thx - ax, self.thy - ay, x[\"source\"])\n",
    "        y = self.instruments.observe(y, x[\"instruments\"])\n",
    "        return y\n",
    "        \n",
    "```\n",
    "\n",
    "### What do we need to accomplish such a control flow?\n",
    "- Every module need to know what their parameters are, as well as their numerical constraints. Thus we need 2 things\n",
    "    1. Create a Parameter class\n",
    "    2. Redefine the ```__init__``` of every module in a way to can catch static parameters, and leave undefined the dynamic parameters. \n",
    "- The Simulator module will need to know about its dynamic parameters so that the user can easily get access to the structure of $\\mathbf{x}$."
   ]
  },
  {
   "cell_type": "code",
   "execution_count": 122,
   "id": "c0d1d075",
   "metadata": {},
   "outputs": [],
   "source": [
    "import torch\n",
    "from torch.distributions import transform_to, biject_to\n",
    "from torch.distributions.constraints import Constraint\n",
    "\n",
    "class Parameter:\n",
    "    def __init__(self, value: float, name: str, index: int, dimension: list, constraints: Constraint, bijective_transform=False, device=torch.device(\"cpu\")):\n",
    "        self.constraints = constraints\n",
    "        self.dimension = dimension\n",
    "        self.name = name\n",
    "        self.index = index\n",
    "        if value is None:\n",
    "            self._dynamic = True\n",
    "            self._value = None\n",
    "        else:\n",
    "            self._dynamic = False\n",
    "            self._value = torch.tensor([value]).to(device)\n",
    "        if bijective_transform:\n",
    "            self.transform = biject_to(constraints)\n",
    "        else:\n",
    "            self.transform = transform_to(constraints)\n",
    "    \n",
    "    @property\n",
    "    def dynamic(self):\n",
    "        return self._dynamic\n",
    "    \n",
    "    # TODO redefine the setter of this so that changing the setting the value also change the state of the class\n",
    "    @property\n",
    "    def value(self):\n",
    "        return self._value\n",
    "        \n",
    "\n",
    "    def constrained_value(self, x):\n",
    "        return self.transform(x)\n",
    "\n",
    "    def __repr__(self):\n",
    "        return self.name\n"
   ]
  },
  {
   "cell_type": "code",
   "execution_count": 149,
   "id": "0fe3cc2d",
   "metadata": {},
   "outputs": [],
   "source": [
    "import torch\n",
    "from torch.distributions import constraints as C\n",
    "\n",
    "from caustic.utils import derotate, translate_rotate\n",
    "from caustic.lenses.base import ThinLens\n",
    "\n",
    "\n",
    "class SIE(ThinLens):\n",
    "    \"\"\"\n",
    "    References:\n",
    "        Keeton 2001, https://arxiv.org/abs/astro-ph/0102341\n",
    "    \"\"\"\n",
    "\n",
    "    def __init__(self, name=\"sie\", thx0=None, thy0=None, q=None, phi=None, b=None, s=0.0, device=torch.device(\"cpu\")):\n",
    "        super().__init__(device)\n",
    "        self.module = None # just create a hook to let Simulator know there are potentially dynamical parameters here\n",
    "        self.name = name\n",
    "        \n",
    "        # Here we store the parameters. Then we can recover the named parameters (kwargs) from these two list at inference time\n",
    "        self.static_parameters = []  # these will be properties of the class, since they are required for all \"modules\" of caustic\n",
    "        self.dynamic_parameters = []\n",
    "        constraints = {\"x0\": C.real, \"y0\": C.real, \"q\": C.interval(0.05, 1), \"phi\": C.real, \"b\": C.positive, \"s\": C.positive}\n",
    "        for i, (k, p) in enumerate({\"x0\": thx0, \"y0\": thy0, \"q\": q, \"phi\": phi, \"b\": b, \"s\": s}.items()):\n",
    "            if p is None:\n",
    "                self.dynamic_parameters.append(\n",
    "                    Parameter(p, name=k, index=i, dimension=[1], constraints=constraints[k], device=device)\n",
    "                )\n",
    "            else:\n",
    "                self.static_parameters.append(\n",
    "                    Parameter(p, name=k, index=i, dimension=[1], constraints=constraints[k], device=device)\n",
    "                )\n",
    "\n",
    "    def untangle_x(self, x): # This should be a base class method, since we will always be working from static and dynamic lists\n",
    "        assert x.shape[0] == len(self.dynamic_parameters) # for now, assume there is no batch dimensions. \n",
    "        D = len(self.dynamic_parameters)\n",
    "        p = list(torch.tensor_split(x, D, dim=0)) + [p.value for p in self.static_parameters] # get all parameters in a list\n",
    "        i_map = np.argsort([p.index for p in self.dynamic_parameters] + [p.index for p in self.static_parameters]) # get their order so that all methods of this class can work\n",
    "        return [p[i] for i in i_map]\n",
    "        \n",
    "    def _get_psi(self, x, y, q, s):\n",
    "        return (q**2 * (x**2 + s**2) + y**2).sqrt()\n",
    "\n",
    "    def alpha(self, thx, thy, z_l, z_s, cosmology, x):\n",
    "        thx0, thy0, q, phi, b, s = self.untangle_x(x)  # We infer the value of each parameter at inference time from static and dynamic lists.   \n",
    "        thx, thy = translate_rotate(thx, thy, thx0, thy0, phi)\n",
    "        psi = self._get_psi(thx, thy, q, s)\n",
    "        f = (1 - q**2).sqrt()\n",
    "        ax = b * q.sqrt() / f * (f * thx / (psi + s)).atan()\n",
    "        ay = b * q.sqrt() / f * (f * thy / (psi + q**2 * s)).atanh()\n",
    "\n",
    "        return derotate(ax, ay, phi)\n",
    "\n",
    "    def Psi(self, thx, thy, z_l, z_s, cosmology, x):\n",
    "        thx0, thy0, q, phi, b, s = self.untangle_x(x)  # We infer the value of each parameter at inference time from static and dynamic lists.   \n",
    "        thx, thy = translate_rotate(thx, thy, thx0, thy0, phi)\n",
    "        # Only transform coordinates once: pass thx0=0, thy=0, phi=None to alpha\n",
    "        ax, ay = self.alpha(thx, thy, z_l, z_s, cosmology, 0.0, 0.0, q, None, b, s)\n",
    "        return thx * ax + thy * ay\n",
    "\n",
    "    def kappa(self, thx, thy, z_l, z_s, cosmology, x):\n",
    "        thx0, thy0, q, phi, b, s = self.untangle_x(x)  # We infer the value of each parameter at inference time from static and dynamic lists.\n",
    "        thx, thy = translate_rotate(thx, thy, thx0, thy0, phi)\n",
    "        psi = self._get_psi(thx, thy, q, s)\n",
    "        return 0.5 * q.sqrt() * b / psi\n"
   ]
  },
  {
   "cell_type": "code",
   "execution_count": 150,
   "id": "e3023776",
   "metadata": {},
   "outputs": [
    {
     "name": "stdout",
     "output_type": "stream",
     "text": [
      "I found the hook\n"
     ]
    }
   ],
   "source": [
    "# skecthing out how the hook will work\n",
    "class Sketch1:\n",
    "    def __init__(self):\n",
    "        self.source = SIE()\n",
    "sim = Sketch1()\n",
    "sie = SIE(thx0=10.0)\n",
    "\n",
    "# This loops accross attributes in search of the hook. This is the idea of how we will catch all parameters from the Simulator point of view, at inference time!\n",
    "for module in [k for k, v in vars(sim).items() if not k.startswith('_')]:\n",
    "    for m2 in [k for k,v in vars(getattr(sim, module)).items() if not k.startswith('_')]:\n",
    "        if m2 == \"module\":\n",
    "            print(\"I found the hook\")"
   ]
  },
  {
   "cell_type": "code",
   "execution_count": 151,
   "id": "37efe604",
   "metadata": {},
   "outputs": [
    {
     "data": {
      "text/plain": [
       "0"
      ]
     },
     "execution_count": 151,
     "metadata": {},
     "output_type": "execute_result"
    }
   ],
   "source": [
    "sie.static_parameters[0].index"
   ]
  },
  {
   "cell_type": "code",
   "execution_count": 152,
   "id": "250846f6",
   "metadata": {},
   "outputs": [
    {
     "data": {
      "text/plain": [
       "[y0, q, phi, b]"
      ]
     },
     "execution_count": 152,
     "metadata": {},
     "output_type": "execute_result"
    }
   ],
   "source": [
    "sie.dynamic_parameters"
   ]
  },
  {
   "cell_type": "code",
   "execution_count": 153,
   "id": "2fd0ce56",
   "metadata": {},
   "outputs": [
    {
     "data": {
      "text/plain": [
       "[tensor([10.]),\n",
       " tensor([0]),\n",
       " tensor([1]),\n",
       " tensor([2]),\n",
       " tensor([3]),\n",
       " tensor([0.])]"
      ]
     },
     "execution_count": 153,
     "metadata": {},
     "output_type": "execute_result"
    }
   ],
   "source": [
    "sie.untangle_x(torch.arange(4))"
   ]
  },
  {
   "cell_type": "code",
   "execution_count": 66,
   "id": "d5da068c",
   "metadata": {},
   "outputs": [],
   "source": [
    "from caustic.utils import to_elliptical, translate_rotate\n",
    "from caustic.sources.base import Source\n",
    "\n",
    "\n",
    "class Sersic(Source):\n",
    "    \n",
    "    def __init__(self, device=torch.device(\"cpu\"), use_lenstronomy_k=False):\n",
    "        \"\"\"\n",
    "        Args:\n",
    "            lenstronomy_k_mode: set to `True` to calculate k in the Sersic exponential\n",
    "                using the same formula as lenstronomy. Intended primarily for testing.\n",
    "        \"\"\"\n",
    "        super().__init__(device)\n",
    "        self.lenstronomy_k_mode = use_lenstronomy_k\n",
    "\n",
    "    def brightness(self, thx, thy, thx0, thy0, q, phi, index, th_e, I_e, s=None):\n",
    "        s = torch.tensor(0.0, device=self.device, dtype=thx0.dtype) if s is None else s\n",
    "        thx, thy = translate_rotate(thx, thy, thx0, thy0, phi)\n",
    "        ex, ey = to_elliptical(thx, thy, q)\n",
    "        e = (ex**2 + ey**2).sqrt() + s\n",
    "\n",
    "        if self.lenstronomy_k_mode:\n",
    "            k = 1.9992 * index - 0.3271\n",
    "        else:\n",
    "            k = 2 * index - 1 / 3 + 4 / 405 / index + 46 / 25515 / index**2\n",
    "\n",
    "        exponent = -k * ((e / th_e) ** (1 / index) - 1)\n",
    "        return I_e * exponent.exp()"
   ]
  },
  {
   "cell_type": "code",
   "execution_count": null,
   "id": "63b10766",
   "metadata": {},
   "outputs": [],
   "source": [
    "class Simulator:\n",
    "    def __init__(self, device=torch.device(\"cpu\")):\n",
    "        "
   ]
  },
  {
   "cell_type": "code",
   "execution_count": 19,
   "id": "ec8b5dc9",
   "metadata": {},
   "outputs": [],
   "source": [
    "class Sketch(Simulator):\n",
    "    def __init__(self, **hyperparameters):\n",
    "        self.source = Sersic()\n",
    "        self.lens = SIE()\n",
    "        \n",
    "        self.thx, self.thy = get_meshgrid(0.04, 128, 128)\n",
    "        \n",
    "    def forward(self, x):\n",
    "        alpha_x, alpha_y = self.lens.alpha(self.thx, self.thy, x[\"lens\"])"
   ]
  },
  {
   "cell_type": "code",
   "execution_count": 20,
   "id": "e92808c7",
   "metadata": {},
   "outputs": [
    {
     "ename": "TypeError",
     "evalue": "alpha() missing 10 required positional arguments: 'thx', 'thy', 'z_l', 'z_s', 'cosmology', 'thx0', 'thy0', 'q', 'phi', and 'b'",
     "output_type": "error",
     "traceback": [
      "\u001b[0;31m---------------------------------------------------------------------------\u001b[0m",
      "\u001b[0;31mTypeError\u001b[0m                                 Traceback (most recent call last)",
      "Cell \u001b[0;32mIn[20], line 2\u001b[0m\n\u001b[1;32m      1\u001b[0m sim \u001b[38;5;241m=\u001b[39m Simulation()\n\u001b[0;32m----> 2\u001b[0m \u001b[43msim\u001b[49m\u001b[38;5;241;43m.\u001b[39;49m\u001b[43mforward\u001b[49m\u001b[43m(\u001b[49m\u001b[38;5;28;43;01mNone\u001b[39;49;00m\u001b[43m)\u001b[49m\n",
      "Cell \u001b[0;32mIn[19], line 9\u001b[0m, in \u001b[0;36mSimulation.forward\u001b[0;34m(self, x)\u001b[0m\n\u001b[1;32m      8\u001b[0m \u001b[38;5;28;01mdef\u001b[39;00m \u001b[38;5;21mforward\u001b[39m(\u001b[38;5;28mself\u001b[39m, x):\n\u001b[0;32m----> 9\u001b[0m     alpha_x, alpha_y \u001b[38;5;241m=\u001b[39m \u001b[38;5;28;43mself\u001b[39;49m\u001b[38;5;241;43m.\u001b[39;49m\u001b[43mlens\u001b[49m\u001b[38;5;241;43m.\u001b[39;49m\u001b[43malpha\u001b[49m\u001b[43m(\u001b[49m\u001b[43m)\u001b[49m\n",
      "\u001b[0;31mTypeError\u001b[0m: alpha() missing 10 required positional arguments: 'thx', 'thy', 'z_l', 'z_s', 'cosmology', 'thx0', 'thy0', 'q', 'phi', and 'b'"
     ]
    }
   ],
   "source": [
    "sim = Simulation()\n",
    "sim.forward(None)"
   ]
  },
  {
   "cell_type": "code",
   "execution_count": null,
   "id": "308f83fd",
   "metadata": {},
   "outputs": [],
   "source": []
  }
 ],
 "metadata": {
  "kernelspec": {
   "display_name": "Caustic",
   "language": "python",
   "name": "caustic"
  },
  "language_info": {
   "codemirror_mode": {
    "name": "ipython",
    "version": 3
   },
   "file_extension": ".py",
   "mimetype": "text/x-python",
   "name": "python",
   "nbconvert_exporter": "python",
   "pygments_lexer": "ipython3",
   "version": "3.8.16"
  }
 },
 "nbformat": 4,
 "nbformat_minor": 5
}
