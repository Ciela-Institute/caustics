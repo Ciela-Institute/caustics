{
 "cells": [
  {
   "cell_type": "code",
   "execution_count": 5,
   "id": "730292ec",
   "metadata": {},
   "outputs": [],
   "source": [
    "import numpy as np\n",
    "import torch\n",
    "from functorch import vmap, grad\n",
    "from caustic.sources import Sersic\n",
    "from caustic.lenses import SIE\n",
    "from caustic.utils import get_meshgrid"
   ]
  },
  {
   "cell_type": "code",
   "execution_count": null,
   "id": "df248300",
   "metadata": {},
   "outputs": [],
   "source": [
    "import torch\n",
    "from torch.distributions import transform_to, biject_to\n",
    "\n",
    "\n",
    "class Parameter:\n",
    "    def __init__(self, constraints, prior=None, ):\n",
    "        ...\n",
    "\n",
    "    def keys(self):\n",
    "        ...\n",
    "\n",
    "    def values(self):\n",
    "        ...\n",
    "\n",
    "    def items(self):\n",
    "        ...\n",
    "\n",
    "    def prior(self):\n",
    "        ...\n",
    "\n",
    "    def constraints(self):\n",
    "        ...\n",
    "\n",
    "    def unconstrained_value(self):\n",
    "        ...\n",
    "\n",
    "    def constrained_value(self):\n",
    "        ...\n",
    "\n",
    "    def sample(self):\n",
    "        # initialize the value from the prior, if no prior is given, assume a Uniform prior over the constraints\n",
    "        ...\n",
    "\n",
    "    def __repr__(self):\n",
    "        ...\n",
    "\n",
    "\n",
    "\n",
    "\n"
   ]
  },
  {
   "cell_type": "code",
   "execution_count": 22,
   "id": "eb9479fa",
   "metadata": {},
   "outputs": [],
   "source": [
    "import torch\n",
    "\n",
    "from caustic.utils import derotate, translate_rotate\n",
    "from caustic.lenses.base import ThinLens\n",
    "\n",
    "\n",
    "class SIE(ThinLens):\n",
    "    \"\"\"\n",
    "    References:\n",
    "        Keeton 2001, https://arxiv.org/abs/astro-ph/0102341\n",
    "    \"\"\"\n",
    "\n",
    "    def __init__(self, device=torch.device(\"cpu\")):\n",
    "        super().__init__(device)\n",
    "\n",
    "    def _get_psi(self, x, y, q, s):\n",
    "        return (q**2 * (x**2 + s**2) + y**2).sqrt()\n",
    "\n",
    "    def alpha(self, thx, thy, z_l, z_s, cosmology, thx0, thy0, q, phi, b, s=None):\n",
    "        s = torch.tensor(0.0, device=self.device, dtype=thx0.dtype) if s is None else s\n",
    "        thx, thy = translate_rotate(thx, thy, thx0, thy0, phi)\n",
    "        psi = self._get_psi(thx, thy, q, s)\n",
    "        f = (1 - q**2).sqrt()\n",
    "        ax = b * q.sqrt() / f * (f * thx / (psi + s)).atan()\n",
    "        ay = b * q.sqrt() / f * (f * thy / (psi + q**2 * s)).atanh()\n",
    "\n",
    "        return derotate(ax, ay, phi)\n",
    "\n",
    "    def Psi(self, thx, thy, z_l, z_s, cosmology, thx0, thy0, q, phi, b, s=None):\n",
    "        thx, thy = translate_rotate(thx, thy, thx0, thy0, phi)\n",
    "        # Only transform coordinates once: pass thx0=0, thy=0, phi=None to alpha\n",
    "        ax, ay = self.alpha(thx, thy, z_l, z_s, cosmology, 0.0, 0.0, q, None, b, s)\n",
    "        return thx * ax + thy * ay\n",
    "\n",
    "    def kappa(self, thx, thy, z_l, z_s, cosmology, thx0, thy0, q, phi, b, s=None):\n",
    "        s = torch.tensor(0.0, device=self.device, dtype=thx0.dtype) if s is None else s\n",
    "        thx, thy = translate_rotate(thx, thy, thx0, thy0, phi)\n",
    "        psi = self._get_psi(thx, thy, q, s)\n",
    "        return 0.5 * q.sqrt() * b / psi\n"
   ]
  },
  {
   "cell_type": "code",
   "execution_count": 24,
   "id": "e4bde042",
   "metadata": {},
   "outputs": [],
   "source": [
    "from caustic.utils import to_elliptical, translate_rotate\n",
    "from caustic.sources.base import Source\n",
    "\n",
    "\n",
    "class Sersic(Source):\n",
    "    def __init__(self, device=torch.device(\"cpu\"), use_lenstronomy_k=False):\n",
    "        \"\"\"\n",
    "        Args:\n",
    "            lenstronomy_k_mode: set to `True` to calculate k in the Sersic exponential\n",
    "                using the same formula as lenstronomy. Intended primarily for testing.\n",
    "        \"\"\"\n",
    "        super().__init__(device)\n",
    "        self.lenstronomy_k_mode = use_lenstronomy_k\n",
    "\n",
    "    def brightness(self, thx, thy, thx0, thy0, q, phi, index, th_e, I_e, s=None):\n",
    "        s = torch.tensor(0.0, device=self.device, dtype=thx0.dtype) if s is None else s\n",
    "        thx, thy = translate_rotate(thx, thy, thx0, thy0, phi)\n",
    "        ex, ey = to_elliptical(thx, thy, q)\n",
    "        e = (ex**2 + ey**2).sqrt() + s\n",
    "\n",
    "        if self.lenstronomy_k_mode:\n",
    "            k = 1.9992 * index - 0.3271\n",
    "        else:\n",
    "            k = 2 * index - 1 / 3 + 4 / 405 / index + 46 / 25515 / index**2\n",
    "\n",
    "        exponent = -k * ((e / th_e) ** (1 / index) - 1)\n",
    "        return I_e * exponent.exp()"
   ]
  },
  {
   "cell_type": "code",
   "execution_count": 19,
   "id": "68b751fa",
   "metadata": {},
   "outputs": [],
   "source": [
    "class Simulation:\n",
    "    def __init__(self, **hyperparameters):\n",
    "        self.source = Sersic()\n",
    "        self.lens = SIE()\n",
    "        \n",
    "        self.thx, self.thy = get_meshgrid(0.04, 128, 128)\n",
    "        \n",
    "    def forward(self, x):\n",
    "        alpha_x, alpha_y = self.lens.alpha(self.thx, self.thy, x[\"lens\"])"
   ]
  },
  {
   "cell_type": "code",
   "execution_count": 20,
   "id": "f43e07f6",
   "metadata": {},
   "outputs": [
    {
     "ename": "TypeError",
     "evalue": "alpha() missing 10 required positional arguments: 'thx', 'thy', 'z_l', 'z_s', 'cosmology', 'thx0', 'thy0', 'q', 'phi', and 'b'",
     "output_type": "error",
     "traceback": [
      "\u001b[0;31m---------------------------------------------------------------------------\u001b[0m",
      "\u001b[0;31mTypeError\u001b[0m                                 Traceback (most recent call last)",
      "Cell \u001b[0;32mIn[20], line 2\u001b[0m\n\u001b[1;32m      1\u001b[0m sim \u001b[38;5;241m=\u001b[39m Simulation()\n\u001b[0;32m----> 2\u001b[0m \u001b[43msim\u001b[49m\u001b[38;5;241;43m.\u001b[39;49m\u001b[43mforward\u001b[49m\u001b[43m(\u001b[49m\u001b[38;5;28;43;01mNone\u001b[39;49;00m\u001b[43m)\u001b[49m\n",
      "Cell \u001b[0;32mIn[19], line 9\u001b[0m, in \u001b[0;36mSimulation.forward\u001b[0;34m(self, x)\u001b[0m\n\u001b[1;32m      8\u001b[0m \u001b[38;5;28;01mdef\u001b[39;00m \u001b[38;5;21mforward\u001b[39m(\u001b[38;5;28mself\u001b[39m, x):\n\u001b[0;32m----> 9\u001b[0m     alpha_x, alpha_y \u001b[38;5;241m=\u001b[39m \u001b[38;5;28;43mself\u001b[39;49m\u001b[38;5;241;43m.\u001b[39;49m\u001b[43mlens\u001b[49m\u001b[38;5;241;43m.\u001b[39;49m\u001b[43malpha\u001b[49m\u001b[43m(\u001b[49m\u001b[43m)\u001b[49m\n",
      "\u001b[0;31mTypeError\u001b[0m: alpha() missing 10 required positional arguments: 'thx', 'thy', 'z_l', 'z_s', 'cosmology', 'thx0', 'thy0', 'q', 'phi', and 'b'"
     ]
    }
   ],
   "source": [
    "sim = Simulation()\n",
    "sim.forward(None)"
   ]
  },
  {
   "cell_type": "code",
   "execution_count": null,
   "id": "6e24f207",
   "metadata": {},
   "outputs": [],
   "source": []
  }
 ],
 "metadata": {
  "kernelspec": {
   "display_name": "Caustic",
   "language": "python",
   "name": "caustic"
  },
  "language_info": {
   "codemirror_mode": {
    "name": "ipython",
    "version": 3
   },
   "file_extension": ".py",
   "mimetype": "text/x-python",
   "name": "python",
   "nbconvert_exporter": "python",
   "pygments_lexer": "ipython3",
   "version": "3.8.16"
  }
 },
 "nbformat": 4,
 "nbformat_minor": 5
}
