{
 "cells": [
  {
   "cell_type": "code",
   "execution_count": 1,
   "id": "af87fe60",
   "metadata": {},
   "outputs": [
    {
     "name": "stderr",
     "output_type": "stream",
     "text": [
      "/home/alexandre/anaconda3/envs/caustic/lib/python3.8/site-packages/tqdm/auto.py:22: TqdmWarning: IProgress not found. Please update jupyter and ipywidgets. See https://ipywidgets.readthedocs.io/en/stable/user_install.html\n",
      "  from .autonotebook import tqdm as notebook_tqdm\n"
     ]
    }
   ],
   "source": [
    "import numpy as np\n",
    "import torch\n",
    "from functorch import vmap, grad\n",
    "from caustic.sources import Sersic\n",
    "from caustic.lenses import SIE\n",
    "from caustic.utils import get_meshgrid\n",
    "import matplotlib.pyplot as plt"
   ]
  },
  {
   "cell_type": "markdown",
   "id": "58275dcf",
   "metadata": {
    "tags": []
   },
   "source": [
    "# Sketch"
   ]
  },
  {
   "cell_type": "markdown",
   "id": "960eb1be",
   "metadata": {
    "heading_collapsed": "true"
   },
   "source": [
    "## Description"
   ]
  },
  {
   "cell_type": "markdown",
   "id": "484a527d",
   "metadata": {
    "tags": []
   },
   "source": [
    "- User creates a class Pytorch style, where he creates the modules he/she needs (Source, Lens, etc.) in the ```__init__``` and the computational graph in the ```forward``` method.\n",
    "\n",
    "- All **static parameters** are created and defined in ```__init__``` method, and the rest are left as **dynamic parameters** to be inferred.\n",
    "\n",
    "- The Simulator class knows automatically the distinction by reading off the parameters from its modules.\n",
    "\n",
    "### Static parameter\n",
    "A parameter fixed during inference/simulation. For example, we might want to fix the cosmology unless we are doing time-delay cosmography. Then, $H_0$ will be considered a **static parameter**, or hyperparameter. \n",
    "\n",
    "In our context, a static parameter will simply be whatever needs to be defined in the ```__init___``` method.\n",
    "\n",
    "### Dynamic parameter\n",
    "A parameter that we wish to infer. The value of this parameter is not known in advance by our simulator (remains undefined in the ```__init__``` method). In other words, it will be part of the $\\mathbf{x}$ tensor fed into the forward method of the simulator. \n",
    "\n",
    "### Sketch\n",
    "```\n",
    "class Sketch(Simulator):\n",
    "    def __init__(self, **static_parameters, **hyperparameters, device=DEVICE):\n",
    "        self.source = Sersic(**static_parameters, name=\"source\", device=device)\n",
    "        self.lens = SIE(**static_parameters, name=\"lens\", device=device)\n",
    "        self.instruments = Instruments(**static_parameters, name=\"instruments\", device=DEVICE)\n",
    "        \n",
    "        self.cosmology = FlatLambdaCDM(**static_parameters)\n",
    "        self.thx, self.thy = get_meshgrid(**hyperparameters)\n",
    "        self.zl, self.zs = **hyperparameters\n",
    "    \n",
    "    def forward(x):\n",
    "        x = self.transform_to_physical(x)\n",
    "        ax, ay = self.lens.alpha(self.thx, self.thy, x[\"lens\"])\n",
    "        ax2, ay2 = self.lens2.alpha(self.thx, self.thy, x[\"lens2\"])\n",
    "\n",
    "        y = self.source.brightness(self.thx - ax, self.thy - ay, x[\"source\"])\n",
    "        y = self.instruments.observe(y, x[\"instruments\"])\n",
    "        return y\n",
    "        \n",
    "```\n",
    "\n",
    "### What do we need to accomplish such a control flow?\n",
    "- Every module need to know what their parameters are, as well as their numerical constraints. Thus we need 2 things\n",
    "    1. Create a Parameter class\n",
    "    2. Redefine the ```__init__``` of every module in a way to can catch static parameters, and leave undefined the dynamic parameters. \n",
    "- The Simulator module will need to know about its dynamic parameters so that the user can easily get access to the structure of $\\mathbf{x}$."
   ]
  },
  {
   "cell_type": "markdown",
   "id": "319fc7fc",
   "metadata": {
    "heading_collapsed": "true"
   },
   "source": [
    "## Single Parameter "
   ]
  },
  {
   "cell_type": "markdown",
   "id": "1ed89022",
   "metadata": {},
   "source": [
    "Properties of this class\n",
    "- Has a state that tell us if the parameter is **static** or **dynamic**\n",
    "- Has an **inherent dimensionality D**. For now, we only work with D=1. \n",
    "- Has a **name** for better readability, defined inside our code, not by user. \n",
    "- Has an **inherent transformation** from unconstrained (real) to constrained space. This is defined inside our code for numerical stability. "
   ]
  },
  {
   "cell_type": "code",
   "execution_count": 2,
   "id": "678c7a70",
   "metadata": {},
   "outputs": [],
   "source": [
    "import torch\n",
    "from torch.distributions import transform_to, biject_to\n",
    "from torch.distributions import constraints as C\n",
    "from torch.distributions.constraints import Constraint\n",
    "from torch.distributions.transforms import Transform\n",
    "\n",
    "class IdentityTransform(Transform):\n",
    "    domain = C.real\n",
    "    codomain = C.real\n",
    "\n",
    "    def __eq__(self, other):\n",
    "        return isinstance(other, IdentityTransform)\n",
    "\n",
    "    def _call(self, x):\n",
    "        return x\n",
    "\n",
    "    def _inverse(self, y):\n",
    "        return y\n",
    "    \n",
    "    def log_abs_det_jacobian(self, x, y):\n",
    "        return 0.\n",
    "\n",
    "\n",
    "class Parameter:\n",
    "    def __init__(\n",
    "        self, \n",
    "        value: float, \n",
    "        default_value: float, \n",
    "        name: str, \n",
    "        index: int, \n",
    "        dimension: list, \n",
    "        transform: Transform,\n",
    "        device=torch.device(\"cpu\")):\n",
    "        self._D = dimension\n",
    "        self.name = name\n",
    "        self.index = index\n",
    "        self._default_value = torch.tensor([default_value]).to(device) # TODO do we keep this? What to do when deault is not just a float\n",
    "        if value is None:\n",
    "            self._dynamic = True\n",
    "            self._value = None\n",
    "        else:\n",
    "            self._dynamic = False\n",
    "            self._value = torch.tensor([value]).to(device)\n",
    "        self.transform = transform\n",
    "\n",
    "    \n",
    "    @property\n",
    "    def dynamic(self):\n",
    "        return self._dynamic\n",
    "    \n",
    "    @dynamic.setter\n",
    "    def dynamic(self):\n",
    "        return self\n",
    "    \n",
    "    @property\n",
    "    def D(self):\n",
    "        return self._D\n",
    "    \n",
    "    @property\n",
    "    def value(self):\n",
    "        return self._value\n",
    "    \n",
    "    @value.setter\n",
    "    def value(self, x):\n",
    "        self.dynamic\n",
    "    \n",
    "    @property\n",
    "    def default_value(self):\n",
    "        return self._default_value\n",
    "\n",
    "    def constrained_value(self, x):\n",
    "        return self.transform(x)\n",
    "    \n",
    "    def unconstrained_value(self, x):\n",
    "        return self.transform.inv(x)\n",
    "    \n",
    "    def log_abs_det_jacobian(self, x, y):\n",
    "        return self.transform.log_abs_det_jacobian(x, y)\n",
    "    \n",
    "    def __repr__(self):\n",
    "        return self.name\n"
   ]
  },
  {
   "cell_type": "markdown",
   "id": "e82dc9cd",
   "metadata": {
    "heading_collapsed": "true"
   },
   "source": [
    "## List of parameters"
   ]
  },
  {
   "cell_type": "markdown",
   "id": "7b66d7cf",
   "metadata": {},
   "source": [
    "This class is a useful way to collect all the parameters of a module, and define transformations from flattened tensor to list."
   ]
  },
  {
   "cell_type": "code",
   "execution_count": 3,
   "id": "689472ce",
   "metadata": {},
   "outputs": [],
   "source": [
    "from pprint import pformat\n",
    "\n",
    "# TODO setattr for each parameter names, so we can access them like p.x0 etc.\n",
    "class ParameterList:  # this class will be used to store all parameters from a module\n",
    "    def __init__(self, name, parameters=[]):\n",
    "        self.name = name\n",
    "        self.dynamic_parameters = []\n",
    "        self.static_parameters = []\n",
    "        self.transforms = []\n",
    "        for p in parameters:\n",
    "            if p.dynamic:\n",
    "                self.dynamic_parameters.append(p)\n",
    "                self.transforms.append(p.transform) # again, this assume D = 1 for all params. Will need to be more general. \n",
    "            else:\n",
    "                self.static_parameters.append(p)\n",
    "            self.__dict__[p.name] = p\n",
    "        self._D = sum([np.prod(p.D) for p in self.dynamic_parameters])\n",
    "        \n",
    "    @property\n",
    "    def D(self):\n",
    "        return self._D\n",
    "    \n",
    "    def add(self, p):\n",
    "        if p.dynamic:\n",
    "            self._D += np.prod(p.D)\n",
    "            self.dynamic_parameters.append(p)\n",
    "            self.transforms.append(p.transform) # again, this assume D = 1 for all params. Will need to be more general. \n",
    "        else:\n",
    "            self.static_parameters.append(p)\n",
    "        self.__dict__[p.name] = p\n",
    "\n",
    "\n",
    "    # This allows us to dynamically rearrenge the incoming tensor x, which is made up only of dynamic parameters, into a list of parameters that\n",
    "    # can be interpreted by the module forward methods.\n",
    "    def untangle_dynamic_tensor(self, x):\n",
    "        assert x.shape[0] == len(self.dynamic_parameters) # for now, assume there is no batch dimensions. And assume D = 1 for all params. \n",
    "        D = len(self.dynamic_parameters)\n",
    "        p = list(torch.tensor_split(x, D, dim=0) if D > 0 else []) + [p.value for p in self.static_parameters] # get all parameters in a list\n",
    "        i_map = np.argsort([p.index for p in self.dynamic_parameters] + [p.index for p in self.static_parameters]) # get their order so that all methods of this class can work\n",
    "        return [p[i] for i in i_map]\n",
    "    \n",
    "    def default(self):\n",
    "        return torch.concat([p.default_value for p in self.dynamic_parameters])\n",
    "    \n",
    "    def unconstrained_default(self):\n",
    "        return torch.concat([p.unconstrained_value(p.default_value) for p in self.dynamic_parameters])\n",
    "    \n",
    "    def constrained_values(self, x):\n",
    "        x_prime = torch.clone(x) # Very important to clone here!! Otherwise transform will change the the value in memory, which is not good\n",
    "        for d in range(self.D): # need to be more general than this\n",
    "            x_prime[d] = self.transforms[d](x_prime[d])\n",
    "        return x_prime\n",
    "    \n",
    "    def unconstrained_values(self, x):\n",
    "        x_prime = torch.clone(x)\n",
    "        for d in range(self.D): # need to be more general than this\n",
    "            x_prime[d] = self.transforms[d].inv(x[d])\n",
    "        return x_prime\n",
    "    \n",
    "    def log_abs_det_jacobian(self, x, y):\n",
    "        jac = 0.\n",
    "        for d, p in enumerate(self.dynamic_parameters): # need to be more general than this\n",
    "            jac += p.log_abs_det_jacobian(x[d], y)\n",
    "        return jac\n",
    "    \n",
    "    def __repr__(self):\n",
    "        return pformat({self.name: {\"Dynamic Parameters\": self.dynamic_parameters, \"Static Parameters\": self.static_parameters}}, indent=2)"
   ]
  },
  {
   "cell_type": "markdown",
   "id": "7d4a9acd",
   "metadata": {
    "heading_collapsed": "true"
   },
   "source": [
    "## Example of how we change a module "
   ]
  },
  {
   "cell_type": "markdown",
   "id": "dfbc49f4",
   "metadata": {},
   "source": [
    "2 things need to happen\n",
    "- We give each module a **name**, which will help the simulator untangle the parameter space and give each their required parameters\n",
    "- We attach to each module a **parameter list**, which help us take dynamic tensors and untangle them into all the parameter this class need to function. "
   ]
  },
  {
   "cell_type": "code",
   "execution_count": 4,
   "id": "bdf8d10c",
   "metadata": {},
   "outputs": [],
   "source": [
    "import torch\n",
    "from torch.distributions import constraints as C\n",
    "from torch.distributions import transforms as T\n",
    "\n",
    "from caustic.utils import derotate, translate_rotate\n",
    "from caustic.lenses.base import ThinLens\n",
    "\n",
    "identity = torch.nn.Identity()\n",
    "\n",
    "\n",
    "class SIE(ThinLens):\n",
    "    \"\"\"\n",
    "    References:\n",
    "        Keeton 2001, https://arxiv.org/abs/astro-ph/0102341\n",
    "    \"\"\"\n",
    "\n",
    "    def __init__(self, name=\"sie\", x0=None, y0=None, q=None, phi=None, b=None, s=0.0, device=torch.device(\"cpu\")):\n",
    "        super().__init__(device)\n",
    "        self.name = name\n",
    "        \n",
    "        constraints = {\"x0\": C.real, \"y0\": C.real, \"q\": C.interval(0.05, 1), \"phi\": C.real, \"b\": C.positive, \"s\": C.positive}\n",
    "        transforms = {\"x0\": IdentityTransform(), \"y0\": IdentityTransform(), \"q\": biject_to(C.interval(0.05, 1)), \"phi\": IdentityTransform(), \n",
    "                      \"b\": T.ExpTransform(), \"s\": T.SoftplusTransform()}\n",
    "        defaults = {\"x0\": 0.0, \"y0\": 0.0, \"q\": 0.8, \"phi\": 0.0, \"b\": 1., \"s\": 0.0}\n",
    "        self.parameters = ParameterList(name=name)\n",
    "        for i, (k, p) in enumerate({\"x0\": x0, \"y0\": y0, \"q\": q, \"phi\": phi, \"b\": b, \"s\": s}.items()):\n",
    "            self.parameters.add(Parameter(p, default_value=defaults[k], name=k, index=i, dimension=[1], transform=transforms[k], device=device))\n",
    "        \n",
    "    def _get_psi(self, x, y, q, s):\n",
    "        return (q**2 * (x**2 + s**2) + y**2).sqrt()\n",
    "\n",
    "    def alpha(self, thx, thy, z_l, z_s, cosmology, x):\n",
    "        thx0, thy0, q, phi, b, s = self.parameters.untangle_dynamic_tensor(x)  # We infer the value of each parameter at inference time from static and dynamic lists.   \n",
    "        thx, thy = translate_rotate(thx, thy, thx0, thy0, phi)\n",
    "        psi = self._get_psi(thx, thy, q, s)\n",
    "        f = (1 - q**2).sqrt()\n",
    "        ax = b * q.sqrt() / f * (f * thx / (psi + s)).atan()\n",
    "        ay = b * q.sqrt() / f * (f * thy / (psi + q**2 * s)).atanh()\n",
    "\n",
    "        return derotate(ax, ay, phi)\n",
    "\n",
    "    def Psi(self, thx, thy, z_l, z_s, cosmology, x):\n",
    "        thx0, thy0, q, phi, b, s = self.untangle_dynamic_tensor(x)  # We infer the value of each parameter at inference time from static and dynamic lists.   \n",
    "        thx, thy = translate_rotate(thx, thy, thx0, thy0, phi)\n",
    "        # Only transform coordinates once: pass thx0=0, thy=0, phi=None to alpha\n",
    "        ax, ay = self.alpha(thx, thy, z_l, z_s, cosmology, 0.0, 0.0, q, None, b, s)\n",
    "        return thx * ax + thy * ay\n",
    "\n",
    "    def kappa(self, thx, thy, z_l, z_s, cosmology, x):\n",
    "        thx0, thy0, q, phi, b, s = self.untangle_dynamic_tensor(x)  # We infer the value of each parameter at inference time from static and dynamic lists.\n",
    "        thx, thy = translate_rotate(thx, thy, thx0, thy0, phi)\n",
    "        psi = self._get_psi(thx, thy, q, s)\n",
    "        return 0.5 * q.sqrt() * b / psi\n"
   ]
  },
  {
   "cell_type": "markdown",
   "id": "108d78aa",
   "metadata": {},
   "source": [
    "A cool thing about attaching parameters, is that they will function like a hook that we can search for later. "
   ]
  },
  {
   "cell_type": "code",
   "execution_count": 5,
   "id": "d0db8d90",
   "metadata": {},
   "outputs": [
    {
     "name": "stdout",
     "output_type": "stream",
     "text": [
      "I found the hook\n"
     ]
    }
   ],
   "source": [
    "# skecthing out how the hook will work\n",
    "class Sketch1:\n",
    "    def __init__(self):\n",
    "        self.source = SIE()\n",
    "sim = Sketch1()\n",
    "\n",
    "# This loops accross attributes in search of the hook. This is the idea of how we will catch all parameters from the Simulator point of view, at inference time!\n",
    "for module in [k for k, v in vars(sim).items() if not k.startswith('_')]:\n",
    "    for m2 in [k for k,v in vars(getattr(sim, module)).items() if not k.startswith('_')]:\n",
    "        if m2 == \"parameters\":\n",
    "            print(\"I found the hook\")"
   ]
  },
  {
   "cell_type": "markdown",
   "id": "abc9250f",
   "metadata": {},
   "source": [
    "Static parameters will always be defined in the ```__init__```. All parameters with values in the ```__init__``` will automatically be labeled as **static**."
   ]
  },
  {
   "cell_type": "code",
   "execution_count": 6,
   "id": "8e5eb700",
   "metadata": {},
   "outputs": [
    {
     "data": {
      "text/plain": [
       "{'sie': {'Dynamic Parameters': [y0, q, phi, b], 'Static Parameters': [x0, s]}}"
      ]
     },
     "execution_count": 6,
     "metadata": {},
     "output_type": "execute_result"
    }
   ],
   "source": [
    "sie = SIE(x0=10.0) # Here we set x0 to be static\n",
    "sie.parameters"
   ]
  },
  {
   "cell_type": "code",
   "execution_count": 7,
   "id": "e4386c08",
   "metadata": {},
   "outputs": [
    {
     "data": {
      "text/plain": [
       "{'sie': {'Dynamic Parameters': [q, phi, b], 'Static Parameters': [x0, y0, s]}}"
      ]
     },
     "execution_count": 7,
     "metadata": {},
     "output_type": "execute_result"
    }
   ],
   "source": [
    "sie = SIE(x0=10.0, y0=15.0) # We might want y0 to be static as well\n",
    "sie.parameters"
   ]
  },
  {
   "cell_type": "code",
   "execution_count": 8,
   "id": "8837ec47",
   "metadata": {},
   "outputs": [
    {
     "data": {
      "text/plain": [
       "tensor([0.8000, 0.0000, 1.0000])"
      ]
     },
     "execution_count": 8,
     "metadata": {},
     "output_type": "execute_result"
    }
   ],
   "source": [
    "sie.parameters.default() # Default gives out a dynamic tensor filled with default values (defined internally)"
   ]
  },
  {
   "cell_type": "code",
   "execution_count": 9,
   "id": "96a8aa34",
   "metadata": {},
   "outputs": [
    {
     "data": {
      "text/plain": [
       "[tensor([10.]),\n",
       " tensor([15.]),\n",
       " tensor([0]),\n",
       " tensor([1]),\n",
       " tensor([2]),\n",
       " tensor([0.])]"
      ]
     },
     "execution_count": 9,
     "metadata": {},
     "output_type": "execute_result"
    }
   ],
   "source": [
    "# D is the shape of the dynamic tensor. Here, I show how the ParameterList can untangle a dynamic tensor into all parameters of the class\n",
    "sie.parameters.untangle_dynamic_tensor(torch.arange(sie.parameters.D))"
   ]
  },
  {
   "cell_type": "code",
   "execution_count": 10,
   "id": "c4de0049",
   "metadata": {},
   "outputs": [],
   "source": [
    "from caustic.utils import to_elliptical, translate_rotate\n",
    "from caustic.sources.base import Source\n",
    "\n",
    "\n",
    "class Sersic(Source):\n",
    "    \n",
    "    def __init__(self, name=\"sersic\", x0=None, y0=None, q=None, phi=None, index=None, r_eff=None, I_e=None, s=0.0, device=torch.device(\"cpu\"), use_lenstronomy_k=False):\n",
    "        \"\"\"\n",
    "        Args:\n",
    "            lenstronomy_k_mode: set to `True` to calculate k in the Sersic exponential\n",
    "                using the same formula as lenstronomy. Intended primarily for testing.\n",
    "        \"\"\"\n",
    "        super().__init__(device)\n",
    "        self.lenstronomy_k_mode = use_lenstronomy_k\n",
    "        self.module = None # just create a hook to let Simulator know there are potentially dynamical parameters here. We might think of something better later\n",
    "        self.name = name\n",
    "        \n",
    "        # Here we store the parameters. Then we can recover the named parameters (kwargs) from these two list at inference time\n",
    "        self.parameters = ParameterList(name=name)\n",
    "        constraints = {\"x0\": C.real, \"y0\": C.real, \"q\": C.interval(0.05, 1), \n",
    "                       \"phi\": C.real, \"index\": C.interval(0.2, 5), \"r_eff\": C.positive, \"I_e\": C.positive, \"s\": C.positive}\n",
    "        transforms = {\"x0\": IdentityTransform(), \"y0\": IdentityTransform(), \"q\": biject_to(C.interval(0.05, 1)), \n",
    "                      \"phi\": IdentityTransform(), \"index\": biject_to(C.interval(0.2, 5)), \"r_eff\": T.SoftplusTransform(), \n",
    "                      \"I_e\": T.SoftplusTransform(), \"s\": T.SoftplusTransform()}\n",
    "        defaults = {\"x0\": 0.0, \"y0\": 0.0, \"q\": 0.95, \"phi\": 0.0, \"index\": 1., \"r_eff\": 0.5, \"I_e\": 1., \"s\": 0.0}\n",
    "        for i, (k, p) in enumerate({\"x0\": x0, \"y0\": y0, \"q\": q, \"phi\": phi, \"index\": index, \"r_eff\": r_eff, \"I_e\": I_e, \"s\": s}.items()):\n",
    "            self.parameters.add(Parameter(p, default_value=defaults[k], name=k, index=i, dimension=[1], transform=transforms[k], device=device))\n",
    "\n",
    "    def brightness(self, thx, thy, x):\n",
    "        thx0, thy0, q, phi, index, th_e, I_e, s = self.parameters.untangle_dynamic_tensor(x)  # We infer the value of each parameter at inference time from static and dynamic lists.   \n",
    "        thx, thy = translate_rotate(thx, thy, thx0, thy0, phi)\n",
    "        ex, ey = to_elliptical(thx, thy, q)\n",
    "        e = (ex**2 + ey**2).sqrt() + s\n",
    "\n",
    "        if self.lenstronomy_k_mode:\n",
    "            k = 1.9992 * index - 0.3271\n",
    "        else:\n",
    "            k = 2 * index - 1 / 3 + 4 / 405 / index + 46 / 25515 / index**2\n",
    "\n",
    "        exponent = -k * ((e / th_e) ** (1 / index) - 1)\n",
    "        return I_e * exponent.exp()"
   ]
  },
  {
   "cell_type": "markdown",
   "id": "b179fe0a",
   "metadata": {
    "heading_collapsed": "true"
   },
   "source": [
    "## Parameter collection for the simulator"
   ]
  },
  {
   "cell_type": "markdown",
   "id": "62ead103",
   "metadata": {},
   "source": [
    "We need yet another data structure at the Simulator level, since we are dealing with multiple modules.\n",
    "This class will handle a collection of ParameterList. Its role is to\n",
    "1. Take a dynamic tensor and split it into a dictionary labeled by the module names, which are also each ParameterList names. \n",
    "2. Be able to easily switch between data structure. Tensor, dictionary, list. (This will need the most thinking, since it interface directly \n",
    "    with the input of the forward method.)\n",
    "   "
   ]
  },
  {
   "cell_type": "code",
   "execution_count": 11,
   "id": "62652a97",
   "metadata": {},
   "outputs": [],
   "source": [
    "from pprint import pformat\n",
    "\n",
    "class ParameterCollection:  # this will be used to store a hierachy of parameters in the simulator\n",
    "    def __init__(self, parameter_list, name=\"collection\"):\n",
    "        self.name = name\n",
    "        self.parameters = [p for p in parameter_list] # Assume D is simply an integer.\n",
    "        self._D = sum([p.D for p in parameter_list])\n",
    "    \n",
    "    def default(self):\n",
    "        return torch.concat([p.default() for p in self.parameters if p.D > 0])\n",
    "    \n",
    "    def unconstrained_default(self):\n",
    "        return torch.concat([p.unconstrained_default() for p in self.parameters if p.D > 0])\n",
    "    \n",
    "    def constrained_values(self, x):\n",
    "        x_list = self.x_to_list(x)\n",
    "        return torch.concat([p.constrained_values(_x) for p, _x in zip(self.parameters, x_list)])\n",
    "    \n",
    "    def unconstrained_values(self, x):\n",
    "        x_list = self.x_to_list(x)\n",
    "        return torch.concat([p.unconstrained_values(_x) for p, _x in zip(self.parameters, x_list)])\n",
    "    \n",
    "    def log_abs_det_jacobian(self, x, y):\n",
    "        jac = 0.\n",
    "        _D = 0\n",
    "        for d, p in enumerate(self.parameters): # need to be more general than this\n",
    "            jac += p.log_abs_det_jacobian(x[_D: _D + p.D], y)\n",
    "            _D += p.D\n",
    "        return jac\n",
    "    \n",
    "    @property\n",
    "    def D(self):\n",
    "        return self._D\n",
    "        \n",
    "    def x_to_list(self, x):\n",
    "        d = 0\n",
    "        x_list = []\n",
    "        for p in self.parameters:\n",
    "            x_list.append(x[d: p.D+d])\n",
    "            d += p.D\n",
    "        return x_list\n",
    "    \n",
    "    def x_to_dict(self, x):\n",
    "        d = 0\n",
    "        x_dict = {}\n",
    "        for p in self.parameters:\n",
    "            x_dict[p.name] = x[d: p.D+d]\n",
    "            d += p.D\n",
    "        return x_dict\n",
    "    \n",
    "    def __repr__(self): # might want to make this more precise, just did this as a catch all because this class is simple for now\n",
    "        return pformat({self.name: {p.name: p.dynamic_parameters for p in self.parameters}}, indent=2)"
   ]
  },
  {
   "cell_type": "markdown",
   "id": "b7265ca5",
   "metadata": {
    "heading_collapsed": "true"
   },
   "source": [
    "## Example of a full simulator "
   ]
  },
  {
   "cell_type": "code",
   "execution_count": 12,
   "id": "f91597f4",
   "metadata": {},
   "outputs": [],
   "source": [
    "from caustic.cosmology import FlatLambdaCDM\n",
    "from caustic.utils import get_meshgrid\n",
    "from collections import OrderedDict\n",
    "\n",
    "class Sketch2:\n",
    "    # The user defines the init, so the particular structure here is just for demo. name and device should have class defaults\n",
    "    def __init__(self, source_static_parameters={}, lens_static_parameters={}, name=\"sketch\", device=torch.device(\"cpu\")):\n",
    "        self.source = Sersic(**source_static_parameters, name=\"source\", device=device)\n",
    "        self.lens = SIE(**lens_static_parameters, name=\"lens\", device=device)\n",
    "\n",
    "        self.cosmology = FlatLambdaCDM()\n",
    "        self.thx, self.thy = get_meshgrid(0.1, 32, 32)\n",
    "        self.zl, self.zs = 0.5, 1.5\n",
    "        \n",
    "        self.built = False # class property, we put it here for now to expose the logic\n",
    "        self.name = name # class property\n",
    "\n",
    "    def forward(self, x):\n",
    "        x = self.parameters.constrained_values(x) # map from unconstrained space to physical space. We might leave this up to the user\n",
    "        # Here, map from tensor to dictionary of module. Parameter has an internal logic to do this for now, but\n",
    "        # we might want the simulator class to inherit that logic so it is more user friendly. Something like sim.x_to_dict etc.\n",
    "        # Also, there might be cases where x is not strictly a tensor, but already a dictionary of params. \n",
    "        x = self.parameters.x_to_dict(x) \n",
    "        ax, ay = self.lens.alpha(self.thx, self.thy, self.zl, self.zs, self.cosmology, x[\"lens\"])\n",
    "        y = self.source.brightness(self.thx - ax, self.thy - ay, x[\"source\"])\n",
    "        return y\n",
    "    \n",
    "    # Class property\n",
    "    @property\n",
    "    def built(self):\n",
    "        return self._built\n",
    "    \n",
    "    @built.setter\n",
    "    def built(self, value: bool):\n",
    "        assert isinstance(value, bool)\n",
    "        self._built = value\n",
    "    \n",
    "    # Class property\n",
    "    @property\n",
    "    def parameters(self):\n",
    "        if self.built:\n",
    "            return self._parameters\n",
    "        else:\n",
    "            self.build()\n",
    "            return self._parameters\n",
    "    \n",
    "    @parameters.setter\n",
    "    def parameters(self, parameter_collection):\n",
    "        assert isinstance(parameter_collection, ParameterCollection)\n",
    "        self._parameters = parameter_collection\n",
    "    \n",
    "    # Class method, this is used by us to infer dynamically the graph of ops in forward.\n",
    "    def build(self):\n",
    "        # First, catch all modules of the init and their parameters collections\n",
    "        params = []\n",
    "        for module in [k for k, v in vars(self).items() if not k.startswith('_')]:\n",
    "            try:\n",
    "                for m2 in [k for k,v in vars(getattr(self, module)).items() if not k.startswith('_')]:\n",
    "                    if m2 == \"parameters\": # hard coded hook\n",
    "                        p = getattr(self, module).parameters\n",
    "                        params.append(p)\n",
    "            except TypeError:\n",
    "                continue\n",
    "        \n",
    "        self.parameters = ParameterCollection(params, name=self.name)\n",
    "        self.built = True\n"
   ]
  },
  {
   "cell_type": "markdown",
   "id": "d6f4ebd2",
   "metadata": {},
   "source": [
    "The parameters of the simulator are dynamically infered from the init method. At first, parameters is empty, so built is False"
   ]
  },
  {
   "cell_type": "code",
   "execution_count": 13,
   "id": "98ea9367",
   "metadata": {},
   "outputs": [
    {
     "data": {
      "text/plain": [
       "False"
      ]
     },
     "execution_count": 13,
     "metadata": {},
     "output_type": "execute_result"
    }
   ],
   "source": [
    "sim = Sketch2()\n",
    "sim.built"
   ]
  },
  {
   "cell_type": "markdown",
   "id": "66de7e2d",
   "metadata": {},
   "source": [
    "But, the first time parameters is called, the simulator is built. We might want another trigger for it, to make sure we cover\n",
    "all usecases. "
   ]
  },
  {
   "cell_type": "code",
   "execution_count": 14,
   "id": "8c929239",
   "metadata": {},
   "outputs": [
    {
     "data": {
      "text/plain": [
       "{ 'sketch': { 'lens': [x0, y0, q, phi, b],\n",
       "              'source': [x0, y0, q, phi, index, r_eff, I_e]}}"
      ]
     },
     "execution_count": 14,
     "metadata": {},
     "output_type": "execute_result"
    }
   ],
   "source": [
    "sim.parameters"
   ]
  },
  {
   "cell_type": "code",
   "execution_count": 15,
   "id": "ef925376",
   "metadata": {},
   "outputs": [
    {
     "data": {
      "text/plain": [
       "True"
      ]
     },
     "execution_count": 15,
     "metadata": {},
     "output_type": "execute_result"
    }
   ],
   "source": [
    "sim.built"
   ]
  },
  {
   "cell_type": "markdown",
   "id": "155faf02",
   "metadata": {},
   "source": [
    "We can create a default just like before, and send it to a list, one element for each 'modules' of the simulator "
   ]
  },
  {
   "cell_type": "code",
   "execution_count": 16,
   "id": "f56f984e",
   "metadata": {},
   "outputs": [
    {
     "data": {
      "text/plain": [
       "[tensor([0.0000, 0.0000, 0.9500, 0.0000, 1.0000, 0.5000, 1.0000]),\n",
       " tensor([0.0000, 0.0000, 0.8000, 0.0000, 1.0000])]"
      ]
     },
     "execution_count": 16,
     "metadata": {},
     "output_type": "execute_result"
    }
   ],
   "source": [
    "sim.parameters.x_to_list(sim.parameters.default())"
   ]
  },
  {
   "cell_type": "markdown",
   "id": "43784ac4",
   "metadata": {},
   "source": [
    "Or a dictionary, which exposes more clearly the semantic structure of the simulator. "
   ]
  },
  {
   "cell_type": "code",
   "execution_count": 17,
   "id": "66166805",
   "metadata": {},
   "outputs": [
    {
     "data": {
      "text/plain": [
       "{'source': tensor([0.0000, 0.0000, 0.9500, 0.0000, 1.0000, 0.5000, 1.0000]),\n",
       " 'lens': tensor([0.0000, 0.0000, 0.8000, 0.0000, 1.0000])}"
      ]
     },
     "execution_count": 17,
     "metadata": {},
     "output_type": "execute_result"
    }
   ],
   "source": [
    "sim.parameters.x_to_dict(sim.parameters.default())"
   ]
  },
  {
   "cell_type": "markdown",
   "id": "44083998",
   "metadata": {},
   "source": [
    "We can also do optimization in the unconstrained space, and send these values to the constrained space just in time in the forward method with \n",
    "the ```constrained_values``` method"
   ]
  },
  {
   "cell_type": "code",
   "execution_count": 18,
   "id": "6a28526f",
   "metadata": {},
   "outputs": [
    {
     "data": {
      "text/plain": [
       "tensor([-1.5393,  0.0824,  0.0885,  0.2861,  2.7534,  0.1809,  0.6123,  1.4035,\n",
       "        -0.5167,  0.7502, -1.2128,  2.0540])"
      ]
     },
     "execution_count": 18,
     "metadata": {},
     "output_type": "execute_result"
    }
   ],
   "source": [
    "x = torch.randn(sim.parameters.D)\n",
    "sim.parameters.constrained_values(x)"
   ]
  },
  {
   "cell_type": "markdown",
   "id": "ba77976e",
   "metadata": {},
   "source": [
    "# Inference"
   ]
  },
  {
   "cell_type": "markdown",
   "id": "c6af7b7a",
   "metadata": {},
   "source": [
    "We now put everything together with an MCMC inference pipeline. "
   ]
  },
  {
   "cell_type": "markdown",
   "id": "a81c98c2",
   "metadata": {},
   "source": [
    "## Uniform prior"
   ]
  },
  {
   "cell_type": "markdown",
   "id": "5dc3bbb6",
   "metadata": {},
   "source": [
    "\n",
    "The simplest case to cover is when we have a uniform prior over the parameter space. In this case, we only need to define a likelihood \n",
    "which we make gaussian \n",
    "\n",
    "$$p(\\mathbf{y} | \\mathbf{x}) = \\mathcal{N}(\\mathbf{y} | F(\\mathbf{x}), \\sigma_n \\mathbb{1})$$\n",
    "\n",
    "Then the posterior is simply proportional to the likelihood. \n",
    "\n",
    "For the case of simplicity, we will only infer the les parameters. This means that we must make the source parameters static. "
   ]
  },
  {
   "cell_type": "code",
   "execution_count": 19,
   "id": "1d0d4499",
   "metadata": {},
   "outputs": [
    {
     "data": {
      "text/plain": [
       "{'sketch': {'lens': [x0, y0, q, phi, b], 'source': []}}"
      ]
     },
     "execution_count": 19,
     "metadata": {},
     "output_type": "execute_result"
    }
   ],
   "source": [
    "# First we create the simulator and fix all source parameters. It's quite important that nothing break, even though the dynamic tensor of the source module\n",
    "# is empty\n",
    "sim = Sketch2(\n",
    "    source_static_parameters={\n",
    "        \"x0\": 0.0,\n",
    "        \"y0\": 0.0,\n",
    "        \"q\": 0.8,\n",
    "        \"phi\": 0.0,\n",
    "        \"index\": 1.,\n",
    "        \"r_eff\": 0.1,\n",
    "        \"I_e\": 1.\n",
    "    },\n",
    "#     lens_static_parameters={\n",
    "#         \"x0\": 0.0,\n",
    "#         \"y0\": 0.0,\n",
    "#         \"q\": 0.8,\n",
    "#         \"phi\": 0.0,\n",
    "#     }\n",
    ")\n",
    "# check that our simulator only has lens dynamic parameters. It should have an empty entry for the source\n",
    "sim.parameters"
   ]
  },
  {
   "cell_type": "code",
   "execution_count": 20,
   "id": "04e2da54",
   "metadata": {},
   "outputs": [
    {
     "data": {
      "image/png": "[encoded data removed]",
      "text/plain": [
       "<Figure size 640x480 with 1 Axes>"
      ]
     },
     "metadata": {},
     "output_type": "display_data"
    }
   ],
   "source": [
    "unconstrained_ground_truth = sim.parameters.unconstrained_default()\n",
    "ground_truth = sim.parameters.default()\n",
    "\n",
    "sigma_n = 0.1\n",
    "y_true = sim.forward(unconstrained_ground_truth)\n",
    "y_true += torch.randn_like(y_true) * sigma_n\n",
    "plt.imshow(y_true.squeeze())\n",
    "plt.axis(\"off\")\n",
    "plt.title(\"Ground Truth\");"
   ]
  },
  {
   "cell_type": "markdown",
   "id": "b8aeb4e8",
   "metadata": {},
   "source": [
    "Now comes the inference part, we import MCMC from Octopus and infer what the dynamical parameters of the simulator should be"
   ]
  },
  {
   "cell_type": "code",
   "execution_count": 21,
   "id": "982a75e7",
   "metadata": {},
   "outputs": [],
   "source": [
    "from octopus.score_samplers import Metropolis as MCMC"
   ]
  },
  {
   "cell_type": "code",
   "execution_count": 22,
   "id": "4f78e692",
   "metadata": {},
   "outputs": [
    {
     "name": "stderr",
     "output_type": "stream",
     "text": [
      "Average acceptance = 0.03: 100%|███████████████████████████████████████████████████████████████████████████████████████████████████████████████████████████████████████████████| 5000/5000 [00:53<00:00, 93.67it/s]\n"
     ]
    }
   ],
   "source": [
    "W = 300\n",
    "N = 5000\n",
    "epsilon = 1e-2\n",
    "\n",
    "# We can start from wherever we like, since optimisation is in unconstrained space.\n",
    "state = torch.randn((W, sim.parameters.D)) * 0.1\n",
    "\n",
    "@vmap\n",
    "def log_likelihood(z):\n",
    "    y_hat = sim.forward(z)\n",
    "    ll = -0.5 * torch.sum(torch.square(y_true - y_hat) / sigma_n**2)\n",
    "    return ll + sim.parameters.log_abs_det_jacobian(z, ll)\n",
    "\n",
    "sampler = MCMC(log_density_fn=log_likelihood, epsilon=epsilon)\n",
    "posterior_samples, accepted = sampler.sample(state, N)"
   ]
  },
  {
   "cell_type": "code",
   "execution_count": 23,
   "id": "08322a4f",
   "metadata": {},
   "outputs": [],
   "source": [
    "constrained_posterior_samples = vmap(sim.parameters.constrained_values)(torch.tensor(posterior_samples).view(W * N, -1)).view(N, W, -1)"
   ]
  },
  {
   "cell_type": "code",
   "execution_count": 25,
   "id": "a523af28",
   "metadata": {},
   "outputs": [
    {
     "data": {
      "image/png": "[encoded data removed]",
      "text/plain": [
       "<Figure size 600x1000 with 5 Axes>"
      ]
     },
     "metadata": {},
     "output_type": "display_data"
    }
   ],
   "source": [
    "burn_in = 0\n",
    "\n",
    "labels = [\"x0\", \"y0\", \"q\", \"phi\", \"b\"]\n",
    "\n",
    "fig, axs = plt.subplots(5, 1, figsize=(6, 2*5), sharex=True)\n",
    "for p in range(5):\n",
    "    for worker in range(posterior_samples.shape[1]):\n",
    "        param = constrained_posterior_samples[burn_in:, worker, p]\n",
    "        axs[p].plot(param);\n",
    "    axs[p].set_ylabel(labels[p])\n",
    "    axs[p].axhline(ground_truth[p].cpu(), color=\"k\", lw=3)\n",
    "axs[-1].set_xlabel(\"MCMC iteration\")\n",
    "fig.suptitle(\"Chains\", y=0.94);"
   ]
  },
  {
   "cell_type": "code",
   "execution_count": null,
   "id": "1a3637dc",
   "metadata": {},
   "outputs": [],
   "source": []
  }
 ],
 "metadata": {
  "kernelspec": {
   "display_name": "Caustic",
   "language": "python",
   "name": "caustic"
  },
  "language_info": {
   "codemirror_mode": {
    "name": "ipython",
    "version": 3
   },
   "file_extension": ".py",
   "mimetype": "text/x-python",
   "name": "python",
   "nbconvert_exporter": "python",
   "pygments_lexer": "ipython3",
   "version": "3.8.16"
  }
 },
 "nbformat": 4,
 "nbformat_minor": 5
}
