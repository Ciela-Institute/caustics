{
 "cells": [
  {
   "cell_type": "markdown",
   "id": "1f5289c1",
   "metadata": {},
   "source": [
    "- Interpolators to wrap things defined on grids\n",
    "- Cosmology calculator: interpolate `hyp2f1` to get comoving distance (see Adam's jax code)"
   ]
  },
  {
   "cell_type": "code",
   "execution_count": 11,
   "id": "ac5d59b1",
   "metadata": {},
   "outputs": [],
   "source": [
    "class Cosmology:\n",
    "    ..."
   ]
  },
  {
   "cell_type": "code",
   "execution_count": 1,
   "id": "31bb05a3",
   "metadata": {},
   "outputs": [],
   "source": [
    "class AbstractLens:\n",
    "    def deflection(self, x, y, z=None, w=None, t=None, *args, **kwargs):\n",
    "        ...\n",
    "\n",
    "    def kappa(self, x, y, z=None, w=None, t=None, *args, **kwargs):\n",
    "        ...\n",
    "\n",
    "    def potential(self, x, y, z=None, w=None, t=None, *args, **kwargs):\n",
    "        # Default implementation: compute from kappa\n",
    "        ...\n",
    "\n",
    "    def fermat_potential(self, x, y, z=None, w=None, t=None, *args, **kwargs):\n",
    "        ax, ay = self.deflection(x, y, z, w, t)\n",
    "        return (ax**2 + ay**2) / 2 - self.potential(x, y, z, w, t)\n",
    "\n",
    "    def time_delay(self, x, y, z=None, w=None, t=None, *args, **kwargs):\n",
    "        ...\n",
    "\n",
    "    def magnification(self, x, y, z=None, w=None, t=None, *args, **kwargs):\n",
    "        ...\n",
    "\n",
    "\n",
    "class DataLens:\n",
    "    ..."
   ]
  },
  {
   "cell_type": "code",
   "execution_count": null,
   "id": "3571ea71",
   "metadata": {},
   "outputs": [],
   "source": [
    "class MultiplaneLens:\n",
    "    def __init__(self, lenses: list[AbstractLens]):\n",
    "        ...\n",
    "    \n",
    "    def deflection(self, x, y, z=None, w=None, t=None):\n",
    "        alpha_x, alpha_y = 0, 0\n",
    "        for lens in self.lenses:\n",
    "            ...\n",
    "\n",
    "\n",
    "class MultiplaneLensApprox:\n",
    "    def __init__(self, lenses: list[AbstractLens]):\n",
    "        ...\n",
    "    \n",
    "    def deflection(self, x, y, z=None, w=None, t=None):\n",
    "        alpha_x, alpha_y = 0, 0\n",
    "        for lens in self.lenses:\n",
    "            ...\n",
    "\n",
    "\n",
    "class CharlesLens:\n",
    "    def deflection(self, x, y, z=None, w=None, t=None):\n",
    "        return self.forward(x, y, z, params)"
   ]
  },
  {
   "cell_type": "code",
   "execution_count": null,
   "id": "dabfd34f",
   "metadata": {},
   "outputs": [],
   "source": [
    "class AbstractSource:\n",
    "    def brightness(self, x, y, z=None, t=None, *args, **kwargs):\n",
    "        ..."
   ]
  },
  {
   "cell_type": "code",
   "execution_count": null,
   "id": "d9f8d021",
   "metadata": {},
   "outputs": [],
   "source": [
    "# def observing_time_to_noise_hst(t):\n",
    "#     ...\n",
    "\n",
    "\n",
    "class Instrument:\n",
    "    def observe(self, sky_model, *args, **kwargs):\n",
    "        # Apply PSF (potentially parametrized)\n",
    "        # Pixelate\n",
    "        # Add noise\n",
    "        # Add cosmic rays\n",
    "        # Outputs data\n",
    "        ..."
   ]
  },
  {
   "cell_type": "code",
   "execution_count": null,
   "id": "48b21ecf",
   "metadata": {},
   "outputs": [],
   "source": [
    "class MySimulator:\n",
    "    ..."
   ]
  }
 ],
 "metadata": {
  "kernelspec": {
   "display_name": "Python 3 (ipykernel)",
   "language": "python",
   "name": "python3"
  },
  "language_info": {
   "codemirror_mode": {
    "name": "ipython",
    "version": 3
   },
   "file_extension": ".py",
   "mimetype": "text/x-python",
   "name": "python",
   "nbconvert_exporter": "python",
   "pygments_lexer": "ipython3",
   "version": "3.10.3"
  }
 },
 "nbformat": 4,
 "nbformat_minor": 5
}
