{
 "cells": [
  {
   "cell_type": "code",
   "execution_count": 3,
   "id": "ee6cd3aa-ab6b-4056-8239-409b20017f1e",
   "metadata": {},
   "outputs": [],
   "source": [
    "from math import pi\n",
    "\n",
    "import lenstronomy.Util.param_util as param_util\n",
    "import torch\n",
    "from astropy.cosmology import FlatLambdaCDM as FlatLambdaCDM_ap\n",
    "from lenstronomy.LensModel.lens_model import LensModel\n",
    "\n",
    "from caustic.cosmology import FlatLambdaCDM\n",
    "from caustic.lenses import SIE, MultiplaneLens\n",
    "from typing import Any, Dict, List, Union\n",
    "\n",
    "import numpy as np\n",
    "from lenstronomy.Data.pixel_grid import PixelGrid\n",
    "from lenstronomy.LensModel.lens_model import LensModel\n",
    "\n",
    "from caustic.lenses import ThinLens\n",
    "from caustic.lenses.base import ThickLens\n",
    "from caustic.utils import get_meshgrid"
   ]
  },
  {
   "cell_type": "code",
   "execution_count": 4,
   "id": "9cf267c4-5825-4dec-9e4f-5d7e09c8f60b",
   "metadata": {},
   "outputs": [],
   "source": [
    "def lens_test_helper(\n",
    "    lens: Union[ThinLens, ThickLens],\n",
    "    lens_ls: LensModel,\n",
    "    z_s,\n",
    "    x,\n",
    "    kwargs_ls: List[Dict[str, Any]],\n",
    "    rtol,\n",
    "    atol,\n",
    "    test_alpha=True,\n",
    "    test_Psi=True,\n",
    "    test_kappa=True,\n",
    "):\n",
    "    if test_alpha:\n",
    "        alpha_test_helper(lens, lens_ls, z_s, lens.pack(x), kwargs_ls, atol, rtol)\n",
    "\n",
    "    if test_Psi:\n",
    "        Psi_test_helper(lens, lens_ls, z_s, lens.pack(x), kwargs_ls, atol, rtol)\n",
    "\n",
    "    if test_kappa:\n",
    "        kappa_test_helper(lens, lens_ls, z_s, lens.pack(x), kwargs_ls, atol, rtol)\n"
   ]
  },
  {
   "cell_type": "code",
   "execution_count": 5,
   "id": "e1d8a5ca-23f6-41e2-98f0-466102b449f5",
   "metadata": {},
   "outputs": [],
   "source": [
    "rtol = 0\n",
    "atol = 5e-3\n",
    "\n",
    "# Setup\n",
    "\n",
    "z_s = torch.tensor(1.5, dtype=torch.float32)\n",
    "cosmology = FlatLambdaCDM(\"cosmo\")\n",
    "cosmology.to(dtype=torch.float32)\n",
    "\n",
    "# Parameters\n",
    "xs = [\n",
    "    [0.5, 0.9, -0.4, 0.9999, 3 * pi / 4, 0.8],\n",
    "    [0.7, 0.0, 0.5, 0.9999, -pi / 6, 0.7],\n",
    "    [1.1, 0.4, 0.3, 0.9999, pi / 4, 0.9],\n",
    "]\n",
    "x = torch.tensor([p for _xs in xs for p in _xs], dtype=torch.float32)\n"
   ]
  },
  {
   "cell_type": "code",
   "execution_count": 7,
   "id": "bbee08d4-fa2d-4389-949e-dd87188b62bf",
   "metadata": {},
   "outputs": [],
   "source": [
    "lens = MultiplaneLens(\n",
    "    \"multiplane\", cosmology, [SIE(f\"sie-{i}\", cosmology) for i in range(len(xs))]\n",
    ")\n",
    "\n",
    "# lenstronomy\n",
    "kwargs_ls = []\n",
    "for _xs in xs:\n",
    "    e1, e2 = param_util.phi_q2_ellipticity(phi=_xs[4], q=_xs[3])\n",
    "    kwargs_ls.append(\n",
    "        {\n",
    "            \"theta_E\": _xs[5],\n",
    "            \"e1\": e1,\n",
    "            \"e2\": e2,\n",
    "            \"center_x\": _xs[1],\n",
    "            \"center_y\": _xs[2],\n",
    "        }\n",
    "    )\n"
   ]
  },
  {
   "cell_type": "code",
   "execution_count": 10,
   "id": "4b876317-4643-4f8f-b0b3-880e18b34638",
   "metadata": {},
   "outputs": [
    {
     "data": {
      "text/plain": [
       "MultiplaneLens(\n",
       "    name='multiplane',\n",
       "    static=[],\n",
       "    dynamic=[],\n",
       "    x keys=[('sie-0': ['z_l', 'thx0', 'thy0', 'q', 'phi', 'b']), ('sie-1': ['z_l', 'thx0', 'thy0', 'q', 'phi', 'b']), ('sie-2': ['z_l', 'thx0', 'thy0', 'q', 'phi', 'b'])]\n",
       ")"
      ]
     },
     "execution_count": 10,
     "metadata": {},
     "output_type": "execute_result"
    }
   ],
   "source": [
    "lens"
   ]
  },
  {
   "cell_type": "code",
   "execution_count": null,
   "id": "377f7f64-a250-4e78-a605-496b5a38fc34",
   "metadata": {},
   "outputs": [],
   "source": []
  },
  {
   "cell_type": "code",
   "execution_count": null,
   "id": "4e018d53-debe-4164-9455-ffe042def0c4",
   "metadata": {},
   "outputs": [],
   "source": []
  }
 ],
 "metadata": {
  "kernelspec": {
   "display_name": "Python 3 (ipykernel)",
   "language": "python",
   "name": "python3"
  },
  "language_info": {
   "codemirror_mode": {
    "name": "ipython",
    "version": 3
   },
   "file_extension": ".py",
   "mimetype": "text/x-python",
   "name": "python",
   "nbconvert_exporter": "python",
   "pygments_lexer": "ipython3",
   "version": "3.9.16"
  }
 },
 "nbformat": 4,
 "nbformat_minor": 5
}
