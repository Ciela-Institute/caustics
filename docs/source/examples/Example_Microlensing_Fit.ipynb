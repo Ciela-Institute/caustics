{
 "cells": [
  {
   "cell_type": "markdown",
   "metadata": {},
   "source": [
    "## Fitting the data"
   ]
  },
  {
   "cell_type": "code",
   "execution_count": null,
   "metadata": {},
   "outputs": [],
   "source": [
    "from pyLIMA import event\n",
    "from pyLIMA import telescopes\n",
    "from pyLIMA.models import FSPLarge_model\n",
    "from pyLIMA.outputs import pyLIMA_plots\n",
    "from pyLIMA.fits import DE_fit, MCMC_fit\n",
    "from pyLIMA.toolbox.brightness_transformation import (\n",
    "    flux_to_magnitude,\n",
    ")\n",
    "import matplotlib.pyplot as plt\n",
    "import numpy as np\n",
    "import corner"
   ]
  },
  {
   "cell_type": "code",
   "execution_count": null,
   "metadata": {},
   "outputs": [],
   "source": [
    "data = np.load(\"../tutorials/assets/microlensing_dat.npz\")[\"data\"]\n",
    "\n",
    "# Microlensing Physical Parameters\n",
    "th_ein = 0.3  # Einstein radius in arcsec\n",
    "\n",
    "# Microlensing Model Parameters\n",
    "t0 = 0.2  # time at peak magnification\n",
    "u0 = 0.5  # minimum impact parameter (u(t=t_0)) in units of th_ein\n",
    "tE = 0.05  # Einstein timescale\n",
    "rho = 1.5  # source size in units of lens Einstein radii\n",
    "\n",
    "gamma = 0.0  # linear limb darkening coefficient"
   ]
  },
  {
   "cell_type": "code",
   "execution_count": null,
   "metadata": {},
   "outputs": [],
   "source": [
    "your_event = event.Event()\n",
    "your_event.name = \"Simulated Event\"\n",
    "telescope = telescopes.Telescope(\n",
    "    name=\"test\",\n",
    "    light_curve=data,\n",
    "    light_curve_names=[\"time\", \"flux\", \"err_flux\"],\n",
    "    light_curve_units=[\"s\", \"flux\", \"err_flux\"],\n",
    ")\n",
    "\n",
    "your_event.telescopes.append(telescope)\n",
    "# your_event.telescopes[0].ld_gamma = 0.5\n",
    "your_event.find_survey(\"test\")\n",
    "your_event.check_event()\n",
    "\n",
    "fspl = FSPLarge_model.FSPLargemodel(your_event)\n",
    "\n",
    "fspl_fit = DE_fit.DEfit(\n",
    "    fspl, DE_population_size=10, loss_function=\"chi2\", max_iteration=10000\n",
    ")"
   ]
  },
  {
   "cell_type": "code",
   "execution_count": null,
   "metadata": {},
   "outputs": [],
   "source": [
    "pyLIMA_parameters = fspl.compute_pyLIMA_parameters([t0, u0, tE, rho])\n",
    "\n",
    "list_of_telescopes = pyLIMA_plots.create_telescopes_to_plot_model(\n",
    "    fspl, pyLIMA_parameters\n",
    ")\n",
    "tel = list_of_telescopes[0]"
   ]
  },
  {
   "cell_type": "code",
   "execution_count": null,
   "metadata": {},
   "outputs": [],
   "source": [
    "model_magnification = fspl.model_magnification(tel, pyLIMA_parameters=pyLIMA_parameters)\n",
    "fspl.derive_telescope_flux(tel, pyLIMA_parameters, model_magnification)\n",
    "pyLIMA_parameters[\"fsource_test\"] = 1.0\n",
    "pyLIMA_parameters[\"fblend_test\"] = 0.0\n",
    "pyLIMA_parameters[\"gblend_test\"] = 0.0"
   ]
  },
  {
   "cell_type": "code",
   "execution_count": null,
   "metadata": {},
   "outputs": [],
   "source": [
    "true_dict = {\"t0\": t0, \"u0\": u0, \"tE\": tE, \"rho\": rho}\n",
    "model_magnification = fspl.model_magnification(\n",
    "    telescope, pyLIMA_parameters=pyLIMA_parameters\n",
    ")\n",
    "\n",
    "magnitude = (\n",
    "    pyLIMA_parameters[\"fsource_test\"] * model_magnification\n",
    "    + pyLIMA_parameters[\"fblend_test\"]\n",
    ")\n",
    "\n",
    "plt.scatter(data[:, 0], data[:, 1], label=\"Caustics\")\n",
    "plt.scatter(data[:, 0], magnitude, color=\"red\", label=\"PyLIMA\")\n",
    "plt.legend()\n",
    "\n",
    "plt.show()"
   ]
  },
  {
   "cell_type": "code",
   "execution_count": null,
   "metadata": {},
   "outputs": [],
   "source": [
    "# t_E  u0   tE  rho\n",
    "fspl_fit.fit_parameters[\"tE\"][1] = (0.0, 2)\n",
    "fspl_fit.fit_parameters[\"u0\"][1] = (0.0, 2)\n",
    "fspl_fit.fit_parameters[\"rho\"][1] = [0.1, 10]\n",
    "guess_parameters = [0.2, 0.3, 0.3, 1]\n",
    "fspl_fit.model_parameters_guess = guess_parameters\n",
    "\n",
    "fspl_fit.fit()"
   ]
  },
  {
   "cell_type": "code",
   "execution_count": null,
   "metadata": {},
   "outputs": [],
   "source": [
    "fig, ax = pyLIMA_plots.plot_lightcurves(fspl, fspl_fit.fit_results[\"best_model\"])\n",
    "\n",
    "plt.xlim(-3 * tE + t0, 3 * tE + t0)\n",
    "plt.title(\n",
    "    r\"$\\rho_f = {:.2f}$\".format(fspl_fit.fit_results[\"best_model\"][3])\n",
    "    + r\" $\\rho_T = {:.2f}$\".format(rho)\n",
    ")\n",
    "plt.xlabel(\"Time\", fontsize=30)\n",
    "fig.axes[0].scatter(\n",
    "    data[:, 0], flux_to_magnitude(data[:, 1]), color=\"red\", linewidths=5\n",
    ")\n",
    "plt.show()"
   ]
  },
  {
   "cell_type": "code",
   "execution_count": null,
   "metadata": {},
   "outputs": [],
   "source": [
    "fspl_fit.fit_results[\"best_model\"] / [t0, u0, tE, rho]"
   ]
  },
  {
   "cell_type": "code",
   "execution_count": null,
   "metadata": {},
   "outputs": [],
   "source": [
    "fig, ax = pyLIMA_plots.plot_lightcurves(fspl, [t0, u0, tE, rho])\n",
    "\n",
    "plt.xlim(-3 * tE + t0, 3 * tE + t0)\n",
    "plt.xlabel(\"Time\", fontsize=30)\n",
    "\n",
    "fig.axes[0].scatter(\n",
    "    data[:, 0], flux_to_magnitude(data[:, 1]), color=\"red\", linewidths=5\n",
    ")\n",
    "plt.show()"
   ]
  },
  {
   "cell_type": "markdown",
   "metadata": {},
   "source": [
    "## MCMC"
   ]
  },
  {
   "cell_type": "code",
   "execution_count": null,
   "metadata": {},
   "outputs": [],
   "source": [
    "fspl_mcmc_fit = MCMC_fit.MCMCfit(fspl, MCMC_walkers=8, loss_function=\"chi2\")\n",
    "# fspl_mcmc_fit = MCMC_fit.MCMCfit(fspl, MCMC_walkers=4, loss_function=\"likelihood\")\n",
    "fspl_mcmc_fit.fit_parameters[\"t0\"][1] = (-1, 1)\n",
    "fspl_mcmc_fit.fit_parameters[\"tE\"][1] = (0.0, 1)\n",
    "fspl_mcmc_fit.fit_parameters[\"u0\"][1] = [0.0, 2 * rho]\n",
    "fspl_mcmc_fit.fit_parameters[\"rho\"][1] = [0.0, 5]\n",
    "\n",
    "# Initialize MCMC with best parameters of DE fit\n",
    "fspl_mcmc_fit.model_parameters_guess = fspl_fit.fit_results[\"best_model\"]\n",
    "\n",
    "fspl_mcmc_fit.fit()"
   ]
  },
  {
   "cell_type": "code",
   "execution_count": null,
   "metadata": {},
   "outputs": [],
   "source": [
    "MCMC_results = fspl_mcmc_fit.fit_results[\"MCMC_chains\"]\n",
    "print(\"Parameters\", \" Model\", \"   Fit\", \"     Errors\")\n",
    "print(\"-----------------------------------\")\n",
    "print(\n",
    "    \"t_0:\",\n",
    "    \"        \" + str(t0) + \"  \",\n",
    "    str(np.median(MCMC_results[1000:, :, 0]))[:7],\n",
    "    \"\",\n",
    "    str(np.std(MCMC_results[1000:, :, 0]))[:7],\n",
    ")\n",
    "print(\n",
    "    \"u_0:\",\n",
    "    \"        \" + str(u0) + \"  \",\n",
    "    str(np.median(MCMC_results[1000:, :, 1]))[:7],\n",
    "    \"\",\n",
    "    str(np.std(MCMC_results[1000:, :, 1]))[:7],\n",
    ")\n",
    "print(\n",
    "    \"t_E:\",\n",
    "    \"        \" + str(tE) + \" \",\n",
    "    str(np.median(MCMC_results[1000:, :, 2]))[:7],\n",
    "    \"\",\n",
    "    str(np.std(MCMC_results[1000:, :, 2]))[:7],\n",
    ")\n",
    "print(\n",
    "    \"rho:\",\n",
    "    \"        \" + str(rho) + \"  \",\n",
    "    str(np.median(MCMC_results[1000:, :, 3]))[:7],\n",
    "    \"\",\n",
    "    str(np.std(MCMC_results[1000:, :, 3]))[:7],\n",
    ")"
   ]
  },
  {
   "cell_type": "code",
   "execution_count": null,
   "metadata": {},
   "outputs": [],
   "source": [
    "plt.plot(fspl_mcmc_fit.fit_results[\"MCMC_chains\"][:, :, 2])\n",
    "plt.xlabel(\"Steps\")\n",
    "# plt.ylabel(\"rho\")\n",
    "plt.show()"
   ]
  },
  {
   "cell_type": "code",
   "execution_count": null,
   "metadata": {},
   "outputs": [],
   "source": [
    "burn_in = 1000\n",
    "MCMC_results_pruned = MCMC_results[burn_in:, :, :]\n",
    "reshaped_results = MCMC_results_pruned.reshape(-1, 5)"
   ]
  },
  {
   "cell_type": "code",
   "execution_count": null,
   "metadata": {},
   "outputs": [],
   "source": [
    "fspl_mcmc_fit.fit_parameters.keys()\n",
    "figure = corner.corner(\n",
    "    reshaped_results[:, 0:4],\n",
    "    labels=[label for label in fspl_mcmc_fit.fit_parameters.keys()],\n",
    "    quantiles=[0.05, 0.5, 0.95],\n",
    "    truths=[t0, u0, tE, rho],\n",
    "    show_titles=True,\n",
    "    # range=[\n",
    "    #     (0.99 * t0, 1.01 * t0),\n",
    "    #     (0.3 * u0, 1.8 * u0),\n",
    "    #     (0.8 * tE, 1.2 * tE),\n",
    "    #     (0.6*rho, 1.4 * rho),\n",
    "    # ],\n",
    ")"
   ]
  },
  {
   "cell_type": "code",
   "execution_count": null,
   "metadata": {},
   "outputs": [],
   "source": [
    "mcmc_best_fit_params = np.median(reshaped_results, axis=0)\n",
    "\n",
    "true_parameters = [t0, u0, tE, rho]"
   ]
  },
  {
   "cell_type": "code",
   "execution_count": null,
   "metadata": {},
   "outputs": [],
   "source": [
    "fig = pyLIMA_plots.plot_lightcurves(fspl, mcmc_best_fit_params[:4])\n",
    "\n",
    "plt.title(\"MCMC Median\")\n",
    "plt.xlabel(\"Time\", fontsize=30)\n",
    "plt.show()"
   ]
  }
 ],
 "metadata": {
  "kernelspec": {
   "display_name": "Python 3",
   "language": "python",
   "name": "python3"
  },
  "language_info": {
   "codemirror_mode": {
    "name": "ipython",
    "version": 3
   },
   "file_extension": ".py",
   "mimetype": "text/x-python",
   "name": "python",
   "nbconvert_exporter": "python",
   "pygments_lexer": "ipython3",
   "version": "3.10.14"
  }
 },
 "nbformat": 4,
 "nbformat_minor": 2
}
