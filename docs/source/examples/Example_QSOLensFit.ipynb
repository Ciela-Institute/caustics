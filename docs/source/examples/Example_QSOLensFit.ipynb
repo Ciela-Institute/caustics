{
 "cells": [
  {
   "cell_type": "markdown",
   "id": "0",
   "metadata": {},
   "source": [
    "# Fit Lens to QSO positions\n",
    "\n",
    "In this hypothetical scenario we are observing a quadrouply lensed Quasar and we would like to learn something about the Lens mass distribution causing the strong gravitational lensing. Since each QSO image is a point source, we can determine it's position with high precision (sub pixel level accuracy), so we would like to use the four positions to recover the parameters of an SIE mass profile."
   ]
  },
  {
   "cell_type": "code",
   "execution_count": null,
   "id": "1",
   "metadata": {},
   "outputs": [],
   "source": [
    "%load_ext autoreload\n",
    "%autoreload 2\n",
    "\n",
    "from functools import partial\n",
    "from time import process_time as time\n",
    "\n",
    "import torch\n",
    "import matplotlib.pyplot as plt\n",
    "from astropy.io import fits\n",
    "import numpy as np\n",
    "\n",
    "import caustics"
   ]
  },
  {
   "cell_type": "markdown",
   "id": "2",
   "metadata": {},
   "source": [
    "First lets create the lens we intend to fit. In this case it is an SIE model. The SIE parameters are unknown at this point so this is just a generic SIE model."
   ]
  },
  {
   "cell_type": "code",
   "execution_count": null,
   "id": "3",
   "metadata": {},
   "outputs": [],
   "source": [
    "cosmology = caustics.FlatLambdaCDM(name=\"cosmo\")\n",
    "cosmology.to(dtype=torch.float32)\n",
    "\n",
    "z_l = torch.tensor(0.5, dtype=torch.float32)\n",
    "z_s = torch.tensor(1.5, dtype=torch.float32)\n",
    "lens = caustics.SIE(\n",
    "    cosmology=cosmology,\n",
    "    name=\"sie\",\n",
    "    z_l=z_l,\n",
    "    s=1e-3,\n",
    ")"
   ]
  },
  {
   "cell_type": "markdown",
   "id": "4",
   "metadata": {},
   "source": [
    "To create a mock dataset to try and fit, we choose a source position and lens parameters then forward raytrace to find the image plane positions."
   ]
  },
  {
   "cell_type": "code",
   "execution_count": null,
   "id": "5",
   "metadata": {},
   "outputs": [],
   "source": [
    "# Point in the source plane\n",
    "sp_x = torch.tensor(0.2)\n",
    "sp_y = torch.tensor(0.2)\n",
    "\n",
    "#  true parameters     x0  y0  q    phi        b\n",
    "params = torch.tensor([0.0, 0.0, 0.4, np.pi / 5, 1.0])\n",
    "# Points in image plane\n",
    "x, y = lens.forward_raytrace(sp_x, sp_y, z_s, params)"
   ]
  },
  {
   "cell_type": "markdown",
   "id": "6",
   "metadata": {},
   "source": [
    "Just to see what's going on, we plot the caustics and image/source plane positions."
   ]
  },
  {
   "cell_type": "code",
   "execution_count": null,
   "id": "7",
   "metadata": {},
   "outputs": [],
   "source": [
    "n_pix = 100\n",
    "res = 0.05\n",
    "upsample_factor = 1\n",
    "fov = res * n_pix\n",
    "thx, thy = caustics.utils.get_meshgrid(\n",
    "    res / upsample_factor,\n",
    "    upsample_factor * n_pix,\n",
    "    upsample_factor * n_pix,\n",
    "    dtype=torch.float32,\n",
    ")\n",
    "\n",
    "fig, ax = plt.subplots()\n",
    "\n",
    "A = lens.jacobian_lens_equation(thx, thy, z_s, params)\n",
    "detA = torch.linalg.det(A)\n",
    "\n",
    "CS = ax.contour(thx, thy, detA, levels=[0.0], colors=\"b\", zorder=1)\n",
    "# Get the path from the matplotlib contour plot of the critical line\n",
    "paths = CS.allsegs[0]\n",
    "caustic_paths = []\n",
    "for path in paths:\n",
    "    # Collect the path into a discrete set of points\n",
    "    x1 = torch.tensor(list(float(vs[0]) for vs in path))\n",
    "    x2 = torch.tensor(list(float(vs[1]) for vs in path))\n",
    "    # raytrace the points to the source plane\n",
    "    y1, y2 = lens.raytrace(x1, x2, z_s, params)\n",
    "\n",
    "    # Plot the caustic\n",
    "    ax.plot(y1, y2, color=\"r\", zorder=1)\n",
    "ax.scatter(x, y, color=\"b\", label=\"forward raytrace\", zorder=10)\n",
    "ax.scatter(sp_x, sp_y, color=\"r\", marker=\"x\", label=\"source plane\", zorder=9)\n",
    "plt.legend()\n",
    "plt.show()"
   ]
  },
  {
   "cell_type": "markdown",
   "id": "8",
   "metadata": {},
   "source": [
    "In this experiment we have access to the image plane positions `x` and `y` (the blue dots) but we will assume we don't know the source plane position (red x) or the lens model parameters (`x0, y0, q, phi, b`). Let's start from some slightly incorrect parameters and try to recover the true parameters.\n",
    "\n",
    "The function we will try to optimize is determined by raytracing the four points back to the source plane. We assume that the four QSO images all came from the same place, so when we find SIE parameters which map the four images back to the same spot then we have found some valid SIE parameters!\n",
    "\n",
    "In this example we run from 50 random starting points and let the Levenberg Marquardt try to find lensing parameters which map the image positions to a single source position. After the optimization finishes, we select which run actually ended up finding parameters that converge the source positions. The resulting parameters are incredibly close to the true values!"
   ]
  },
  {
   "cell_type": "code",
   "execution_count": null,
   "id": "9",
   "metadata": {},
   "outputs": [],
   "source": [
    "init_params = params.repeat(50, 1)\n",
    "init_params += torch.normal(mean=0.0, std=0.1 * torch.ones_like(init_params))\n",
    "\n",
    "\n",
    "# Compute Chi^2 which is just the distance between the four images raytraced back to the source plane.\n",
    "# This returns zero when all QSO images land in the same spot.\n",
    "def loss(P):\n",
    "    bx, by = lens.raytrace(x, y, z_l, P)\n",
    "    return torch.cat(\n",
    "        (\n",
    "            torch.sum((bx[0] - bx[1:]) ** 2).unsqueeze(-1),\n",
    "            torch.sum((by[0] - by[1:]) ** 2).unsqueeze(-1),\n",
    "        )\n",
    "    )\n",
    "\n",
    "\n",
    "fit_params = caustics.utils.batch_lm(\n",
    "    init_params, torch.zeros(init_params.shape[0], 2), loss, stopping=1e-8\n",
    ")\n",
    "# Fit params includes:\n",
    "# The fitted parameter values, A levenberg-marquardt damping parameter, the chi^2 values\n",
    "\n",
    "# Here we print the parameter values that have a good chi^2\n",
    "# If you decrease the threshold from 1e-8 to 1e-10 you will get better fits, but fewer of them\n",
    "avg_fit = torch.mean(fit_params[0][fit_params[2] < 1e-8], dim=0)\n",
    "print(avg_fit.numpy())\n",
    "# Note that the order is: x0, y0, q, phi, b"
   ]
  },
  {
   "cell_type": "markdown",
   "id": "10",
   "metadata": {},
   "source": [
    "Next we plot a comparison of the true lensing parameters and the fitted parameters. The fit is so good we used dashed lines so you can see the ground truth underneath!"
   ]
  },
  {
   "cell_type": "code",
   "execution_count": null,
   "id": "11",
   "metadata": {},
   "outputs": [],
   "source": [
    "fig, ax = plt.subplots()\n",
    "\n",
    "# Plot True caustics\n",
    "###############\n",
    "CS = ax.contour(thx, thy, detA, levels=[0.0], colors=\"b\", zorder=1)\n",
    "# Get the path from the matplotlib contour plot of the critical line\n",
    "paths = CS.allsegs[0]\n",
    "caustic_paths = []\n",
    "for path in paths:\n",
    "    # Collect the path into a discrete set of points\n",
    "    x1 = torch.tensor(list(float(vs[0]) for vs in path))\n",
    "    x2 = torch.tensor(list(float(vs[1]) for vs in path))\n",
    "    # raytrace the points to the source plane\n",
    "    y1, y2 = lens.raytrace(x1, x2, z_s, params)\n",
    "\n",
    "    # Plot the caustic\n",
    "    ax.plot(y1, y2, color=\"r\", label=\"True\", zorder=1)\n",
    "\n",
    "# Plot fitted caustics\n",
    "#################\n",
    "\n",
    "A = lens.jacobian_lens_equation(thx, thy, z_s, avg_fit)\n",
    "detA = torch.linalg.det(A)\n",
    "\n",
    "CS = ax.contour(\n",
    "    thx, thy, detA, levels=[0.0], colors=\"green\", linestyles=\"dashed\", zorder=1\n",
    ")\n",
    "# Get the path from the matplotlib contour plot of the critical line\n",
    "paths = CS.allsegs[0]\n",
    "caustic_paths = []\n",
    "for path in paths:\n",
    "    # Collect the path into a discrete set of points\n",
    "    x1 = torch.tensor(list(float(vs[0]) for vs in path))\n",
    "    x2 = torch.tensor(list(float(vs[1]) for vs in path))\n",
    "    # raytrace the points to the source plane\n",
    "    y1, y2 = lens.raytrace(x1, x2, z_s, params)\n",
    "\n",
    "    # Plot the caustic\n",
    "    ax.plot(y1, y2, color=\"orange\", linestyle=\"--\", label=\"Fit\", zorder=1)\n",
    "plt.legend()\n",
    "plt.show()"
   ]
  },
  {
   "cell_type": "code",
   "execution_count": null,
   "id": "12",
   "metadata": {},
   "outputs": [],
   "source": []
  }
 ],
 "metadata": {
  "language_info": {
   "codemirror_mode": {
    "name": "ipython",
    "version": 3
   },
   "file_extension": ".py",
   "mimetype": "text/x-python",
   "name": "python",
   "nbconvert_exporter": "python",
   "pygments_lexer": "ipython3"
  }
 },
 "nbformat": 4,
 "nbformat_minor": 5
}
