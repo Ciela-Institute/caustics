{
 "cells": [
  {
   "cell_type": "markdown",
   "id": "0",
   "metadata": {},
   "source": [
    "# Fitting a Lens image using Levenberg-Marquardt"
   ]
  },
  {
   "cell_type": "code",
   "execution_count": null,
   "id": "1",
   "metadata": {},
   "outputs": [],
   "source": [
    "import caustics\n",
    "import numpy as np\n",
    "import torch\n",
    "from lenstronomy.Util.param_util import ellipticity2phi_q\n",
    "import matplotlib.pyplot as plt"
   ]
  },
  {
   "cell_type": "markdown",
   "id": "2",
   "metadata": {},
   "source": [
    "## Specs for the data"
   ]
  },
  {
   "cell_type": "code",
   "execution_count": null,
   "id": "3",
   "metadata": {},
   "outputs": [],
   "source": [
    "# Data specs\n",
    "\n",
    "background_rms = 0.005  #  background noise per pixel\n",
    "exp_time = 500.0  #  exposure time (arbitrary units, flux per pixel is in units #photons/exp_time unit)\n",
    "numPix = 60  #  cutout pixel size per axis\n",
    "pixelscale = 0.05  #  pixel size in arcsec (area per pixel = pixel_scale**2)\n",
    "fwhm = 0.05  # full width at half maximum of PSF\n",
    "psf_sigma = fwhm / (2 * np.sqrt(2 * np.log(2)))\n",
    "psf_type = \"GAUSSIAN\"  # 'GAUSSIAN', 'PIXEL', 'NONE'\n",
    "\n",
    "cosmology = caustics.FlatLambdaCDM(name=\"cosmo\")\n",
    "cosmology.to(dtype=torch.float32)\n",
    "\n",
    "upsample_factor = 1\n",
    "thx, thy = caustics.utils.get_meshgrid(\n",
    "    pixelscale / upsample_factor,\n",
    "    upsample_factor * numPix,\n",
    "    upsample_factor * numPix,\n",
    "    dtype=torch.float32,\n",
    ")\n",
    "z_l = torch.tensor(0.5, dtype=torch.float32)\n",
    "z_s = torch.tensor(1.5, dtype=torch.float32)"
   ]
  },
  {
   "cell_type": "markdown",
   "id": "4",
   "metadata": {},
   "source": [
    "## Build simulator forward model"
   ]
  },
  {
   "cell_type": "code",
   "execution_count": null,
   "id": "5",
   "metadata": {},
   "outputs": [],
   "source": [
    "# Set up the forward model\n",
    "\n",
    "# Lens mass model (SIE + shear)\n",
    "lens_sie = caustics.SIE(name=\"galaxylens\", cosmology=cosmology, z_l=1.0)\n",
    "lens_shear = caustics.ExternalShear(\n",
    "    name=\"externalshear\", cosmology=cosmology, x0=0.0, y0=0.0, z_l=1.0\n",
    ")\n",
    "lens_mass_model = caustics.SinglePlane(\n",
    "    name=\"lensmass\", cosmology=cosmology, lenses=[lens_sie, lens_shear], z_l=1.0\n",
    ")\n",
    "\n",
    "# Lens light model (sersic)\n",
    "lens_light_model = caustics.Sersic(name=\"lenslight\")\n",
    "\n",
    "# Source light model (sersic)\n",
    "source_light_model = caustics.Sersic(name=\"sourcelight\")\n",
    "\n",
    "# Gaussian PSF Model\n",
    "psf_image = caustics.utils.gaussian(\n",
    "    nx=upsample_factor * 6 + 1,\n",
    "    ny=upsample_factor * 6 + 1,\n",
    "    pixelscale=pixelscale / upsample_factor,\n",
    "    sigma=psf_sigma,\n",
    "    upsample=2,\n",
    ")\n",
    "\n",
    "# Image plane simulator\n",
    "sim = caustics.Lens_Source(\n",
    "    lens=lens_mass_model,\n",
    "    lens_light=lens_light_model,\n",
    "    source=source_light_model,\n",
    "    psf=psf_image,\n",
    "    pixels_x=numPix,\n",
    "    pixelscale=pixelscale,\n",
    "    upsample_factor=upsample_factor,\n",
    "    z_s=2.0,\n",
    ")"
   ]
  },
  {
   "cell_type": "markdown",
   "id": "6",
   "metadata": {},
   "source": [
    "## Sample some mock data"
   ]
  },
  {
   "cell_type": "code",
   "execution_count": null,
   "id": "7",
   "metadata": {},
   "outputs": [],
   "source": [
    "# Generate the mock data\n",
    "phi_lensmass, q_lensmass = ellipticity2phi_q(e1=0.07, e2=-0.03)\n",
    "phi_lenslight, q_lenslight = ellipticity2phi_q(e1=-0.1, e2=0.1)\n",
    "phi_sourcelight, q_sourcelight = ellipticity2phi_q(e1=-0.1, e2=0.1)\n",
    "true_params = {\n",
    "    \"galaxylens\": {\n",
    "        \"x0\": 0.05,\n",
    "        \"y0\": 0.0,\n",
    "        \"q\": q_lensmass,\n",
    "        \"phi\": phi_lensmass,\n",
    "        \"b\": 0.66,\n",
    "    },\n",
    "    \"externalshear\": {\"gamma_1\": 0.0, \"gamma_2\": -0.05},\n",
    "    \"sourcelight\": {\n",
    "        \"x0\": 0.1,\n",
    "        \"y0\": 0.0,\n",
    "        \"q\": q_sourcelight,\n",
    "        \"phi\": phi_sourcelight,\n",
    "        \"n\": 1.0,\n",
    "        \"Re\": 0.1 / np.sqrt(q_sourcelight),\n",
    "        \"Ie\": 16 * pixelscale**2,\n",
    "    },\n",
    "    \"lenslight\": {\n",
    "        \"x0\": 0.05,\n",
    "        \"y0\": 0.0,\n",
    "        \"q\": q_lenslight,\n",
    "        \"phi\": phi_lenslight,\n",
    "        \"n\": 2.0,\n",
    "        \"Re\": 0.6 / np.sqrt(q_lenslight),\n",
    "        \"Ie\": 16 * pixelscale**2,\n",
    "    },\n",
    "}\n",
    "allparams = []\n",
    "for model in true_params:\n",
    "    for key in true_params[model]:\n",
    "        allparams.append(true_params[model][key])\n",
    "allparams = torch.tensor(allparams)\n",
    "print(true_params)\n",
    "\n",
    "# simulate lens, crop extra evaluation for PSF\n",
    "true_system = sim(allparams)  # [numPix//2:3*numPix//2,numPix//2:3*numPix//2]\n",
    "\n",
    "print(true_system.shape)\n",
    "fig, axarr = plt.subplots(1, 2, figsize=(15, 8))\n",
    "axarr[0].imshow(np.log10(true_system.detach().cpu().numpy()), origin=\"lower\")\n",
    "axarr[0].axis(\"off\")\n",
    "axarr[0].set_title(\"Mock Lens System\")\n",
    "\n",
    "shot_noise = torch.normal(\n",
    "    mean=torch.zeros_like(true_system),\n",
    "    std=torch.sqrt(torch.abs(true_system) / exp_time),\n",
    ")\n",
    "background = torch.normal(\n",
    "    mean=torch.zeros_like(true_system), std=torch.tensor(background_rms)\n",
    ")\n",
    "variance = (torch.abs(true_system) / exp_time) + background_rms**2\n",
    "obs_system = true_system + shot_noise + background\n",
    "\n",
    "axarr[1].imshow(np.log10(obs_system.detach().cpu().numpy()), origin=\"lower\")\n",
    "axarr[1].axis(\"off\")\n",
    "axarr[1].set_title(\"Mock Observation\")\n",
    "# plt.colorbar()\n",
    "plt.savefig(\"mock_obs\")\n",
    "plt.show()"
   ]
  },
  {
   "cell_type": "markdown",
   "id": "8",
   "metadata": {},
   "source": [
    "## Fit using LM"
   ]
  },
  {
   "cell_type": "code",
   "execution_count": null,
   "id": "9",
   "metadata": {},
   "outputs": [],
   "source": [
    "batch_inits = allparams.repeat((10, 1))\n",
    "batch_inits += 0.02 * torch.randn_like(batch_inits)\n",
    "batch_inits = batch_inits.to(dtype=torch.float32)\n",
    "res = caustics.utils.batch_lm(\n",
    "    batch_inits,\n",
    "    obs_system.repeat(10, 1, 1).reshape(10, -1),\n",
    "    lambda x: sim(x).reshape(-1),\n",
    ")\n",
    "print(res[2])"
   ]
  },
  {
   "cell_type": "code",
   "execution_count": null,
   "id": "10",
   "metadata": {},
   "outputs": [],
   "source": [
    "plt.imshow(\n",
    "    np.log10(sim(res[0][np.argmin(res[2].numpy())]).detach().cpu().numpy()),\n",
    "    origin=\"lower\",\n",
    ")\n",
    "plt.show()"
   ]
  },
  {
   "cell_type": "code",
   "execution_count": null,
   "id": "11",
   "metadata": {},
   "outputs": [],
   "source": []
  }
 ],
 "metadata": {
  "language_info": {
   "codemirror_mode": {
    "name": "ipython",
    "version": 3
   },
   "file_extension": ".py",
   "mimetype": "text/x-python",
   "name": "python",
   "nbconvert_exporter": "python",
   "pygments_lexer": "ipython3"
  }
 },
 "nbformat": 4,
 "nbformat_minor": 5
}
