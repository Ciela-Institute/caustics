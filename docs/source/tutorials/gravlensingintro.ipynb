{
 "cells": [
  {
   "cell_type": "markdown",
   "metadata": {},
   "source": [
    "# Introduction to Gravitational Lensing\n",
    "\n",
    "Here we provide a primer course on gravitational lensing. It includes interactive examples using `caustics` to demo various effects."
   ]
  },
  {
   "cell_type": "code",
   "execution_count": null,
   "metadata": {
    "vscode": {
     "languageId": "plaintext"
    }
   },
   "outputs": [],
   "source": [
    "%load_ext autoreload\n",
    "%autoreload 2\n",
    "\n",
    "import torch\n",
    "from torch.nn.functional import avg_pool2d\n",
    "import matplotlib.pyplot as plt\n",
    "import numpy as np\n",
    "\n",
    "import caustics"
   ]
  },
  {
   "cell_type": "markdown",
   "metadata": {},
   "source": [
    "## Lensing Formalism\n",
    "\n",
    "### Configuration of a Lens\n",
    "\n",
    "Before we get too deep into the weeds, lets set the stage. A photon has arrived in your telescope and you are wondering where it came from. Well if it encountered some mass on its path to you (and really what photon hasn't?) then the path it took might look something like this:\n",
    "\n",
    "![Lens configuration](assets/lensconfiguration.png)\n",
    "\n",
    "*Figure taken from Bartelmann and Schneider 2001 (figure 11)*\n",
    "\n",
    "The center of your image is your (0,0) coordinate and this corresponds to the *optical axis* which is the dashed line. The source of the photon is said to exist in the *source plane* which is a distance of $D_s$ from the observer. The mass that deflected the photon is said to exist in the *lens plane* which is a distance $D_l$ (I use $D_l$ rather that $D_d$ for the sake of my sanity) from the observer and $D_{ls}$ from the source plane. Finally, you receive the photons in the *image plane* at the observer. Note that cosmological distances are so large that these may be very accurately treated as infinitely thin planes, even if the source and the mass are in fact 3D structures. We'll talk a little about extended mass distributions in the [Multiplane Lensing](#multiplane-lensing) section. In the source plane the photons are coming from a point $\\eta$ away from the optical axis, this is a physical distance you could measure in kilometers if you like. In the lens plane, the photon intersected at $\\xi$ away from the optical axis (again physical units). In the image plane we can say the photon was essentially at the optical axis, though it was probably a few cm/meters away from it in reality when it struck the telescope.\n",
    "\n",
    "As an observer, you measure everything in angular units. The photon is the solid line which you see at some position $\\theta$ off from the optical axis. Had there been no mass intercepting the photon, it would have never reached your telescope, instead a photon coming from the same source would have arrived at $\\beta$ angular units from your optical axis. The correction at the source plane which shows how much the photon deviated from its original path is called the *deflection angle* $\\hat{\\alpha}$ and it is essentially a measure of the impact lensing has had on your observation. Note that in the figure the deflection angle is drawn as if the photon traveled backwards, leaving your telescope at angle $\\theta$ getting to the lens plane, getting deflected by $\\hat{\\alpha}$, and finally arriving at the source plane. This is on purpose since the geometry of lensing works in either direction, but computationally it is easier to go backwards (we'll see why in [the lens equation section](#the-lens-equation)).\n",
    "\n",
    "These are the names and symbols used to describe the configuration of most lensing systems. So far we haven't told you how any of this came to be, but hopefully it will give you a reference point to understand what comes next.\n",
    "\n",
    "### The Lens Equation\n",
    "\n",
    "With some simple trigonometry it is possible to relate the physical sizes and the angular sizes:\n",
    "\n",
    "$$\\eta = \\beta D_s$$\n",
    "\n",
    "$$\\xi = \\theta D_l$$\n",
    "\n",
    "Just note that the distances must be in angular diameter distances for these relations to hold (essentially by definition). We can also go a step further and get:\n",
    "\n",
    "$$\\eta = \\theta D_s - \\hat{\\alpha} D_{ls}$$\n",
    "\n",
    "From here we get the lens equation:\n",
    "\n",
    "$$\\beta D_s = \\theta D_s - \\hat{\\alpha} D_{ls}$$\n",
    "\n",
    "We are tantalizingly close to just cancelling those $D_s$ distances. How about we make a definition $\\alpha \\equiv \\frac{D_{ls}}{D_s}\\hat{\\alpha}$ then we can write the lens equation as:\n",
    "\n",
    "$$\\beta = \\theta - \\alpha$$\n",
    "\n",
    "Excellent! This is a very nice and simple equation, one might be fooled into thinking it is easy to work with. Now lets explain why one typically works backwards with photons \"coming from\" the observer and going to the source plane. The deflection angle for almost all lenses is a function of the position in the sky (more deflection closer to the mass, less deflection further away) meaning that it is in fact a function $\\alpha(\\theta)$. So to compute $\\beta$ when you know $\\theta$ means simply computing $\\alpha(\\theta)$ and the taking the difference $\\theta - \\alpha(\\theta)$. But if you want to compute $\\theta$ only knowing $\\beta$, then you will need to search around for a value to input into $\\alpha(\\theta)$ until you can get the equation to be satisfied, which means you need to know $\\theta$ to compute $\\theta$! This is a source of great consternation in gravitational lensing researchers, but is a fact we must deal with. In the next sections we'll get into more specifics on all the interesting results that come from this simple equation."
   ]
  },
  {
   "cell_type": "markdown",
   "metadata": {},
   "source": [
    "## Deflection of a Point Mass"
   ]
  },
  {
   "cell_type": "markdown",
   "metadata": {},
   "source": [
    "## Deflection of an Extended Mass"
   ]
  },
  {
   "cell_type": "markdown",
   "metadata": {},
   "source": [
    "## Lensing Quantities\n",
    "\n",
    "### Lens Potential\n",
    "\n",
    "### Magnification and Shear\n",
    "\n",
    "### Time Delay\n",
    "\n",
    "### Multiple Images"
   ]
  },
  {
   "cell_type": "markdown",
   "metadata": {},
   "source": [
    "## Critical Lines and Caustics"
   ]
  },
  {
   "cell_type": "markdown",
   "metadata": {},
   "source": [
    "## Multiplane Lensing\n",
    "\n",
    "![Multiplane Lensing](assets/multiplanelensing.png)"
   ]
  },
  {
   "cell_type": "markdown",
   "metadata": {},
   "source": []
  }
 ],
 "metadata": {
  "language_info": {
   "name": "python"
  }
 },
 "nbformat": 4,
 "nbformat_minor": 2
}
