{
 "cells": [
  {
   "cell_type": "markdown",
   "id": "f3ed209f",
   "metadata": {},
   "source": [
    "# Now you're thinking with Simulators\n",
    "\n",
    "At least, you will by the end of the tutorial."
   ]
  },
  {
   "cell_type": "code",
   "execution_count": null,
   "id": "89275b65",
   "metadata": {},
   "outputs": [],
   "source": [
    "%load_ext autoreload\n",
    "%autoreload 2\n",
    "\n",
    "import torch\n",
    "from torch.nn.functional import avg_pool2d\n",
    "import matplotlib.pyplot as plt\n",
    "from astropy.io import fits\n",
    "import numpy as np\n",
    "\n",
    "import caustics"
   ]
  },
  {
   "cell_type": "code",
   "execution_count": null,
   "id": "88a9200a",
   "metadata": {},
   "outputs": [],
   "source": [
    "# Specify the image/cosmology parameters\n",
    "n_pix = 100\n",
    "res = 0.05\n",
    "upsample_factor = 2\n",
    "fov = res * n_pix\n",
    "thx, thy = caustics.get_meshgrid(\n",
    "    res / upsample_factor,\n",
    "    upsample_factor * n_pix,\n",
    "    upsample_factor * n_pix,\n",
    "    dtype=torch.float32,\n",
    ")\n",
    "z_l = torch.tensor(0.5, dtype=torch.float32)\n",
    "z_s = torch.tensor(1.5, dtype=torch.float32)\n",
    "cosmology = caustics.FlatLambdaCDM(name=\"cosmo\")\n",
    "cosmology.to(dtype=torch.float32)"
   ]
  },
  {
   "cell_type": "code",
   "execution_count": null,
   "id": "1665abeb",
   "metadata": {},
   "outputs": [],
   "source": [
    "# demo simulator with sersic source, SIE lens. then sample some examples. demo the model graph\n",
    "\n",
    "\n",
    "class Simple_Sim(caustics.Simulator):\n",
    "    def __init__(\n",
    "        self,\n",
    "        lens,\n",
    "        src,\n",
    "        z_s=None,\n",
    "        name: str = \"sim\",\n",
    "    ):\n",
    "        super().__init__(name)  # need this so `Parametrized` can do its magic\n",
    "\n",
    "        # These are the lens and source objects to keep track of\n",
    "        self.lens = lens\n",
    "        self.src = src\n",
    "\n",
    "        # Here we can add a parameter to the simulator, in this case it is `z_s` which we will need later\n",
    "        self.add_param(\"z_s\", z_s)\n",
    "\n",
    "    def forward(self, params):  # define the forward model\n",
    "        # Here the simulator unpacks the parameter it needs\n",
    "        z_s = self.unpack(params)\n",
    "\n",
    "        # Note this is very similar to before, except the packed up `x` is all the raytrace function needs to work\n",
    "        bx, by = self.lens.raytrace(thx, thy, z_s, params)\n",
    "        mu_fine = self.src.brightness(bx, by, params)\n",
    "\n",
    "        # We return the sampled brightness at each pixel location\n",
    "        return avg_pool2d(mu_fine.squeeze()[None, None], upsample_factor)[0, 0]"
   ]
  },
  {
   "cell_type": "code",
   "execution_count": null,
   "id": "0babaead",
   "metadata": {},
   "outputs": [],
   "source": [
    "sie = caustics.lenses.SIE(cosmology, name=\"sie\")\n",
    "src = caustics.light.Sersic(name=\"src\")\n",
    "\n",
    "sim = Simple_Sim(sie, src, torch.tensor(0.8))\n",
    "\n",
    "sim.get_graph(True, True)"
   ]
  },
  {
   "cell_type": "code",
   "execution_count": null,
   "id": "e672be73",
   "metadata": {},
   "outputs": [],
   "source": [
    "# Reading the x_keys above we can input the parameters that we would like the simulator to evaluate\n",
    "x = torch.tensor(\n",
    "    [\n",
    "        z_l.item(),  # sie z_l\n",
    "        0.7,  # sie x0\n",
    "        0.13,  # sie y0\n",
    "        0.4,  # sie q\n",
    "        np.pi / 5,  # sie phi\n",
    "        1.0,  # sie b\n",
    "        0.2,  # src x0\n",
    "        0.5,  # src y0\n",
    "        0.5,  # src q\n",
    "        -np.pi / 4,  # src phi\n",
    "        1.5,  # src n\n",
    "        2.5,  # src Re\n",
    "        1.0,  # src Ie\n",
    "    ]\n",
    ")\n",
    "plt.imshow(sim(x), origin=\"lower\")"
   ]
  },
  {
   "cell_type": "code",
   "execution_count": null,
   "id": "fe16052c",
   "metadata": {},
   "outputs": [],
   "source": [
    "sie = caustics.lenses.SIE(cosmology, name=\"sie\")\n",
    "hdu = fits.open(\n",
    "    \"https://www.legacysurvey.org/viewer/fits-cutout?ra=36.3684&dec=-25.6389&size=250&layer=ls-dr9&pixscale=0.262&bands=r\"\n",
    ")\n",
    "image_data = np.array(hdu[0].data, dtype=np.float64)\n",
    "src = caustics.light.Pixelated(\n",
    "    name=\"ESO479_G1\", image=torch.tensor(image_data, dtype=torch.float32)\n",
    ")\n",
    "\n",
    "sim2 = Simple_Sim(sie, src, torch.tensor(0.8))\n",
    "\n",
    "sim2.get_graph(True, True)"
   ]
  },
  {
   "cell_type": "code",
   "execution_count": null,
   "id": "b9921f68",
   "metadata": {},
   "outputs": [],
   "source": [
    "# x can also be a dict\n",
    "x = torch.tensor(\n",
    "    [\n",
    "        z_l.item(),  # sie z_l\n",
    "        0.2,  # sie x0\n",
    "        0.1,  # sie y0\n",
    "        0.4,  # sie q\n",
    "        np.pi / 5,  # sie phi\n",
    "        1.0,  # sie b\n",
    "        0.0,  # src x0\n",
    "        0.0,  # src y0\n",
    "        0.01,  # src pixelscale\n",
    "    ]\n",
    ")\n",
    "fig, axarr = plt.subplots(1, 2, figsize=(12, 6))\n",
    "axarr[0].imshow(image_data, origin=\"lower\")\n",
    "axarr[0].set_title(\"Source image\")\n",
    "axarr[1].imshow(sim2(x), origin=\"lower\")\n",
    "axarr[1].set_title(\"Lensed image\")\n",
    "plt.show()"
   ]
  },
  {
   "cell_type": "markdown",
   "id": "e16ca698",
   "metadata": {},
   "source": [
    "## Setting static/dynamic parameters\n",
    "\n",
    "So far we have assumed that all parameters for the source and lens are being modelled. However, it is often the case that a parameter can/must be fixed for a given science case. It is very easy to do this in Caustic, simply pass the fixed value when constructing the lens/source objects.\n",
    "\n",
    "Below we have fixed some parameters in our simulator by providing them when constructing the objects. In the graph they now appear as greyed boxes. In fact we can see now that the cosmology object `FlatLambdaCDM` had fixed parameters all along. This is because there are natural default parameters for such a cosmology. It is possible, of course, to make a different cosmology object which has alternate values, or which leaves some values as free parameters.\n",
    "\n",
    "In general, to set a parameter as dynamic (must be passed to the simulator) just set it to `None`, to fix a parameter give it a value."
   ]
  },
  {
   "cell_type": "code",
   "execution_count": null,
   "id": "91d3cf26",
   "metadata": {},
   "outputs": [],
   "source": [
    "sief = caustics.lenses.SIE(\n",
    "    name=\"sie\",\n",
    "    cosmology=cosmology,\n",
    "    z_l=torch.tensor(0.5),\n",
    "    x0=torch.tensor(0.0),\n",
    "    y0=torch.tensor(0.0),\n",
    ")\n",
    "srcf = caustics.light.Sersic(name=\"src\", n=torch.tensor(2.0))\n",
    "\n",
    "simf = Simple_Sim(sief, srcf, z_s=torch.tensor(0.8))\n",
    "\n",
    "simf.get_graph(True, True)"
   ]
  },
  {
   "cell_type": "code",
   "execution_count": null,
   "id": "6b029159",
   "metadata": {},
   "outputs": [],
   "source": [
    "# Reading the x_keys above we can input the parameters that we would like the simulator to evaluate\n",
    "x = torch.tensor(\n",
    "    [\n",
    "        0.4,  # sie q\n",
    "        np.pi / 5,  # sie phi\n",
    "        1.0,  # sie b\n",
    "        -0.2,  # src x0\n",
    "        -0.5,  # src y0\n",
    "        0.5,  # src q\n",
    "        -np.pi / 4,  # src phi\n",
    "        2.5,  # src Re\n",
    "        1.0,  # src Ie\n",
    "    ]\n",
    ")\n",
    "plt.imshow(simf(x), origin=\"lower\")"
   ]
  },
  {
   "cell_type": "code",
   "execution_count": null,
   "id": "6e244b74",
   "metadata": {},
   "outputs": [],
   "source": []
  },
  {
   "cell_type": "code",
   "execution_count": null,
   "id": "fb6619ec-9057-4daa-916b-9384b74a5e29",
   "metadata": {},
   "outputs": [],
   "source": []
  }
 ],
 "metadata": {
  "language_info": {
   "codemirror_mode": {
    "name": "ipython",
    "version": 3
   },
   "file_extension": ".py",
   "mimetype": "text/x-python",
   "name": "python",
   "nbconvert_exporter": "python",
   "pygments_lexer": "ipython3"
  }
 },
 "nbformat": 4,
 "nbformat_minor": 5
}
