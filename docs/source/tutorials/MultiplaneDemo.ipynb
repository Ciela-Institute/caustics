{
 "cells": [
  {
   "cell_type": "markdown",
   "id": "2a324070-a163-4b79-8e77-819da73083f3",
   "metadata": {},
   "source": [
    "# Multiplane Lensing\n",
    "\n",
    "The universe is three dimensional and filled with stuff. A light ray traveling to our telescope may encounter more than a single massive object on its way to our telescopes. This is handled by a multiplane lensing framework. Multiplane lensing involves tracing the path of a ray backwards from our telescope through each individual plane (which is treated similarly to typical single plane lensing, though extra factors account for the ray physically moving in 3D space) getting perturbed at each step until it finally lands on the source we'd like to image. For more mathmatical details see [Petkova et al. 2014](https://doi.org/10.1093/mnras/stu1860) for the formalism we use internally.\n",
    "\n",
    "The main concept to keep in mind is that a lot of quantities we are used to working with, such as \"reduced deflection angles\" don't really exist in multiplane lensing since these are normalized by the redshift of the source and lens, however there is no single \"lens redshift\" for multiplane! Instead we define everything with respect to results from full raytracing, once the raytracing is done we can define effective quantities (like effective reduced deflection angle) which behave similarly in intuition but are not quite the same in detail."
   ]
  },
  {
   "cell_type": "code",
   "execution_count": null,
   "id": "45b6a8b4",
   "metadata": {},
   "outputs": [],
   "source": [
    "%load_ext autoreload\n",
    "%autoreload 2\n",
    "\n",
    "import torch\n",
    "from torch.nn.functional import avg_pool2d\n",
    "import matplotlib.pyplot as plt\n",
    "from ipywidgets import interact\n",
    "from astropy.io import fits\n",
    "import numpy as np\n",
    "\n",
    "import caustics"
   ]
  },
  {
   "cell_type": "code",
   "execution_count": null,
   "id": "ab43e042",
   "metadata": {},
   "outputs": [],
   "source": [
    "# initialization stuff for lenses\n",
    "cosmology = caustics.FlatLambdaCDM(name=\"cosmo\")\n",
    "cosmology.to(dtype=torch.float32)\n",
    "n_pix = 100\n",
    "res = 0.05\n",
    "upsample_factor = 2\n",
    "fov = res * n_pix\n",
    "thx, thy = caustics.get_meshgrid(\n",
    "    res / upsample_factor,\n",
    "    upsample_factor * n_pix,\n",
    "    upsample_factor * n_pix,\n",
    "    dtype=torch.float32,\n",
    ")\n",
    "z_s = torch.tensor(1.5, dtype=torch.float32)"
   ]
  },
  {
   "cell_type": "code",
   "execution_count": null,
   "id": "ea49d25d",
   "metadata": {},
   "outputs": [],
   "source": [
    "N_planes = 10\n",
    "N_lenses = 2  # per plane\n",
    "\n",
    "z_plane = np.linspace(0.1, 1.0, N_planes)\n",
    "planes = []\n",
    "\n",
    "for p, z_p in enumerate(z_plane):\n",
    "    lenses = []\n",
    "\n",
    "    for _ in range(N_lenses):\n",
    "        lenses.append(\n",
    "            caustics.PseudoJaffe(\n",
    "                cosmology=cosmology,\n",
    "                z_l=z_p,\n",
    "                x0=torch.tensor(np.random.uniform(-fov / 3.0, fov / 3.0)),\n",
    "                y0=torch.tensor(np.random.uniform(-fov / 3.0, fov / 3.0)),\n",
    "                mass=torch.tensor(3e10),\n",
    "                core_radius=0.01,\n",
    "                scale_radius=torch.tensor(10 ** np.random.uniform(-0.5, 0.5)),\n",
    "                s=torch.tensor(0.001),\n",
    "            )\n",
    "        )\n",
    "\n",
    "    planes.append(\n",
    "        caustics.lenses.SinglePlane(\n",
    "            z_l=z_p, cosmology=cosmology, lenses=lenses, name=f\"plane_{p}\"\n",
    "        )\n",
    "    )\n",
    "\n",
    "lens = caustics.lenses.Multiplane(name=\"multiplane\", cosmology=cosmology, lenses=planes)"
   ]
  },
  {
   "cell_type": "markdown",
   "id": "4aa429c8",
   "metadata": {},
   "source": [
    "## Effective Reduced Deflection Angles"
   ]
  },
  {
   "cell_type": "code",
   "execution_count": null,
   "id": "f2e0a341",
   "metadata": {},
   "outputs": [],
   "source": [
    "# Effective reduced deflection angles for the multiplane lens system\n",
    "ax, ay = lens.effective_reduced_deflection_angle(thx, thy, z_s)\n",
    "\n",
    "# Plot\n",
    "fig, axarr = plt.subplots(1, 2, figsize=(12, 5))\n",
    "im = axarr[0].imshow(\n",
    "    ax, extent=(thx[0][0], thx[0][-1], thy[0][0], thy[-1][0]), origin=\"lower\"\n",
    ")\n",
    "axarr[0].set_title(\"Deflection angle X\")\n",
    "plt.colorbar(im)\n",
    "im = axarr[1].imshow(\n",
    "    ay, extent=(thx[0][0], thx[0][-1], thy[0][0], thy[-1][0]), origin=\"lower\"\n",
    ")\n",
    "axarr[1].set_title(\"Deflection angle Y\")\n",
    "plt.colorbar(im)\n",
    "plt.show()"
   ]
  },
  {
   "cell_type": "markdown",
   "id": "c7ad98c6",
   "metadata": {},
   "source": [
    "## Critical Lines"
   ]
  },
  {
   "cell_type": "code",
   "execution_count": null,
   "id": "b2e23c3e",
   "metadata": {},
   "outputs": [],
   "source": [
    "# Compute critical curves using effective difflection angle\n",
    "A = lens.jacobian_lens_equation(thx, thy, z_s)\n",
    "\n",
    "# Here we compute detA at every point\n",
    "detA = torch.linalg.det(A)\n",
    "\n",
    "# Plot the critical line\n",
    "im = plt.imshow(\n",
    "    detA, extent=(thx[0][0], thx[0][-1], thy[0][0], thy[-1][0]), origin=\"lower\"\n",
    ")\n",
    "plt.colorbar(im)\n",
    "CS = plt.contour(thx, thy, detA, levels=[0.0], colors=\"b\")\n",
    "plt.title(\"Critical curves\")\n",
    "plt.show()"
   ]
  },
  {
   "cell_type": "code",
   "execution_count": null,
   "id": "7cd1f948",
   "metadata": {},
   "outputs": [],
   "source": [
    "# For completeness, here are the caustics!\n",
    "paths = CS.collections[0].get_paths()\n",
    "\n",
    "for path in paths:\n",
    "    # Collect the path into a descrete set of points\n",
    "    vertices = path.interpolated(5).vertices\n",
    "    x1 = torch.tensor(list(float(vs[0]) for vs in vertices))\n",
    "    x2 = torch.tensor(list(float(vs[1]) for vs in vertices))\n",
    "    # raytrace the points to the source plane\n",
    "    y1, y2 = lens.raytrace(x1, x2, z_s)\n",
    "\n",
    "    # Plot the caustic\n",
    "    plt.plot(y1, y2, color=\"k\", linewidth=0.5)\n",
    "plt.gca().axis(\"off\")\n",
    "plt.title(\"Caustics\")\n",
    "plt.show()"
   ]
  },
  {
   "cell_type": "markdown",
   "id": "94144e25",
   "metadata": {},
   "source": [
    "## Effective Convergence"
   ]
  },
  {
   "cell_type": "code",
   "execution_count": null,
   "id": "d8a84fde",
   "metadata": {},
   "outputs": [],
   "source": [
    "C = lens.effective_convergence_div(thx, thy, z_s)\n",
    "\n",
    "plt.imshow(C.detach().cpu().numpy(), origin=\"lower\")\n",
    "plt.colorbar()\n",
    "plt.title(\"Effective Convergence\")\n",
    "plt.show()"
   ]
  },
  {
   "cell_type": "code",
   "execution_count": null,
   "id": "708338df",
   "metadata": {},
   "outputs": [],
   "source": [
    "Curl = lens.effective_convergence_curl(thx, thy, z_s)\n",
    "\n",
    "plt.imshow(Curl.detach().cpu().numpy(), origin=\"lower\")\n",
    "plt.colorbar()\n",
    "plt.title(\"Curl\")\n",
    "plt.show()"
   ]
  },
  {
   "cell_type": "code",
   "execution_count": null,
   "id": "00e9c94a",
   "metadata": {},
   "outputs": [],
   "source": []
  }
 ],
 "metadata": {
  "language_info": {
   "codemirror_mode": {
    "name": "ipython",
    "version": 3
   },
   "file_extension": ".py",
   "mimetype": "text/x-python",
   "name": "python",
   "nbconvert_exporter": "python",
   "pygments_lexer": "ipython3"
  }
 },
 "nbformat": 4,
 "nbformat_minor": 5
}
