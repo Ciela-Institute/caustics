{
 "cells": [
  {
   "cell_type": "code",
   "execution_count": null,
   "id": "c27294ad-f38c-4894-bb76-6c9c9e8240fb",
   "metadata": {},
   "outputs": [],
   "source": [
    "import caustics\n",
    "from caustics import Module, forward, Param\n",
    "from torch.nn.functional import conv2d, avg_pool2d\n",
    "import numpy as np\n",
    "import torch\n",
    "import matplotlib.pyplot as plt"
   ]
  },
  {
   "cell_type": "markdown",
   "id": "9d2fefa6-fd40-4227-b440-7f4e2b04e4ed",
   "metadata": {},
   "source": [
    "# Building your own simulator from scratch: a tutorial\n",
    "\n",
    "In this tutorial, we will build a fully-functional gravitational lensing simulator based on LensSource, the prebuilt simulator which comes with Caustics. We will then demonstrate how you can modify a custom simulator to extend its capabilities. \n",
    "\n",
    "### Part 1: The `__init__` function\n",
    "\n",
    "First, we begin by creating a new **class** for our simulator. \n",
    "**For those new to object-oriented programming**: a class consists of a recipe for building an object. An object is a reusable container which contains functions and their parameters. Objects are also referred to as **instances** of a class, and the parameters which are assigned to a class are called **instance variables**. \n",
    "\n",
    "We want our simulator to inherit from the **Module** class in Caustics, which is a basic framework for constructing simulator objects. To create inheritance, we put the parent class as an argument (in parentheses) to the child class. In the `__init__` function, we need a few basic ingredients to create the simulator:\n",
    "1. A lens mass distribution\n",
    "2. A model for the lens light\n",
    "3. A model for the source light\n",
    "4. A model for the telescope PSF\n",
    "5. A value for the pixel scale of the CCD\n",
    "6. The number of pixels in the CCD\n",
    "7. The upsample factor (increases the resolution of the simulator internally to improve accuracy)\n",
    "8. The redshift of the source light (item 3)\n",
    "\n",
    "We can also provide a name for the simulator.\n",
    "\n",
    "Within our `__init__` function, we need to provide instructions to construct the basic structure of the simulator object, which is done by calling the `__init__` function of the `super` class, which in this case is `Module` from Caustics.\n",
    "\n",
    "Within `__init__` we also need to construct the components of our simulator. For components which are constructed once (lens mass model, lens light model, and source light model), we simply need to make them instance variables of the current object being constructed (`self`). We do the same for parameters whose value we wish to only set once, such as the coordinate grid, which we generate with the `meshgrid` function of caustics. For parameters which we wish to sample with our MCMC (which are not already parameters of any of the existing components), we need to register them as a `Param` object, which will allow our simulator to find them in the flattened vector of parameters which we will pass to the simulator. In this example, we register the PSF as a `Param` and name it `\"PSF\"`. We also have to tell Param what shape the PSF array will take so that the PSF can be extracted from the flattened tensor (in this example, we allow a variable-sized PSF). For more information on the underlying functionality of `Module`, `Param`, and related parameter handling capabilities in Caustics, see the underlying **caskade** package and associated documentation: https://caskade.readthedocs.io/en/latest/notebooks/BeginnersGuide.html"
   ]
  },
  {
   "cell_type": "code",
   "execution_count": null,
   "id": "7e022279-469a-45e6-8920-c2f40ac88466",
   "metadata": {},
   "outputs": [],
   "source": [
    "class Singlelens(Module):\n",
    "    def __init__(\n",
    "        self,\n",
    "        lens,\n",
    "        lens_light,\n",
    "        source,\n",
    "        pixelscale,\n",
    "        pixels_x,\n",
    "        upsample_factor,\n",
    "        n_psf,\n",
    "        psf=None,  # Since we want PSF to be a Param, its value will be set at inference time alognside all the other Params\n",
    "        name: str = \"sim\",\n",
    "    ):\n",
    "        super().__init__(name)\n",
    "\n",
    "        self.lens = lens\n",
    "        self.src = source\n",
    "        self.n_psf = n_psf\n",
    "        self.lens_light = lens_light\n",
    "        self.psf = Param(\"PSF\", psf, shape=(self.n_psf, self.n_psf))\n",
    "        self.upsample_factor = upsample_factor\n",
    "\n",
    "        # Create the high-resolution grid\n",
    "        thx, thy = caustics.utils.meshgrid(\n",
    "            pixelscale / upsample_factor,\n",
    "            upsample_factor * pixels_x,\n",
    "            dtype=torch.float32,\n",
    "        )\n",
    "\n",
    "        self.thx = thx\n",
    "        self.thy = thy\n",
    "\n",
    "    @forward\n",
    "    def run_simulator(self, psf):\n",
    "        # Ray-trace to get the lensed positions\n",
    "        bx, by = self.lens.raytrace(self.thx, self.thy)\n",
    "\n",
    "        # Evaluate the lensed source brightness at high resolution\n",
    "        image = self.src.brightness(bx, by)\n",
    "\n",
    "        # Add the lens light\n",
    "        image += self.lens_light.brightness(self.thx, self.thy)\n",
    "\n",
    "        # Downsample to the desired resolution\n",
    "        image_ds = avg_pool2d(image[None, None], self.upsample_factor)[0, 0]\n",
    "\n",
    "        # Convolve with the PSF using conv2d\n",
    "        psf_normalized = (psf.T / psf.sum())[None, None]\n",
    "        image_ds = (\n",
    "            conv2d(image_ds[None, None], psf_normalized, padding=\"same\")\n",
    "            .squeeze(0)\n",
    "            .squeeze(0)\n",
    "        )\n",
    "\n",
    "        return image_ds"
   ]
  },
  {
   "cell_type": "markdown",
   "id": "a83e5bfa-768f-44df-a22f-a3736280aa2c",
   "metadata": {},
   "source": [
    "### Part 2: the `@forward`-decorated function\n",
    "\n",
    "In the code above, in addition to the `__init__` function, you can see that we have added another function called `run_simulator`. This is the part of our simulator object which will actually perform the simulation (when called). Our simulation has a few basic steps:\n",
    "\n",
    "1. Raytrace the coordinate grid backwards from the lens plane (thx, thy) to the source plane using the lens mass distribution. This produces bx and by, whose values are the source plane coordinates at the corresponding locations in the lens plane.\n",
    "2. Evaluate the brightness of the source light model at the raytraced coordinates (which creates the gravitationally lensed image)\n",
    "3. Add lens light to the image\n",
    "4. Downsample the image to the correct pixel scale\n",
    "5. Convolve with the PSF of the telescope\n",
    "\n",
    "To ensure that all the Param parameters in the simulator are handled correctly, we need to add the `@forward` decorator from `Caustics` (which wraps the `@forward` decorator in `caskade`) to our `run_simulator` function. We also need to pass arguments to the `run_simulator` function for any `Param` objects which we defined in the `__init__` (in this case, `PSF` is passed as an argument).\n",
    "\n",
    "### Part 3: Instantiating our simulator\n",
    "\n",
    "Now that we have completed our custom simulator, we need to **instantiate** the components of the simulator and the simulator itself. The instantiation process creates an object in memory from a class. "
   ]
  },
  {
   "cell_type": "code",
   "execution_count": null,
   "id": "4a50ae4d-3964-4dfa-803d-3dec4e506c00",
   "metadata": {},
   "outputs": [],
   "source": [
    "# Cosmology model\n",
    "cosmology = caustics.FlatLambdaCDM(name=\"cosmo\")\n",
    "# Source light model\n",
    "source_light = caustics.Sersic(name=\"sourcelight\")\n",
    "# Lens mass model\n",
    "epl = caustics.EPL(name=\"epl\", cosmology=cosmology, z_s=3.5)\n",
    "# Lens Light model\n",
    "lens_light = caustics.Sersic(name=\"lenslight1\")\n",
    "# PSF and image resolution\n",
    "pixscale = 0.11 / 2\n",
    "fwhm = 0.269  # full width at half maximum of PSF\n",
    "psf_sigma = fwhm / (2 * np.sqrt(2 * np.log(2)))\n",
    "n_psf = 11\n",
    "psf_image = caustics.utils.gaussian(\n",
    "    nx=n_psf,\n",
    "    ny=n_psf,\n",
    "    pixelscale=pixscale,\n",
    "    sigma=psf_sigma,\n",
    "    upsample=1,\n",
    ")\n",
    "# Instantiate simulator\n",
    "simulator = Singlelens(\n",
    "    lens=epl,\n",
    "    lens_light=lens_light,\n",
    "    source=source_light,\n",
    "    pixels_x=60 * 2,\n",
    "    pixelscale=pixscale,\n",
    "    upsample_factor=5,\n",
    "    n_psf=n_psf,\n",
    ")"
   ]
  },
  {
   "cell_type": "markdown",
   "id": "87ec40c1-3860-4f3a-a053-ba1a63d5ec5f",
   "metadata": {},
   "source": [
    "Now that we have instantiated our simulator, we can visualize its structure using graphviz. The grayed out squares are parameters which are fixed (known as **static parameters** in Caustics), while the white squares are parameters whose value will be set once the `forward` function is run (these are known as **dynamic parameters** in Caustics). The arrows indicate which object contains which component. "
   ]
  },
  {
   "cell_type": "code",
   "execution_count": null,
   "id": "1180567a-c4f2-436d-821e-2d673bee0675",
   "metadata": {},
   "outputs": [],
   "source": [
    "simulator.graphviz()"
   ]
  },
  {
   "cell_type": "markdown",
   "id": "b6ca7cd3-f801-436f-9cde-b897845d37a2",
   "metadata": {},
   "source": [
    "### Part 4: Passing parameters to our simulator\n",
    "\n",
    "Now that we have designed our simulator class and instantiated our simulator object, we can use the `forward` method to run the simulator. Thanks to `caskade`, we can pass all of the dynamic parameters at once as a flattened Pytorch tensor. However, we need to know what order to put our parameters in the tensor. We can find the order by literally printing our simulator:"
   ]
  },
  {
   "cell_type": "code",
   "execution_count": null,
   "id": "379c21bd-a2cc-4a13-a882-a27bf8646ff2",
   "metadata": {},
   "outputs": [],
   "source": [
    "print(simulator)"
   ]
  },
  {
   "cell_type": "code",
   "execution_count": null,
   "id": "6e901bae-fb96-4eaa-8eea-a6263183e755",
   "metadata": {},
   "outputs": [],
   "source": [
    "params_for_simulator = torch.tensor(\n",
    "    [\n",
    "        # Lens redshift and mass\n",
    "        1.5,  # z_l\n",
    "        0.25,  # epl x0\n",
    "        0.3,  # epl y0\n",
    "        1 / 1.14,  # epl q\n",
    "        np.pi / 2 + 1.6755160819145565,  # epl phi\n",
    "        0.97,  # epl b\n",
    "        1.04,  # epl t\n",
    "        # Source light\n",
    "        0.25,  # x0\n",
    "        0.3,  # y0\n",
    "        1 - 0.29,  # q\n",
    "        -30 / 180 * torch.pi,  # phi\n",
    "        4,  # n\n",
    "        0.1,  # Re\n",
    "        36,  # Ie\n",
    "        # Lens light\n",
    "        0.25,  # x0\n",
    "        0.3,  # y0\n",
    "        1 - 0.29,  # q\n",
    "        -30 / 180 * torch.pi,  # phi\n",
    "        4,  # n\n",
    "        0.1,  # Re\n",
    "        100,  # Ie\n",
    "    ]\n",
    ")\n",
    "# Now add PSF to flattened tensor\n",
    "params_for_simulator = torch.cat((params_for_simulator, psf_image.flatten()))"
   ]
  },
  {
   "cell_type": "code",
   "execution_count": null,
   "id": "56c655fa-699f-4b7f-a150-c2ddb2750be0",
   "metadata": {},
   "outputs": [],
   "source": [
    "params_for_simulator.shape"
   ]
  },
  {
   "cell_type": "markdown",
   "id": "2abfb25f-06d8-4b4e-acaf-30704a1fac7c",
   "metadata": {},
   "source": [
    "Each of the pixel values in the PSF is now an independent parameter which can be jointly sampled alongside the other parameters! Because we gave Param the expected shape of the PSF (n_psf, n_psf), Param will correctly extract it from the flattened tensor and reshape it to the right shape."
   ]
  },
  {
   "cell_type": "markdown",
   "id": "d82966fc-606f-4880-90ce-97edd7f886de",
   "metadata": {},
   "source": [
    "Now we can run our simulator by passing the flat parameter tensor to the `forward` function:"
   ]
  },
  {
   "cell_type": "code",
   "execution_count": null,
   "id": "adbfbd05-163d-440c-90d6-e079ad2f3710",
   "metadata": {},
   "outputs": [],
   "source": [
    "lensed_image = simulator.run_simulator(params_for_simulator)"
   ]
  },
  {
   "cell_type": "markdown",
   "id": "87304927-ee07-4943-bcfc-94b9aadab936",
   "metadata": {},
   "source": [
    "We can then view the lensed image output by our simulator (here we have created an \"Einstein cross\"):"
   ]
  },
  {
   "cell_type": "code",
   "execution_count": null,
   "id": "32756499-ea15-411c-ac14-4b5b776567d1",
   "metadata": {},
   "outputs": [],
   "source": [
    "plt.imshow(lensed_image)\n",
    "plt.show()"
   ]
  },
  {
   "cell_type": "markdown",
   "id": "5da7997e-c1c5-4e99-bc0e-3f66454c9fff",
   "metadata": {},
   "source": [
    "### Part 5: Customizing your simulator\n",
    "\n",
    "So far, we have focused on re-creating the LensSource simulator provided by default in Caustics, but the real power of the Caustics package is reflected by its extensibility. \n",
    "\n",
    "Suppose we want to have a single background light source and a single lens mass distribution, but instead of a single lens light source, we want two lens light sources (this could be a modeling choice for merging lensed galaxies).\n",
    "\n",
    "We can implement this by creating a new simulator class, which we will call `Doublelenslight`. This class is identical to `Singlelens`, except for two things: we add an extra `lens_light` to our `__init__`, and in the `forward` we add the second `lens_light` to the image."
   ]
  },
  {
   "cell_type": "code",
   "execution_count": null,
   "id": "d2b5c2fc-063b-42a7-a640-c6e90bf458ca",
   "metadata": {},
   "outputs": [],
   "source": [
    "class Doublelenslight(Module):\n",
    "    def __init__(\n",
    "        self,\n",
    "        lens,\n",
    "        lens_light1,\n",
    "        lens_light2,  # NEW!\n",
    "        source,\n",
    "        pixelscale,\n",
    "        pixels_x,\n",
    "        upsample_factor,\n",
    "        n_psf,\n",
    "        psf=None,\n",
    "        name: str = \"sim\",\n",
    "    ):\n",
    "        super().__init__(name)\n",
    "\n",
    "        self.lens = lens\n",
    "        self.src = source\n",
    "        self.n_psf = n_psf\n",
    "        self.lens_light1 = lens_light1\n",
    "        self.lens_light2 = lens_light2  # NEW!\n",
    "        self.psf = Param(\"PSF\", psf, shape=(self.n_psf, self.n_psf))\n",
    "        self.upsample_factor = upsample_factor\n",
    "\n",
    "        # Create the high-resolution grid\n",
    "        thx, thy = caustics.utils.meshgrid(\n",
    "            pixelscale / upsample_factor,\n",
    "            upsample_factor * pixels_x,\n",
    "            dtype=torch.float32,\n",
    "        )\n",
    "\n",
    "        self.thx = thx\n",
    "        self.thy = thy\n",
    "\n",
    "    @forward\n",
    "    def run_simulator(self, psf):\n",
    "        # Ray-trace to get the lensed positions\n",
    "        bx, by = self.lens.raytrace(self.thx, self.thy)\n",
    "\n",
    "        # Evaluate the lensed source brightness at high resolution\n",
    "        image = self.src.brightness(bx, by)\n",
    "\n",
    "        # Add the lens light\n",
    "        image += self.lens_light1.brightness(self.thx, self.thy)\n",
    "        image += self.lens_light2.brightness(self.thx, self.thy)  # NEW!\n",
    "\n",
    "        # Downsample to the desired resolution\n",
    "        image_ds = avg_pool2d(image[None, None], self.upsample_factor)[0, 0]\n",
    "\n",
    "        # Convolve with the PSF using conv2d\n",
    "        psf_normalized = (psf.T / psf.sum())[None, None]\n",
    "        image_ds = (\n",
    "            conv2d(image_ds[None, None], psf_normalized, padding=\"same\")\n",
    "            .squeeze(0)\n",
    "            .squeeze(0)\n",
    "        )\n",
    "\n",
    "        return image_ds"
   ]
  },
  {
   "cell_type": "code",
   "execution_count": null,
   "id": "00e39f80-128f-44ff-a831-71348870a656",
   "metadata": {},
   "outputs": [],
   "source": [
    "# Cosmology model\n",
    "cosmology = caustics.FlatLambdaCDM(name=\"cosmo\")\n",
    "# Source light model\n",
    "source_light = caustics.Sersic(name=\"sourcelight\")\n",
    "# Lens mass model\n",
    "epl = caustics.EPL(name=\"epl\", cosmology=cosmology, z_s=3.5)\n",
    "# Lens Light models\n",
    "lens_light1 = caustics.Sersic(name=\"lenslight1\")\n",
    "lens_light2 = caustics.Sersic(name=\"lenslight2\")\n",
    "# PSF and image resolution\n",
    "pixscale = 0.11 / 2\n",
    "fwhm = 0.269  # full width at half maximum of PSF\n",
    "psf_sigma = fwhm / (2 * np.sqrt(2 * np.log(2)))\n",
    "n_psf = 11\n",
    "psf_image = caustics.utils.gaussian(\n",
    "    nx=n_psf,\n",
    "    ny=n_psf,\n",
    "    pixelscale=pixscale,\n",
    "    sigma=psf_sigma,\n",
    "    upsample=1,\n",
    ")\n",
    "# Instantiate simulator\n",
    "simulator = Doublelenslight(\n",
    "    lens=epl,\n",
    "    lens_light1=lens_light1,\n",
    "    lens_light2=lens_light2,\n",
    "    source=source_light,\n",
    "    pixels_x=60 * 2,\n",
    "    pixelscale=pixscale,\n",
    "    upsample_factor=5,\n",
    "    n_psf=n_psf,\n",
    ")"
   ]
  },
  {
   "cell_type": "code",
   "execution_count": null,
   "id": "f4348821-5389-4574-b8f3-8f6d4fb25bfe",
   "metadata": {},
   "outputs": [],
   "source": [
    "simulator.graphviz()"
   ]
  },
  {
   "cell_type": "markdown",
   "id": "2b3fc745-943d-4d48-9dd7-15f0f3a7f813",
   "metadata": {},
   "source": [
    "When passing parameters to the `forward`, we need to use "
   ]
  },
  {
   "cell_type": "code",
   "execution_count": null,
   "id": "f66634dd-c33a-4358-8230-17885bee90dd",
   "metadata": {},
   "outputs": [],
   "source": [
    "print(simulator)"
   ]
  },
  {
   "cell_type": "code",
   "execution_count": null,
   "id": "5b34f5b4-16b1-4300-a99b-dcb1196c31e5",
   "metadata": {},
   "outputs": [],
   "source": [
    "params_for_simulator = torch.tensor(\n",
    "    [\n",
    "        # Lens redshift and mass\n",
    "        1.5,  # z_l\n",
    "        0.25,  # epl x0\n",
    "        0.3,  # epl y0\n",
    "        1 / 1.14,  # epl q\n",
    "        np.pi / 2 + 1.6755160819145565,  # epl phi\n",
    "        0.97,  # epl b\n",
    "        1.04,  # epl t\n",
    "        # Source light\n",
    "        0.25,  # x0\n",
    "        0.3,  # y0\n",
    "        1 - 0.29,  # q\n",
    "        -30 / 180 * torch.pi,  # phi\n",
    "        4,  # n\n",
    "        0.1,  # Re\n",
    "        36,  # Ie\n",
    "        # Lens light\n",
    "        0.25,  # x0\n",
    "        0.1,  # y0\n",
    "        1 - 0.29,  # q\n",
    "        -30 / 180 * torch.pi,  # phi\n",
    "        4,  # n\n",
    "        0.1,  # Re\n",
    "        100,  # Ie\n",
    "        # Lens light\n",
    "        0.25,  # x0\n",
    "        0.6,  # y0\n",
    "        1 - 0.29,  # q\n",
    "        -30 / 180 * torch.pi,  # phi\n",
    "        4,  # n\n",
    "        0.1,  # Re\n",
    "        100,  # Ie\n",
    "    ]\n",
    ")\n",
    "# Now add PSF to flattened tensor\n",
    "params_for_simulator = torch.cat((params_for_simulator, psf_image.flatten()))"
   ]
  },
  {
   "cell_type": "code",
   "execution_count": null,
   "id": "631655f6-5516-4551-9cd9-d254fb77cb91",
   "metadata": {},
   "outputs": [],
   "source": [
    "lensed_image = simulator.run_simulator(params_for_simulator)"
   ]
  },
  {
   "cell_type": "code",
   "execution_count": null,
   "id": "07ee42df-728c-458c-8842-f2811187613b",
   "metadata": {},
   "outputs": [],
   "source": [
    "plt.imshow(lensed_image)\n",
    "plt.show()"
   ]
  },
  {
   "cell_type": "code",
   "execution_count": null,
   "id": "cbb5a938-b38d-4c41-a058-97fc3790cfa2",
   "metadata": {},
   "outputs": [],
   "source": []
  },
  {
   "cell_type": "code",
   "execution_count": null,
   "id": "cb99838a-8e28-48f8-8083-da2de434f5b5",
   "metadata": {},
   "outputs": [],
   "source": []
  }
 ],
 "metadata": {
  "kernelspec": {
   "display_name": "Python 3 (ipykernel)",
   "language": "python",
   "name": "python3"
  },
  "language_info": {
   "codemirror_mode": {
    "name": "ipython",
    "version": 3
   },
   "file_extension": ".py",
   "mimetype": "text/x-python",
   "name": "python",
   "nbconvert_exporter": "python",
   "pygments_lexer": "ipython3",
   "version": "3.10.10"
  }
 },
 "nbformat": 4,
 "nbformat_minor": 5
}
