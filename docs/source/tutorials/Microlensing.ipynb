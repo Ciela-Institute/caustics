{
 "cells": [
  {
   "cell_type": "code",
   "execution_count": null,
   "metadata": {},
   "outputs": [],
   "source": [
    "%load_ext autoreload\n",
    "%autoreload 2\n",
    "%matplotlib inline\n",
    "\n",
    "import matplotlib.pyplot as plt\n",
    "import matplotlib.animation as animation\n",
    "import torch\n",
    "import caustics\n",
    "from caustics import Module, forward\n",
    "from IPython.display import HTML"
   ]
  },
  {
   "cell_type": "markdown",
   "metadata": {},
   "source": [
    "# Building a Microlensing Simulator\n",
    "\n",
    "This documentation provides an overview of how to build your own `Simulator`. In this tutorial, we will use the ray tracing tools within the `caustics` library applied to [microlensing](https://www.microlensing-source.org/concept/). We will cover:\n",
    "\n",
    "1.\tCreating a custom microlensing `Simulator`\n",
    "2.  Setting up the parameters for our custom sim\n",
    "3.  Running batched, dynamic simulations and visualizing the results\n",
    "\n",
    "By the end of this guide, you will hopefully feel empowered to create your own custom `Simulator` for your use case!"
   ]
  },
  {
   "cell_type": "markdown",
   "metadata": {},
   "source": [
    "## Setting up the `Lens`, `Source`, and `Cosmology` environment\n",
    "\n",
    "We will be using a Point lens model and a StarSource light source model provided by `caustics`. We also must define a cosmology environment, which, `caustics` uses to calculate cosmological evolution at large distances. Here, we define a `FlatLambdaCDM` cosmology. But since we only typically care about redshift $z\\approx0$ for microlensing, the cosmology will not actually matter."
   ]
  },
  {
   "cell_type": "code",
   "execution_count": null,
   "metadata": {},
   "outputs": [],
   "source": [
    "cosmology = caustics.FlatLambdaCDM()\n",
    "point_lens = caustics.Point(cosmology=cosmology, name=\"lens\")\n",
    "src = caustics.StarSource(name=\"source\")"
   ]
  },
  {
   "cell_type": "code",
   "execution_count": null,
   "metadata": {},
   "outputs": [],
   "source": [
    "# Define the pixel grid for imaging\n",
    "n_pix = 100\n",
    "res = 0.05\n",
    "upsample_factor = 10\n",
    "theta_x, theta_y = caustics.utils.meshgrid(\n",
    "    res / upsample_factor,\n",
    "    upsample_factor * n_pix,\n",
    "    dtype=torch.float32,\n",
    ")"
   ]
  },
  {
   "cell_type": "markdown",
   "metadata": {},
   "source": [
    "## Building our `Simulator`\n",
    "\n",
    "Here we define a Microlens class that extends caustics.Simulator. Generically, the child class is where you define all the methods necessary to run your simulation, which is done in the `forward` method. This allows us to run the simulator by passing a single argument, the `params` dictionary, and the `caustics` backend handles the rest.\n",
    "\n",
    "In our case, we use our simulator to calculate the magnification of a source at a given position, as well as the lensed image(s) (by definition, multiple images are unresolvable in microlenisng). "
   ]
  },
  {
   "cell_type": "code",
   "execution_count": null,
   "metadata": {},
   "outputs": [],
   "source": [
    "class Microlens(Module):\n",
    "\n",
    "    def __init__(self, lens, src, z_s=0.0, name: str = \"sim\"):\n",
    "        super().__init__(name)\n",
    "        self.lens = lens\n",
    "        self.src = src\n",
    "        self.z_s = z_s\n",
    "        self.theta_x = theta_x\n",
    "        self.theta_y = theta_y\n",
    "\n",
    "    @forward\n",
    "    def __call__(self):\n",
    "        # Compute the observed positions of the source\n",
    "        beta_x, beta_y = self.lens.raytrace(self.theta_x, self.theta_y, self.z_s)\n",
    "        # Compute the brightness of the source at the observed positions (the image)\n",
    "        brightness = self.src.brightness(beta_x, beta_y)\n",
    "        # Compute the baseline (unlensed) brightness of the source\n",
    "        baseline_brightness = self.src.brightness(theta_x, theta_y)\n",
    "        # Return the lensed image [n_pix x n_pix], and magnification\n",
    "        return brightness, brightness.mean() / baseline_brightness.mean()"
   ]
  },
  {
   "cell_type": "code",
   "execution_count": null,
   "metadata": {},
   "outputs": [],
   "source": [
    "# Microlensing Physical Parameters\n",
    "th_ein = 0.3  # Einstein radius in arcsec\n",
    "\n",
    "# Microlensing Model Parameters\n",
    "t0 = 0.2  # time at peak magnification\n",
    "u0 = 0.5  # minimum impact parameter (u(t=t_0)) in units of th_ein\n",
    "tE = 0.05  # Einstein timescale\n",
    "rho = 2.5  # source size in units of lens Einstein radii\n",
    "\n",
    "gamma = 0.6  # linear limb darkening coefficient"
   ]
  },
  {
   "cell_type": "markdown",
   "metadata": {},
   "source": [
    "Now we can visualize the structure of our simulator"
   ]
  },
  {
   "cell_type": "code",
   "execution_count": null,
   "metadata": {},
   "outputs": [],
   "source": [
    "sim = Microlens(point_lens, src)\n",
    "\n",
    "# Set all variables as static variables since they are not going to change in this simulation\n",
    "sim.lens.z_l = 0.0\n",
    "sim.lens.y0 = -u0 * th_ein\n",
    "sim.lens.th_ein = th_ein\n",
    "sim.src.x0 = 0.0\n",
    "sim.src.y0 = 0.0\n",
    "sim.src.theta_s = th_ein * rho\n",
    "sim.src.Ie = 5.0\n",
    "sim.src.gamma = gamma\n",
    "\n",
    "sim.graphviz()"
   ]
  },
  {
   "cell_type": "markdown",
   "metadata": {},
   "source": [
    "Now we can set up the parameters for our simulation. We can look at the order of the parameters expected by our simulator by looking at `x_order`. Here, the lens x position is the only dynamic variable."
   ]
  },
  {
   "cell_type": "code",
   "execution_count": null,
   "metadata": {},
   "outputs": [],
   "source": [
    "print(sim)"
   ]
  },
  {
   "cell_type": "code",
   "execution_count": null,
   "metadata": {},
   "outputs": [],
   "source": [
    "B = 64  # Batch size\n",
    "ts = torch.linspace(-6 * tE + t0, 6 * tE + t0, B).view(-1, 1)  # Create time grid\n",
    "\n",
    "# Calculate source position at each time in arcsec\n",
    "x0s = (ts - t0) / (tE) * th_ein  # Shape is [B, 1]"
   ]
  },
  {
   "cell_type": "markdown",
   "metadata": {},
   "source": [
    "## Running the simulation and visualzing the output\n",
    "\n",
    "Running a batched simulation over different parameters (in our case, these correspond to the lens motion in discrete time-steps by construction) is now as easy as using `vmap` on our simulator. We can then visualize the total output"
   ]
  },
  {
   "cell_type": "code",
   "execution_count": null,
   "metadata": {},
   "outputs": [],
   "source": [
    "images, magnifications = torch.vmap(sim)(x0s)"
   ]
  },
  {
   "cell_type": "code",
   "execution_count": null,
   "metadata": {
    "tags": [
     "hide-input"
    ]
   },
   "outputs": [],
   "source": [
    "# Create animation\n",
    "fig, (ax1, ax2) = plt.subplots(2, 1, figsize=(6, 8))\n",
    "\n",
    "# Display the first frame of the image in the first subplot\n",
    "img = ax1.imshow(images[0].numpy(), cmap=\"cividis\", interpolation=\"bilinear\")\n",
    "ax1.set_title(\"Image\")\n",
    "\n",
    "# Set up the scatter plot for magnifications in the second subplot\n",
    "scatter = ax2.scatter(ts[0].item(), magnifications[0].item())\n",
    "ax2.set_xlim(ts.min().item(), ts.max().item())\n",
    "ax2.set_ylim(magnifications.min().item() * 0.9, magnifications.max().item() * 1.1)\n",
    "ax2.axvline(-tE / 2, color=\"r\", linestyle=\"--\")\n",
    "ax2.axvline(tE / 2, color=\"r\", linestyle=\"--\")\n",
    "ax2.set_xlabel(\"t\")\n",
    "ax2.set_ylabel(\"A\")\n",
    "\n",
    "\n",
    "def update(frame):\n",
    "    \"\"\"Update function for the animation.\"\"\"\n",
    "    # Update the image in the first subplot\n",
    "    img.set_array(images[frame].numpy())\n",
    "\n",
    "    # Update the scatter plot in the second subplot\n",
    "    ax2.clear()  # Clear the previous frame\n",
    "    ax2.scatter(ts[: frame + 1].numpy(), magnifications[: frame + 1].numpy())\n",
    "    ax2.set_xlim(ts.min().item(), ts.max().item())\n",
    "    ax2.set_ylim(magnifications.min().item() * 0.9, magnifications.max().item() * 1.1)\n",
    "    ax2.set_xlabel(\"t\")\n",
    "    ax2.set_ylabel(\"A\")\n",
    "    ax2.set_title(\"Light-Curve\")\n",
    "\n",
    "    return img, scatter\n",
    "\n",
    "\n",
    "ani = animation.FuncAnimation(fig, update, frames=B, interval=60)\n",
    "\n",
    "plt.close()\n",
    "\n",
    "# Save animation as gif\n",
    "# ani.save(\"microlensing_animation.gif\", writer='pillow', fps=16)  # Adjust 'fps' for the speed\n",
    "\n",
    "# Or display the animation inline\n",
    "HTML(ani.to_jshtml())"
   ]
  },
  {
   "cell_type": "code",
   "execution_count": null,
   "metadata": {},
   "outputs": [],
   "source": []
  }
 ],
 "metadata": {
  "kernelspec": {
   "display_name": "PY39",
   "language": "python",
   "name": "python3"
  },
  "language_info": {
   "codemirror_mode": {
    "name": "ipython",
    "version": 3
   },
   "file_extension": ".py",
   "mimetype": "text/x-python",
   "name": "python",
   "nbconvert_exporter": "python",
   "pygments_lexer": "ipython3",
   "version": "3.9.5"
  }
 },
 "nbformat": 4,
 "nbformat_minor": 2
}
