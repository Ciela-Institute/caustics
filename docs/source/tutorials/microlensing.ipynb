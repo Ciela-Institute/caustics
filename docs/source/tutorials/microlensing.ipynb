{
 "cells": [
  {
   "cell_type": "code",
   "execution_count": null,
   "metadata": {},
   "outputs": [],
   "source": [
    "%load_ext autoreload\n",
    "%autoreload 2\n",
    "%matplotlib inline\n",
    "\n",
    "import matplotlib.pyplot as plt\n",
    "import matplotlib.animation as animation\n",
    "import torch\n",
    "import caustics\n",
    "from IPython.display import HTML\n",
    "import numpy as np"
   ]
  },
  {
   "cell_type": "code",
   "execution_count": null,
   "metadata": {},
   "outputs": [],
   "source": [
    "! python --version #VS code label wrong. Need <3.11 for mcmc in pylima"
   ]
  },
  {
   "cell_type": "code",
   "execution_count": null,
   "metadata": {},
   "outputs": [],
   "source": [
    "cosmology = caustics.FlatLambdaCDM()\n",
    "point_lens = caustics.Point(cosmology=cosmology, name=\"lens\")\n",
    "src = caustics.PointSource(name=\"source\")"
   ]
  },
  {
   "cell_type": "code",
   "execution_count": null,
   "metadata": {},
   "outputs": [],
   "source": [
    "n_pix = 100\n",
    "res = 0.05\n",
    "upsample_factor = 10\n",
    "theta_x, theta_y = caustics.utils.meshgrid(\n",
    "    res / upsample_factor,\n",
    "    upsample_factor * n_pix,\n",
    "    dtype=torch.float32,\n",
    ")"
   ]
  },
  {
   "cell_type": "code",
   "execution_count": null,
   "metadata": {},
   "outputs": [],
   "source": [
    "class Microlens(caustics.Simulator):\n",
    "    def __init__(\n",
    "        self, lens, src, theta_x=None, theta_y=None, z_s=None, name: str = \"sim\"\n",
    "    ):\n",
    "        super().__init__(name)\n",
    "        self.lens = lens\n",
    "        self.src = src\n",
    "\n",
    "        self.add_param(\"theta_x\", theta_x)\n",
    "        self.add_param(\"theta_y\", theta_y)\n",
    "        self.add_param(\"z_s\", z_s)\n",
    "\n",
    "    def forward(self, params):\n",
    "        theta_x, theta_y, z_s = self.unpack(params)\n",
    "        beta_x, beta_y = self.lens.raytrace(theta_x, theta_y, z_s, params)\n",
    "        brightness = self.src.brightness(beta_x, beta_y, params)\n",
    "        baseline_brightness = self.src.brightness(theta_x, theta_y, params)\n",
    "        return brightness, brightness.mean() / baseline_brightness.mean()"
   ]
  },
  {
   "cell_type": "code",
   "execution_count": null,
   "metadata": {},
   "outputs": [],
   "source": [
    "sim = Microlens(point_lens, src, theta_x=theta_x, theta_y=theta_y, z_s=0.0)\n",
    "sim.graph(True, True)"
   ]
  },
  {
   "cell_type": "code",
   "execution_count": null,
   "metadata": {},
   "outputs": [],
   "source": [
    "sim.x_order"
   ]
  },
  {
   "cell_type": "code",
   "execution_count": null,
   "metadata": {},
   "outputs": [],
   "source": [
    "# Microlensing Physical Parameters\n",
    "th_ein = 0.4  # Einstein radius in arcsec\n",
    "\n",
    "# Microlensing Model Parameters\n",
    "t0 = 0.2  # time at peak magnification\n",
    "u0 = 0.8 * th_ein  # minimum impact parameter (u(t=t_0)) in units of th_ein\n",
    "tE = 0.1  # Einstein timescale\n",
    "rho = 2.0  # source size in units of lens Einstein radii\n",
    "\n",
    "gamma = 0.0  # linear limb darkening coefficient"
   ]
  },
  {
   "cell_type": "code",
   "execution_count": null,
   "metadata": {},
   "outputs": [],
   "source": [
    "B = 64  # Batch size\n",
    "ts = torch.linspace(-3 * tE + t0, 3 * tE + t0, B).view(-1, 1)  # Create time grid\n",
    "\n",
    "# Calculate source position at each time in arcsec\n",
    "x0s = (ts - t0) / (tE) * th_ein  # Shape is [B, 1]\n",
    "\n",
    "# Since source is assumed radially symmetric, can set all motion in the x direction\n",
    "y0s = -u0 * torch.ones_like(x0s)"
   ]
  },
  {
   "cell_type": "code",
   "execution_count": null,
   "metadata": {},
   "outputs": [],
   "source": [
    "x = torch.tensor(\n",
    "    [\n",
    "        0.0,  # z_l\n",
    "        0.0,  # x0\n",
    "        0.0,  # y0\n",
    "        th_ein,  # th_ein\n",
    "        0.0,  # x0\n",
    "        0.0,  # y0\n",
    "        th_ein * rho,  # theta_s\n",
    "        5.0,  # Ie,\n",
    "        gamma,  # gamma\n",
    "    ]\n",
    ")\n",
    "\n",
    "newx = x.repeat(B, 1)\n",
    "newx[:, 1] = x0s.view(-1)\n",
    "newx[:, 2] = y0s.view(-1)"
   ]
  },
  {
   "cell_type": "code",
   "execution_count": null,
   "metadata": {},
   "outputs": [],
   "source": [
    "images, magnifications = torch.vmap(sim)(newx)"
   ]
  },
  {
   "cell_type": "code",
   "execution_count": null,
   "metadata": {},
   "outputs": [],
   "source": [
    "# Create animation\n",
    "fig, (ax1, ax2) = plt.subplots(2, 1, figsize=(6, 8))\n",
    "\n",
    "# Display the first frame of the image in the first subplot\n",
    "img = ax1.imshow(images[0].numpy(), cmap=\"cividis\", interpolation=\"bilinear\")\n",
    "ax1.set_title(\"Image\")\n",
    "\n",
    "# Set up the scatter plot for magnifications in the second subplot\n",
    "scatter = ax2.scatter(ts[0].item(), magnifications[0].item())\n",
    "ax2.set_xlim(ts.min().item(), ts.max().item())\n",
    "ax2.set_ylim(magnifications.min().item() * 0.9, magnifications.max().item() * 1.1)\n",
    "ax2.axvline(-tE / 2, color=\"r\", linestyle=\"--\")\n",
    "ax2.axvline(tE / 2, color=\"r\", linestyle=\"--\")\n",
    "ax2.set_xlabel(\"t\")\n",
    "ax2.set_ylabel(\"A\")\n",
    "\n",
    "\n",
    "def update(frame):\n",
    "    \"\"\"Update function for the animation.\"\"\"\n",
    "    # Update the image in the first subplot\n",
    "    img.set_array(images[frame].numpy())\n",
    "\n",
    "    # Update the scatter plot in the second subplot\n",
    "    ax2.clear()  # Clear the previous frame\n",
    "    ax2.scatter(ts[: frame + 1].numpy(), magnifications[: frame + 1].numpy())\n",
    "    ax2.set_xlim(ts.min().item(), ts.max().item())\n",
    "    ax2.set_ylim(magnifications.min().item() * 0.9, magnifications.max().item() * 1.1)\n",
    "    ax2.axvline(-tE / 2 + t0, color=\"r\", linestyle=\"--\")\n",
    "    ax2.axvline(tE / 2 + t0, color=\"r\", linestyle=\"--\")\n",
    "    ax2.set_xlabel(\"t\")\n",
    "    ax2.set_ylabel(\"A\")\n",
    "    ax2.set_title(\"Light-Curve\")\n",
    "\n",
    "    return img, scatter\n",
    "\n",
    "\n",
    "ani = animation.FuncAnimation(fig, update, frames=B, interval=60)\n",
    "\n",
    "plt.close()\n",
    "\n",
    "# Save animation as gif\n",
    "# ani.save(\"microlensing_animation.gif\", writer='pillow', fps=16)  # Adjust 'fps' for the speed\n",
    "\n",
    "# Or display the animation inline\n",
    "HTML(ani.to_jshtml())"
   ]
  },
  {
   "cell_type": "code",
   "execution_count": null,
   "metadata": {},
   "outputs": [],
   "source": [
    "# noise = 0.02 * torch.randn_like(magnifications)\n",
    "noise = 0.00 * torch.randn_like(magnifications)\n",
    "noisy_mags = magnifications + noise\n",
    "err_mag = 0.02 * torch.ones_like(magnifications)  # set fixed error for now\n",
    "data = np.vstack((ts.view(-1), noisy_mags, err_mag)).T\n",
    "\n",
    "np.savez(\"assets/microlensing_dat\", data=data)"
   ]
  }
 ],
 "metadata": {
  "kernelspec": {
   "display_name": "Python 3",
   "language": "python",
   "name": "python3"
  },
  "language_info": {
   "codemirror_mode": {
    "name": "ipython",
    "version": 3
   },
   "file_extension": ".py",
   "mimetype": "text/x-python",
   "name": "python",
   "nbconvert_exporter": "python",
   "pygments_lexer": "ipython3",
   "version": "3.10.14"
  }
 },
 "nbformat": 4,
 "nbformat_minor": 2
}
