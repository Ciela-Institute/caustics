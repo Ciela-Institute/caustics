{
 "cells": [
  {
   "cell_type": "markdown",
   "id": "1fafae89",
   "metadata": {},
   "source": [
    "# Lensing playground\n",
    "\n",
    "This is just a fun notebook where you can interactively change lensing parameters. It is a great way to build some intuition around lensing and make some cool pictures!"
   ]
  },
  {
   "cell_type": "code",
   "execution_count": 1,
   "id": "c0d85608",
   "metadata": {},
   "outputs": [],
   "source": [
    "%load_ext autoreload\n",
    "%autoreload 2\n",
    "\n",
    "import torch\n",
    "from torch.nn.functional import avg_pool2d\n",
    "import matplotlib.pyplot as plt\n",
    "from ipywidgets import interact\n",
    "from astropy.io import fits\n",
    "import numpy as np\n",
    "\n",
    "import caustic"
   ]
  },
  {
   "cell_type": "code",
   "execution_count": 2,
   "id": "b1ac7bf7",
   "metadata": {},
   "outputs": [
    {
     "data": {
      "text/plain": [
       "FlatLambdaCDM(\n",
       "    name='cosmo',\n",
       "    static=[h0, critical_density_0, Om0],\n",
       "    dynamic=[],\n",
       "    x keys=[]\n",
       ")"
      ]
     },
     "execution_count": 2,
     "metadata": {},
     "output_type": "execute_result"
    }
   ],
   "source": [
    "n_pix = 100\n",
    "res = 0.05\n",
    "upsample_factor = 2\n",
    "fov = res * n_pix\n",
    "thx, thy = caustic.get_meshgrid(res/upsample_factor, upsample_factor*n_pix, upsample_factor*n_pix, dtype=torch.float32)\n",
    "z_l = torch.tensor(0.5, dtype=torch.float32)\n",
    "z_s = torch.tensor(1.5, dtype=torch.float32)\n",
    "cosmology = caustic.FlatLambdaCDM(name = \"cosmo\")\n",
    "cosmology.to(dtype=torch.float32)"
   ]
  },
  {
   "cell_type": "code",
   "execution_count": 3,
   "id": "964a76a6",
   "metadata": {},
   "outputs": [],
   "source": [
    "# SIE lens model, kappa map, alpha map, magnification, time delay, caustics\n",
    "\n",
    "def plot_lens_metrics(thx0, thy0, q, phi, b):\n",
    "    lens = caustic.lenses.SIE(\n",
    "        cosmology = cosmology, \n",
    "        z_l = z_l, \n",
    "        x0 = torch.tensor(thx0), \n",
    "        y0 = torch.tensor(thy0), \n",
    "        q = torch.tensor(q), \n",
    "        phi = torch.tensor(phi), \n",
    "        b = torch.tensor(b),\n",
    "        name = \"sie\", \n",
    "    )\n",
    "    fig, axarr = plt.subplots(2,3, figsize = (9,6))\n",
    "    kappa = avg_pool2d(lens.convergence(thx, thy, z_s)[None, None, :, :], upsample_factor)[0,0]\n",
    "    axarr[0][0].imshow(torch.log10(kappa), origin = \"lower\")\n",
    "    axarr[0][0].set_title(\"log(convergence)\")\n",
    "    psi = avg_pool2d(lens.potential(thx, thy, z_s)[None, None, :, :], upsample_factor)[0,0]\n",
    "    axarr[0][1].imshow(psi, origin = \"lower\")\n",
    "    axarr[0][1].set_title(\"potential\")\n",
    "    timedelay = avg_pool2d(lens.time_delay(thx, thy, z_s)[None, None, :, :], upsample_factor)[0,0]\n",
    "    axarr[0][2].imshow(timedelay, origin = \"lower\")\n",
    "    axarr[0][2].set_title(\"time delay\")\n",
    "    magnification = avg_pool2d(lens.magnification(thx, thy, z_s)[None, None, :, :], upsample_factor)[0,0]\n",
    "    axarr[1][0].imshow(torch.log10(magnification), origin = \"lower\")\n",
    "    axarr[1][0].set_title(\"log(magnification)\")\n",
    "    alpha = lens.reduced_deflection_angle(thx, thy, z_s)\n",
    "    alpha0 = avg_pool2d(alpha[0][None, None, :, :], upsample_factor)[0,0]\n",
    "    alpha1 = avg_pool2d(alpha[1][None, None, :, :], upsample_factor)[0,0]\n",
    "    axarr[1][1].imshow(alpha0, origin = \"lower\")\n",
    "    axarr[1][1].set_title(\"deflection angle x\")\n",
    "    axarr[1][2].imshow(alpha1, origin = \"lower\")\n",
    "    axarr[1][2].set_title(\"deflection angle y\")\n",
    "    plt.show()"
   ]
  },
  {
   "cell_type": "code",
   "execution_count": 4,
   "id": "3b04c973",
   "metadata": {},
   "outputs": [
    {
     "data": {
      "application/vnd.jupyter.widget-view+json": {
       "model_id": "ad38a8d0a53b45e0bde854ffa61da43e",
       "version_major": 2,
       "version_minor": 0
      },
      "text/plain": [
       "interactive(children=(FloatSlider(value=0.0, description='thx0', max=2.5, min=-2.5), FloatSlider(value=0.0, de…"
      ]
     },
     "metadata": {},
     "output_type": "display_data"
    }
   ],
   "source": [
    "p = interact(\n",
    "    plot_lens_metrics, \n",
    "    thx0=(-2.5, 2.5, 0.1), \n",
    "    thy0=(-2.5, 2.5, 0.1), \n",
    "    q=(0.01, 0.99, 0.01), \n",
    "    phi=(0., np.pi, np.pi/25),\n",
    "    b=(0.1, 2., .1),\n",
    ")"
   ]
  },
  {
   "cell_type": "code",
   "execution_count": 5,
   "id": "dce1edef",
   "metadata": {},
   "outputs": [],
   "source": [
    "# Sersic source, demo lensed source\n",
    "def plot_lens_distortion(x0_lens, y0_lens, q_lens, phi_lens, b_lens, x0_src, y0_src, q_src, phi_src, n_src, Re_src, Ie_src):\n",
    "    lens = caustic.lenses.SIE(\n",
    "        cosmology, \n",
    "        z_l, \n",
    "        torch.tensor(x0_lens), \n",
    "        torch.tensor(y0_lens), \n",
    "        torch.tensor(q_lens),\n",
    "        torch.tensor(phi_lens),\n",
    "        torch.tensor(b_lens),\n",
    "        name = \"sie\", \n",
    "    )\n",
    "    source = caustic.sources.Sersic(\n",
    "        torch.tensor(x0_src), \n",
    "        torch.tensor(y0_src), \n",
    "        torch.tensor(q_src), \n",
    "        torch.tensor(phi_src),\n",
    "        torch.tensor(n_src),\n",
    "        torch.tensor(Re_src),\n",
    "        torch.tensor(Ie_src),\n",
    "        name = \"sersic\",\n",
    "    )\n",
    "    fig, axarr = plt.subplots(1, 3, figsize = (18,6))\n",
    "    brightness = avg_pool2d(source.brightness(thx, thy)[None, None, :, :], upsample_factor)[0,0]\n",
    "    axarr[0].imshow(brightness, origin = \"lower\")\n",
    "    axarr[0].set_title(\"Sersic source\")\n",
    "    kappa = avg_pool2d(lens.convergence(thx, thy, z_s)[None, None, :, :], upsample_factor)[0,0]\n",
    "    axarr[1].imshow(torch.log10(kappa), origin = \"lower\")\n",
    "    axarr[1].set_title(\"lens log(convergence)\")\n",
    "    beta_x, beta_y = lens.raytrace(thx, thy, z_s)\n",
    "    mu = avg_pool2d(source.brightness(beta_x, beta_y)[None, None, :, :], upsample_factor)[0,0]\n",
    "    axarr[2].imshow(mu, origin = \"lower\")\n",
    "    axarr[2].set_title(\"Sersic lensed\")\n",
    "    plt.show()"
   ]
  },
  {
   "cell_type": "code",
   "execution_count": 6,
   "id": "c03161b9",
   "metadata": {},
   "outputs": [
    {
     "data": {
      "application/vnd.jupyter.widget-view+json": {
       "model_id": "bf5b0b99b5704fbf9a7fd44504af4fde",
       "version_major": 2,
       "version_minor": 0
      },
      "text/plain": [
       "interactive(children=(FloatSlider(value=0.0, description='x0_lens', max=2.5, min=-2.5), FloatSlider(value=0.0,…"
      ]
     },
     "metadata": {},
     "output_type": "display_data"
    }
   ],
   "source": [
    "p = interact(\n",
    "    plot_lens_distortion, \n",
    "    x0_lens=(-2.5, 2.5, 0.1), \n",
    "    y0_lens=(-2.5, 2.5, 0.1), \n",
    "    q_lens=(0.01, 0.99, 0.01), \n",
    "    phi_lens=(0., np.pi, np.pi/25),\n",
    "    b_lens=(0.1, 2., .1),\n",
    "    x0_src=(-2.5, 2.5, 0.1), \n",
    "    y0_src=(-2.5, 2.5, 0.1), \n",
    "    q_src=(0.01, 0.99, 0.01), \n",
    "    phi_src=(0., np.pi, np.pi/25),\n",
    "    n_src=(0.5,4,0.1),\n",
    "    Re_src=(0.1,2,0.1),\n",
    "    Ie_src=(0.1,2.,0.1),\n",
    ")"
   ]
  },
  {
   "cell_type": "code",
   "execution_count": null,
   "id": "35336e43",
   "metadata": {},
   "outputs": [],
   "source": []
  }
 ],
 "metadata": {
  "kernelspec": {
   "display_name": "PY39",
   "language": "python",
   "name": "py39"
  },
  "language_info": {
   "codemirror_mode": {
    "name": "ipython",
    "version": 3
   },
   "file_extension": ".py",
   "mimetype": "text/x-python",
   "name": "python",
   "nbconvert_exporter": "python",
   "pygments_lexer": "ipython3",
   "version": "3.9.5"
  }
 },
 "nbformat": 4,
 "nbformat_minor": 5
}
