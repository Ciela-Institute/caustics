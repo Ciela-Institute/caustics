{
 "cells": [
  {
   "cell_type": "markdown",
   "id": "0",
   "metadata": {},
   "source": [
    "# Parameters\n",
    "\n",
    "This notebook will walk you through the various ways to interact with parameters in caustics. For each lens and light model there are certain parameters which are given special priority as these parameters are the ones that would be sampled in a simulator. This allows for taking the machinery of caustics and converting it into a function which can use all the power of pytorch, or other sampling/optimization frameworks. \n",
    "\n",
    "Throughout the tutorial, keep in mind that parameters are stored in a directed acyclic graph (DAG). This gives a unique way to access each parameter"
   ]
  },
  {
   "cell_type": "code",
   "execution_count": null,
   "id": "1",
   "metadata": {},
   "outputs": [],
   "source": [
    "%load_ext autoreload\n",
    "%autoreload 2\n",
    "\n",
    "import torch\n",
    "from torch.nn.functional import avg_pool2d\n",
    "import matplotlib.pyplot as plt\n",
    "from astropy.io import fits\n",
    "import numpy as np\n",
    "\n",
    "import caustics"
   ]
  },
  {
   "cell_type": "markdown",
   "id": "2",
   "metadata": {},
   "source": [
    "## Setting static/dynamic parameters\n",
    "\n",
    "Let's see how we can set static and dynamic parameters. In caustics, a dynamic parameter is one which will be involved in sampling and must be provided on evaluation of a function. A static parameter has a fixed value and so \"disappears\" from the graph so that you don't need to worry about it anymore."
   ]
  },
  {
   "cell_type": "code",
   "execution_count": null,
   "id": "3",
   "metadata": {},
   "outputs": [],
   "source": [
    "# Flat cosmology with all dynamic parameters\n",
    "cosmo = caustics.FlatLambdaCDM(name=\"cosmo\", h0=None, Om0=None)\n",
    "\n",
    "# SIE lens with q and b as static parameters\n",
    "lens = caustics.SIE(cosmology=cosmo, q=0.4, b=1.0)\n",
    "\n",
    "# Sersic with all dynamic parameters except the sersic index, effective radius, and effective brightness\n",
    "source = caustics.Sersic(name=\"source\", n=2.0, Re=1.0, Ie=1.0)\n",
    "\n",
    "# Sersic with all dynamic parameters except the x position, position angle, and effective radius\n",
    "lens_light = caustics.Sersic(name=\"lenslight\", x0=0.0, phi=1.3, Re=1.0)\n",
    "\n",
    "# A simulator which captures all these parameters into a single DAG\n",
    "sim = caustics.Lens_Source(\n",
    "    lens=lens, source=source, lens_light=lens_light, pixelscale=0.05, pixels_x=100\n",
    ")"
   ]
  },
  {
   "cell_type": "markdown",
   "id": "4",
   "metadata": {},
   "source": [
    "We can have the simulator print a graph of the DAG from it's perspective. Note that the white boxes are dynamic parameters while the grey boxes are static parameters"
   ]
  },
  {
   "cell_type": "code",
   "execution_count": null,
   "id": "5",
   "metadata": {},
   "outputs": [],
   "source": [
    "sim.get_graph(True, True)"
   ]
  },
  {
   "cell_type": "code",
   "execution_count": null,
   "id": "6",
   "metadata": {},
   "outputs": [],
   "source": [
    "# Accessing a parameter and giving it a value will turn it into a static parameter\n",
    "sim.SIE.phi = 0.4\n",
    "sim.get_graph(True, True)"
   ]
  },
  {
   "cell_type": "code",
   "execution_count": null,
   "id": "7",
   "metadata": {},
   "outputs": [],
   "source": [
    "# Accessing a parameter and setting it to None will turn it into a dynamic parameter\n",
    "sim.lenslight.x0 = None\n",
    "sim.get_graph(True, True)"
   ]
  },
  {
   "cell_type": "code",
   "execution_count": null,
   "id": "8",
   "metadata": {},
   "outputs": [],
   "source": [
    "# This also gives us the order of parameters for a vector that can be an input to the sim function\n",
    "x_tens = torch.tensor(\n",
    "    [\n",
    "        1.5,  # z_s\n",
    "        0.5,  # sie z_l\n",
    "        0.1,  # sie x0\n",
    "        -0.1,  # sie y0\n",
    "        0.7,  # sie cosmo h0\n",
    "        0.31,  # sie cosmo Om0\n",
    "        0.0,  # source x0\n",
    "        0.0,  # source y0\n",
    "        0.7,  # source q\n",
    "        1.4,  # source phi\n",
    "        0.1,  # lenslight x0\n",
    "        -0.1,  # lenslight y0\n",
    "        0.6,  # lenslight q\n",
    "        3.0,  # lenslight n\n",
    "        1.0,  # lenslight Ie\n",
    "    ]\n",
    ")\n",
    "res_tens = sim(x_tens)\n",
    "\n",
    "# alternatively we can construct a dictionary\n",
    "x_dict = {\n",
    "    \"sim\": {\n",
    "        \"z_s\": torch.tensor(1.5),\n",
    "    },\n",
    "    \"SIE\": {\n",
    "        \"z_l\": torch.tensor(0.5),\n",
    "        \"x0\": torch.tensor(0.1),\n",
    "        \"y0\": torch.tensor(-0.1),\n",
    "    },\n",
    "    \"cosmo\": {\n",
    "        \"h0\": torch.tensor(0.7),\n",
    "        \"Om0\": torch.tensor(0.31),\n",
    "    },\n",
    "    \"source\": {\n",
    "        \"x0\": torch.tensor(0.0),\n",
    "        \"y0\": torch.tensor(0.0),\n",
    "        \"q\": torch.tensor(0.7),\n",
    "        \"phi\": torch.tensor(1.4),\n",
    "    },\n",
    "    \"lenslight\": {\n",
    "        \"x0\": torch.tensor(0.1),\n",
    "        \"y0\": torch.tensor(-0.1),\n",
    "        \"q\": torch.tensor(0.6),\n",
    "        \"n\": torch.tensor(3.0),\n",
    "        \"Ie\": torch.tensor(1.0),\n",
    "    },\n",
    "}\n",
    "res_dict = sim(x_dict)\n",
    "\n",
    "fig, axarr = plt.subplots(1, 2, figsize=(16, 8))\n",
    "axarr[0].imshow(res_tens, origin=\"lower\")\n",
    "axarr[0].set_title(\"Simulator from tensor\")\n",
    "axarr[1].imshow(res_dict, origin=\"lower\")\n",
    "axarr[1].set_title(\"Simulator from dictionary\")\n",
    "plt.show()"
   ]
  },
  {
   "cell_type": "markdown",
   "id": "9",
   "metadata": {},
   "source": [
    "## Manual Inputs\n",
    "\n",
    "We have now seen the standard `pack` method of passing dynamic parameters to a caustics function/simulator. This is very powerful at scale, but can be tedious to enter by hand while prototyping and doing tests. Now lets see a more manual way to pass parameters to a function. For this lets try getting the exact position of each of the 4 images of the background source."
   ]
  },
  {
   "cell_type": "code",
   "execution_count": null,
   "id": "10",
   "metadata": {},
   "outputs": [],
   "source": [
    "# First find the position of each of the images\n",
    "x, y = lens.forward_raytrace(\n",
    "    torch.tensor(0.0),  # First three arguments are regular function arguments\n",
    "    torch.tensor(0.0),\n",
    "    torch.tensor(1.5),\n",
    "    z_l=torch.tensor(0.5),  # Next three are kwargs which give the SIE parameters\n",
    "    x0=torch.tensor(0.1),\n",
    "    y0=torch.tensor(-0.1),\n",
    "    cosmo_h0=torch.tensor(\n",
    "        0.7\n",
    "    ),  # Next two are parameters needed for \"cosmo\" and so they are named as such\n",
    "    cosmo_Om0=torch.tensor(0.31),\n",
    "    fov=0.05 * 100,  # Next two are kwargs for the \"forward_raytrace\" method\n",
    "    n_init=100,\n",
    ")\n",
    "\n",
    "fig, ax = plt.subplots(figsize=(8, 8))\n",
    "ax.imshow(\n",
    "    res_tens,\n",
    "    extent=(-0.05 * 100 / 2, 0.05 * 100 / 2, -0.05 * 100 / 2, 0.05 * 100 / 2),\n",
    "    origin=\"lower\",\n",
    ")\n",
    "ax.scatter(x.detach().cpu().numpy(), y.detach().cpu().numpy(), color=\"r\")\n",
    "plt.show()"
   ]
  },
  {
   "cell_type": "code",
   "execution_count": null,
   "id": "11",
   "metadata": {},
   "outputs": [],
   "source": []
  }
 ],
 "metadata": {
  "language_info": {
   "codemirror_mode": {
    "name": "ipython",
    "version": 3
   },
   "file_extension": ".py",
   "mimetype": "text/x-python",
   "name": "python",
   "nbconvert_exporter": "python",
   "pygments_lexer": "ipython3"
  }
 },
 "nbformat": 4,
 "nbformat_minor": 5
}
