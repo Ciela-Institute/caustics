{
 "cells": [
  {
   "cell_type": "markdown",
   "id": "b7d08f1d",
   "metadata": {},
   "source": [
    "# Inverting the Lens Equation\n",
    "\n",
    "The lens equation $\\vec{\\beta} = \\vec{\\theta} - \\vec{\\alpha}(\\vec{\\theta})$ allows us to find a point in the source plane given a point in the image plane. However, sometimes we know a point in the source plane and would like to see where it ends up in the image plane. This is not easy to do since a point in the source plane may map to multiple locations in the image plane. There is no closed form function to invert the lens equation, in large part because the deflection angle $\\vec{\\alpha}$ depends on the position in the image plane $\\vec{\\theta}$. To invert the lens equation, we will need to rely on optimization and a little luck to find all the images for a given source plane point. Below we will demonstrate how this is done in caustic!"
   ]
  },
  {
   "cell_type": "code",
   "execution_count": null,
   "id": "4027aaf9",
   "metadata": {},
   "outputs": [],
   "source": [
    "%load_ext autoreload\n",
    "%autoreload 2\n",
    "\n",
    "from functools import partial\n",
    "\n",
    "import torch\n",
    "from torch.nn.functional import avg_pool2d\n",
    "import matplotlib.pyplot as plt\n",
    "from ipywidgets import interact\n",
    "from astropy.io import fits\n",
    "import numpy as np\n",
    "from time import process_time as time\n",
    "\n",
    "import caustics"
   ]
  },
  {
   "cell_type": "code",
   "execution_count": null,
   "id": "2118e1c1",
   "metadata": {},
   "outputs": [],
   "source": [
    "# initialization stuff for an SIE lens\n",
    "\n",
    "cosmology = caustics.FlatLambdaCDM(name=\"cosmo\")\n",
    "cosmology.to(dtype=torch.float32)\n",
    "n_pix = 100\n",
    "res = 0.05\n",
    "upsample_factor = 2\n",
    "fov = res * n_pix\n",
    "thx, thy = caustics.get_meshgrid(\n",
    "    res / upsample_factor,\n",
    "    upsample_factor * n_pix,\n",
    "    upsample_factor * n_pix,\n",
    "    dtype=torch.float32,\n",
    ")\n",
    "z_l = torch.tensor(0.5, dtype=torch.float32)\n",
    "z_s = torch.tensor(1.5, dtype=torch.float32)\n",
    "lens = caustics.SIE(\n",
    "    cosmology=cosmology,\n",
    "    name=\"sie\",\n",
    "    z_l=z_l,\n",
    "    x0=torch.tensor(0.0),\n",
    "    y0=torch.tensor(0.0),\n",
    "    q=torch.tensor(0.4),\n",
    "    phi=torch.tensor(np.pi / 5),\n",
    "    b=torch.tensor(1.0),\n",
    ")"
   ]
  },
  {
   "cell_type": "code",
   "execution_count": null,
   "id": "98e46aa1",
   "metadata": {},
   "outputs": [],
   "source": [
    "# Point in the source plane\n",
    "sp_x = torch.tensor(0.2)\n",
    "sp_y = torch.tensor(0.2)\n",
    "\n",
    "# Points in image plane\n",
    "x, y = lens.forward_raytrace(sp_x, sp_y, z_s)\n",
    "\n",
    "# Raytrace to check\n",
    "bx, by = lens.raytrace(x, y, z_s)"
   ]
  },
  {
   "cell_type": "code",
   "execution_count": null,
   "id": "eb73147c",
   "metadata": {},
   "outputs": [],
   "source": [
    "fig, ax = plt.subplots()\n",
    "\n",
    "A = lens.jacobian_lens_equation(thx, thy, z_s)\n",
    "detA = torch.linalg.det(A)\n",
    "CS = ax.contour(thx, thy, detA, levels=[0.0], colors=\"b\", zorder=1)\n",
    "# Get the path from the matplotlib contour plot of the critical line\n",
    "paths = CS.collections[0].get_paths()\n",
    "caustic_paths = []\n",
    "for path in paths:\n",
    "    # Collect the path into a descrete set of points\n",
    "    vertices = path.interpolated(5).vertices\n",
    "    x1 = torch.tensor(list(float(vs[0]) for vs in vertices))\n",
    "    x2 = torch.tensor(list(float(vs[1]) for vs in vertices))\n",
    "    # raytrace the points to the source plane\n",
    "    y1, y2 = lens.raytrace(x1, x2, z_s)\n",
    "\n",
    "    # Plot the caustic\n",
    "    ax.plot(y1, y2, color=\"r\", zorder=1)\n",
    "ax.scatter(x, y, color=\"b\", label=\"forward raytrace\", zorder=10)\n",
    "ax.scatter(bx, by, color=\"r\", marker=\"x\", label=\"source plane\", zorder=9)\n",
    "ax.scatter([sp_x.item()], [sp_y.item()], color=\"g\", label=\"true pos\", zorder=8)\n",
    "plt.legend()\n",
    "plt.show()"
   ]
  },
  {
   "cell_type": "code",
   "execution_count": null,
   "id": "a0aa515f",
   "metadata": {},
   "outputs": [],
   "source": []
  }
 ],
 "metadata": {
  "language_info": {
   "codemirror_mode": {
    "name": "ipython",
    "version": 3
   },
   "file_extension": ".py",
   "mimetype": "text/x-python",
   "name": "python",
   "nbconvert_exporter": "python",
   "pygments_lexer": "ipython3"
  }
 },
 "nbformat": 4,
 "nbformat_minor": 5
}
