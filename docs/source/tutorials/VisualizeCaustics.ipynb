{
 "cells": [
  {
   "cell_type": "markdown",
   "id": "3bb2cd70-e98d-4e8d-b195-64d7e5de6e13",
   "metadata": {},
   "source": [
    "# Visualize Caustics\n",
    "\n",
    "Here we will demonstrate how to collect caustic lines using caustic! Since caustic (the code) uses autodiff and can get exact derivatives, it is actually very acurate at computing caustics. \n",
    "\n",
    "Conceptually a caustic occurs where the magnification of a lens diverges to infinity. A convenient way to measure the magnification in the image plane is by taking the determinant ($det$) of the jacobian of the lens equation ($A$), its reciprocal is the magnification. This means that anywhere that $det(A) = 0$ is a critical line in the image plane (magnification goes to infinity). If we take this line and raytrace it back to the source plane we can see the caustics which define boundaries for lensing phenomena."
   ]
  },
  {
   "cell_type": "code",
   "execution_count": null,
   "id": "f716feef",
   "metadata": {},
   "outputs": [],
   "source": [
    "%load_ext autoreload\n",
    "%autoreload 2\n",
    "\n",
    "import torch\n",
    "from torch.nn.functional import avg_pool2d\n",
    "import matplotlib.pyplot as plt\n",
    "from ipywidgets import interact\n",
    "from astropy.io import fits\n",
    "import numpy as np\n",
    "from time import process_time as time\n",
    "\n",
    "import caustics"
   ]
  },
  {
   "cell_type": "code",
   "execution_count": null,
   "id": "bdede2df",
   "metadata": {},
   "outputs": [],
   "source": [
    "# initialization stuff for an SIE lens\n",
    "\n",
    "cosmology = caustics.FlatLambdaCDM(name=\"cosmo\")\n",
    "cosmology.to(dtype=torch.float32)\n",
    "sie = caustics.lenses.SIE(cosmology, name=\"sie\")\n",
    "n_pix = 100\n",
    "res = 0.05\n",
    "upsample_factor = 2\n",
    "fov = res * n_pix\n",
    "thx, thy = caustics.get_meshgrid(\n",
    "    res / upsample_factor,\n",
    "    upsample_factor * n_pix,\n",
    "    upsample_factor * n_pix,\n",
    "    dtype=torch.float32,\n",
    ")\n",
    "z_l = torch.tensor(0.5, dtype=torch.float32)\n",
    "z_s = torch.tensor(1.5, dtype=torch.float32)\n",
    "x = torch.tensor(\n",
    "    [\n",
    "        z_l.item(),  # sie z_l\n",
    "        0.0,  # sie x0\n",
    "        0.0,  # sie y0\n",
    "        0.4,  # sie q\n",
    "        np.pi / 5,  # sie phi\n",
    "        1.0,  # sie b\n",
    "    ]\n",
    ")\n",
    "packparams = sie.pack(x)"
   ]
  },
  {
   "cell_type": "markdown",
   "id": "38dd09e3",
   "metadata": {},
   "source": [
    "## Critical Lines\n",
    "\n",
    "Before we can see the caustics, we need to find the critical lines. The critical lines are the locus of points in the lens plane (the plane of the mass causing the lensing) at which the magnification of the source becomes theoretically infinite for a point source. In simpler terms, it is where the lensing effect becomes so strong that it can create highly magnified and distorted images of the source. The shape and size of the critical curve depend on the distribution of mass in the lensing object. These lines can be found using the Jacobian of the lensing deflection, specifically $A = \\mathbb{I} - J$. When ${\\rm det}(A) = 0$, that point is on the critical line. Interestingly, $\\frac{1}{{\\rm det}(A)}$ is the magnification, which is why ${\\rm det}(A) = 0$ defines the points of infinite magnification."
   ]
  },
  {
   "cell_type": "code",
   "execution_count": null,
   "id": "487b3030",
   "metadata": {},
   "outputs": [],
   "source": [
    "# Conveniently caustic has a function to compute the jacobian of the lens equation\n",
    "A = sie.jacobian_lens_equation(thx, thy, z_s, packparams)\n",
    "# Note that if this is too slow you can set `method = \"finitediff\"` to run a faster version. You will also need to provide `pixelscale` then\n",
    "\n",
    "# Here we compute A's determinant at every point\n",
    "detA = torch.linalg.det(A)\n",
    "\n",
    "# Plot the critical line\n",
    "im = plt.imshow(\n",
    "    detA, extent=(thx[0][0], thx[0][-1], thy[0][0], thy[-1][0]), origin=\"lower\"\n",
    ")\n",
    "plt.colorbar(im)\n",
    "CS = plt.contour(thx, thy, detA, levels=[0.0], colors=\"b\")\n",
    "\n",
    "plt.show()"
   ]
  },
  {
   "cell_type": "markdown",
   "id": "3b099cfd",
   "metadata": {},
   "source": [
    "## Caustics\n",
    "\n",
    "Critical lines show us where the magnification approaches infinity, they are important structures in understanding a lensing system. These lines are also very useful when mapped into the source plane. When the critical lines are raytraced back to the source plane they are called caustics (see what we did there?). In the source plane these lines deliniate when a source will be multiply imaged. "
   ]
  },
  {
   "cell_type": "code",
   "execution_count": null,
   "id": "0c1f1177",
   "metadata": {},
   "outputs": [],
   "source": [
    "# Get the path from the matplotlib contour plot of the critical line\n",
    "paths = CS.collections[0].get_paths()\n",
    "\n",
    "for path in paths:\n",
    "    # Collect the path into a descrete set of points\n",
    "    vertices = path.interpolated(5).vertices\n",
    "    x1 = torch.tensor(list(float(vs[0]) for vs in vertices))\n",
    "    x2 = torch.tensor(list(float(vs[1]) for vs in vertices))\n",
    "    # raytrace the points to the source plane\n",
    "    y1, y2 = sie.raytrace(x1, x2, z_s, packparams)\n",
    "\n",
    "    # Plot the caustic\n",
    "    plt.plot(y1, y2)\n",
    "plt.show()"
   ]
  },
  {
   "cell_type": "code",
   "execution_count": null,
   "id": "1e77da2e",
   "metadata": {},
   "outputs": [],
   "source": []
  }
 ],
 "metadata": {
  "language_info": {
   "codemirror_mode": {
    "name": "ipython",
    "version": 3
   },
   "file_extension": ".py",
   "mimetype": "text/x-python",
   "name": "python",
   "nbconvert_exporter": "python",
   "pygments_lexer": "ipython3"
  }
 },
 "nbformat": 4,
 "nbformat_minor": 5
}
