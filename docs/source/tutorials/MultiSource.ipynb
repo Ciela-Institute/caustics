{
 "cells": [
  {
   "cell_type": "markdown",
   "metadata": {},
   "source": [
    "# Multi-Source Modelling\n",
    "\n",
    "Sometimes a lensing system will have aligned with multiple sources of light. These will be at different source redshifts and so some consideration must be taken to model the image of both objects. Here we will demonstrate a case of a single gravitational lens projecting two sources."
   ]
  },
  {
   "cell_type": "code",
   "execution_count": null,
   "metadata": {},
   "outputs": [],
   "source": [
    "%load_ext autoreload\n",
    "%autoreload 2\n",
    "%matplotlib inline\n",
    "\n",
    "import matplotlib.pyplot as plt\n",
    "from numpy import pi\n",
    "import torch\n",
    "from torch.nn.functional import avg_pool2d\n",
    "import caustics\n",
    "from caustics import Module, forward, Param"
   ]
  },
  {
   "cell_type": "markdown",
   "metadata": {},
   "source": [
    "Lets define the objects we will need in the lensing system. The cosmology and lens are like normal, but now we have two sources. Also, the Einstein radius of the lens is usually set to a single value, but that value is encoding information about the lens configuration and is related to the redshift of the source, this only makes sense for a single plane system. We can't conveniently pack that away anymore, so we set the SIE to have a physical parametrization (velocity dispersion) and then ``caustics`` will work out what the Einstein radius should be relative to each source."
   ]
  },
  {
   "cell_type": "code",
   "execution_count": null,
   "metadata": {},
   "outputs": [],
   "source": [
    "cosmology = caustics.FlatLambdaCDM()\n",
    "# Set z_s to nan so we know if it gets accidentally used somewhere\n",
    "# Set the lens to a physical parametrization so multi-source works properly\n",
    "lens = caustics.SIE(\n",
    "    cosmology=cosmology,\n",
    "    name=\"lens\",\n",
    "    z_l=0.5,\n",
    "    z_s=torch.nan,\n",
    "    x0=0.0,\n",
    "    y0=0.0,\n",
    "    q=0.5,\n",
    "    phi=0.0,\n",
    "    sigma_v=250,\n",
    "    parametrization=\"velocity_dispersion\",\n",
    ")\n",
    "src1 = caustics.Sersic(\n",
    "    name=\"source1\", x0=0.0, y0=0.0, q=0.6, phi=pi / 3, n=4.0, Re=0.4, Ie=0.5\n",
    ")\n",
    "src2 = caustics.Sersic(\n",
    "    name=\"source2\", x0=0.1, y0=0.2, q=0.3, phi=-pi / 4, n=2.0, Re=1.5, Ie=1.5\n",
    ")"
   ]
  },
  {
   "cell_type": "code",
   "execution_count": null,
   "metadata": {},
   "outputs": [],
   "source": [
    "# Define the pixel grid for imaging\n",
    "n_pix = 100\n",
    "res = 0.05\n",
    "upsample_factor = 3"
   ]
  },
  {
   "cell_type": "markdown",
   "metadata": {},
   "source": [
    "Below we define a new ``LensSource`` Module, except that now it takes two sources, so it is ``LensTwoSources``. During runtime the source redshift for the lens is overridden with the two values. For each source the lensing proceeds like normal."
   ]
  },
  {
   "cell_type": "code",
   "execution_count": null,
   "metadata": {},
   "outputs": [],
   "source": [
    "class LensTwoSources(Module):\n",
    "    def __init__(self, lens, src1, src2, z_s1, z_s2):\n",
    "        super().__init__()\n",
    "        self.lens = lens\n",
    "        self.src1 = src1\n",
    "        self.src2 = src2\n",
    "        self.z_s1 = Param(\"z_s1\", z_s1)\n",
    "        self.z_s2 = Param(\"z_s2\", z_s2)\n",
    "        theta_x, theta_y = caustics.utils.meshgrid(\n",
    "            res / upsample_factor,\n",
    "            upsample_factor * n_pix,\n",
    "            dtype=torch.float32,\n",
    "        )\n",
    "        self.theta_x = theta_x\n",
    "        self.theta_y = theta_y\n",
    "\n",
    "    @forward\n",
    "    def sample(self, z_s1, z_s2, source1=True, source2=True):\n",
    "        mu = torch.zeros_like(self.theta_x)\n",
    "\n",
    "        if source1:\n",
    "            # Note we override the lens z_s parameter just for this one raytrace call\n",
    "            bx, by = self.lens.raytrace(self.theta_x, self.theta_y, z_s=z_s1)\n",
    "            mu += self.src1.brightness(bx, by)\n",
    "\n",
    "        if source2:\n",
    "            # Note here we override z_s with a different value\n",
    "            bx, by = self.lens.raytrace(self.theta_x, self.theta_y, z_s=z_s2)\n",
    "            mu += self.src2.brightness(bx, by)\n",
    "\n",
    "        return avg_pool2d(mu[None][None], upsample_factor).squeeze()"
   ]
  },
  {
   "cell_type": "code",
   "execution_count": null,
   "metadata": {},
   "outputs": [],
   "source": [
    "lts_sim = LensTwoSources(lens, src1, src2, z_s1=0.8, z_s2=1.5)\n",
    "\n",
    "# Sample the image\n",
    "img = lts_sim.sample()"
   ]
  },
  {
   "cell_type": "code",
   "execution_count": null,
   "metadata": {
    "tags": [
     "hide-input"
    ]
   },
   "outputs": [],
   "source": [
    "fig, axarr = plt.subplots(1, 3, figsize=(15, 5))\n",
    "axarr[0].imshow(img, cmap=\"inferno\")\n",
    "axarr[0].axis(\"off\")\n",
    "axarr[0].set_title(\"Two sources\")\n",
    "axarr[1].imshow(lts_sim.sample(source2=False), cmap=\"inferno\")\n",
    "axarr[1].axis(\"off\")\n",
    "axarr[1].set_title(\"Source 1\")\n",
    "axarr[2].imshow(lts_sim.sample(source1=False), cmap=\"inferno\")\n",
    "axarr[2].axis(\"off\")\n",
    "axarr[2].set_title(\"Source 2\")\n",
    "plt.show()"
   ]
  },
  {
   "cell_type": "code",
   "execution_count": null,
   "metadata": {},
   "outputs": [],
   "source": []
  }
 ],
 "metadata": {
  "kernelspec": {
   "display_name": "PY39",
   "language": "python",
   "name": "python3"
  },
  "language_info": {
   "codemirror_mode": {
    "name": "ipython",
    "version": 3
   },
   "file_extension": ".py",
   "mimetype": "text/x-python",
   "name": "python",
   "nbconvert_exporter": "python",
   "pygments_lexer": "ipython3",
   "version": "3.9.5"
  }
 },
 "nbformat": 4,
 "nbformat_minor": 2
}
