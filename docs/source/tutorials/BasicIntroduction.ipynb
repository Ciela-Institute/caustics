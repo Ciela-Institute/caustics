{
 "cells": [
  {
   "cell_type": "markdown",
   "metadata": {},
   "source": [
    "# Welcome to Caustic!\n",
    "\n",
    "In need of a differentiable strong gravitational lensing simulation package? Look no further! We have all your lensing simulator needs. In this tutorial we will cover the basics of caustic and how to get going making your own lensing configurations. Caustic is easy to use and very powerful, you will get to see some of that power here, but there will be more notebooks which demo specific use cases."
   ]
  },
  {
   "cell_type": "code",
   "execution_count": null,
   "metadata": {},
   "outputs": [],
   "source": [
    "%load_ext autoreload\n",
    "%autoreload 2\n",
    "\n",
    "import torch\n",
    "from torch.nn.functional import avg_pool2d\n",
    "import matplotlib.pyplot as plt\n",
    "from astropy.io import fits\n",
    "import numpy as np\n",
    "\n",
    "import caustics"
   ]
  },
  {
   "cell_type": "code",
   "execution_count": null,
   "metadata": {},
   "outputs": [],
   "source": [
    "# Specify the image/cosmology parameters\n",
    "n_pix = 100\n",
    "res = 0.05\n",
    "upsample_factor = 2\n",
    "fov = res * n_pix\n",
    "thx, thy = caustics.get_meshgrid(\n",
    "    res / upsample_factor,\n",
    "    upsample_factor * n_pix,\n",
    "    upsample_factor * n_pix,\n",
    "    dtype=torch.float32,\n",
    ")\n",
    "z_l = torch.tensor(0.5, dtype=torch.float32)\n",
    "z_s = torch.tensor(1.5, dtype=torch.float32)\n",
    "cosmology = caustics.FlatLambdaCDM(name=\"cosmo\")\n",
    "cosmology.to(dtype=torch.float32)"
   ]
  },
  {
   "cell_type": "markdown",
   "metadata": {},
   "source": [
    "## Simulating an SIE lens\n",
    "\n",
    "Here we will demo the very basics of lensing with a classic `SIE` lens model. We will see what it takes to make an `SIE` model, lens a backgorund `Sersic` source, and sample some examples in a simulator. Caustic simulators can generalize to very complex scenarios. In these cases there can be a lot of parameters moving through the simulator, and the order/number of parameters may change depending on what lens or source is being used. To streamline this process, caustic impliments a class called `Parametrized` which has some knowledge of the parameters moving through it, this way it can keep track of everything for you. For this to work, you must put the parameters into a `Packed` object which it can recognize, each sub function can then unpack the parameters it needs. Below we will show some examples of what this looks like."
   ]
  },
  {
   "cell_type": "code",
   "execution_count": null,
   "metadata": {},
   "outputs": [],
   "source": [
    "# demo simulator with sersic source, SIE lens. then sample some examples. demo the model graph\n",
    "\n",
    "\n",
    "class Simple_Sim(caustics.Simulator):\n",
    "    def __init__(\n",
    "        self,\n",
    "        lens,\n",
    "        src,\n",
    "        z_s=None,\n",
    "        name: str = \"sim\",\n",
    "    ):\n",
    "        super().__init__(name)  # need this so `Parametrized` can do its magic\n",
    "\n",
    "        # These are the lens and source objects to keep track of\n",
    "        self.lens = lens\n",
    "        self.src = src\n",
    "\n",
    "        # Here we can add a parameter to the simulator, in this case it is `z_s` which we will need later\n",
    "        self.add_param(\"z_s\", z_s)\n",
    "\n",
    "    def forward(self, params):  # define the forward model\n",
    "        # Here the simulator unpacks the parameter it needs\n",
    "        z_s = self.unpack(params)\n",
    "\n",
    "        # Note this is very similar to before, except the packed up `x` is all the raytrace function needs to work\n",
    "        bx, by = self.lens.raytrace(thx, thy, z_s, params)\n",
    "        mu_fine = self.src.brightness(bx, by, params)\n",
    "\n",
    "        # We return the sampled brightness at each pixel location\n",
    "        return avg_pool2d(mu_fine.squeeze()[None, None], upsample_factor)[0, 0]"
   ]
  },
  {
   "cell_type": "code",
   "execution_count": null,
   "metadata": {},
   "outputs": [],
   "source": [
    "sie = caustics.lenses.SIE(cosmology, name=\"sie\")\n",
    "src = caustics.light.Sersic(name=\"src\")\n",
    "\n",
    "sim = Simple_Sim(sie, src, torch.tensor(0.8))\n",
    "\n",
    "sim.get_graph(True, True)"
   ]
  },
  {
   "cell_type": "code",
   "execution_count": null,
   "metadata": {},
   "outputs": [],
   "source": [
    "print(sim)\n",
    "print(sie)"
   ]
  },
  {
   "cell_type": "code",
   "execution_count": null,
   "metadata": {},
   "outputs": [],
   "source": [
    "# Reading the x_keys above we can input the parameters that we would like the simulator to evaluate\n",
    "x = torch.tensor(\n",
    "    [\n",
    "        z_l.item(),  # sie z_l\n",
    "        0.7,  # sie x0\n",
    "        0.13,  # sie y0\n",
    "        0.4,  # sie q\n",
    "        np.pi / 5,  # sie phi\n",
    "        1.0,  # sie b\n",
    "        0.2,  # src x0\n",
    "        0.5,  # src y0\n",
    "        0.5,  # src q\n",
    "        -np.pi / 4,  # src phi\n",
    "        1.5,  # src n\n",
    "        2.5,  # src Re\n",
    "        1.0,  # src Ie\n",
    "    ]\n",
    ")\n",
    "plt.imshow(sim(x), origin=\"lower\")\n",
    "plt.show()"
   ]
  },
  {
   "cell_type": "markdown",
   "metadata": {},
   "source": [
    "## Where to go next?\n",
    "\n",
    "The caustic tutorials are generally short and to the point, that way you can idenfity what you want and jump right to some useful code that demo's the particular problem you face. Below is a list of caustic tutorials and a quick description of what you will learn in each one::\n",
    "\n",
    "- `LensZoo`: here you can see all the built-in lens mass distributions in `caustic` and how they distort the same background Seric source.\n",
    "- `Playground`: here we demo the main visualizations of a lensing system (deflection angles, convergence, potential, time delay, magnification) in an interactive display so you can change the parameters by hand and see how the visuals change!\n",
    "- `VisualizeCaustics`: here you can see how to find and display caustics, a must when using `caustic`!\n",
    "- `Simulators`: here we describe the powerful simulator framework and how it can be used to quickly swap models, parameters, and other features and turn a complex forward model into a simple function.\n",
    "- `InvertLensEquation`: here we demo forward ray tracing in `caustic` the process of mapping from the source plane to the image plane."
   ]
  },
  {
   "cell_type": "code",
   "execution_count": null,
   "metadata": {},
   "outputs": [],
   "source": []
  }
 ],
 "metadata": {
  "language_info": {
   "codemirror_mode": {
    "name": "ipython",
    "version": 3
   },
   "file_extension": ".py",
   "mimetype": "text/x-python",
   "name": "python",
   "nbconvert_exporter": "python",
   "pygments_lexer": "ipython3"
  }
 },
 "nbformat": 4,
 "nbformat_minor": 4
}
